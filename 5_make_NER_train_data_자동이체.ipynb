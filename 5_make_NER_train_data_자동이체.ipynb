{
 "cells": [
  {
   "cell_type": "code",
   "outputs": [],
   "source": [
    "import pandas as pd\n",
    "import json"
   ],
   "metadata": {
    "collapsed": false,
    "ExecuteTime": {
     "end_time": "2024-04-03T05:42:13.640403Z",
     "start_time": "2024-04-03T05:42:13.636790Z"
    }
   },
   "id": "e69afe5fddde32fc",
   "execution_count": 3
  },
  {
   "cell_type": "markdown",
   "source": [
    "## 자동 이체"
   ],
   "metadata": {
    "collapsed": false
   },
   "id": "c5609120ba2fa302"
  },
  {
   "cell_type": "code",
   "outputs": [
    {
     "data": {
      "text/plain": "                                             message\n0  [Web발신] [신한은행] 장＊진 고객님께서 (주) 인터파크 업체(기관코드 1000...\n1  [Web발신] [신한은행] 장＊진 고객님께서 주식회사 차이코퍼레이션(기관코드 C10...\n2  [Web발신] [신한은행] 장＊진 고객님께서 차이코퍼레이션 업체(기관코드 00410...\n3  [Web발신] [신한은행] 장＊진 고객님께서 비즈플레이(기관코드 K210100017...\n4  [Web발신] [신한은행] 장＊진 고객님께서 비즈제로페이 업체(기관코드 004500...",
      "text/html": "<div>\n<style scoped>\n    .dataframe tbody tr th:only-of-type {\n        vertical-align: middle;\n    }\n\n    .dataframe tbody tr th {\n        vertical-align: top;\n    }\n\n    .dataframe thead th {\n        text-align: right;\n    }\n</style>\n<table border=\"1\" class=\"dataframe\">\n  <thead>\n    <tr style=\"text-align: right;\">\n      <th></th>\n      <th>message</th>\n    </tr>\n  </thead>\n  <tbody>\n    <tr>\n      <th>0</th>\n      <td>[Web발신] [신한은행] 장＊진 고객님께서 (주) 인터파크 업체(기관코드 1000...</td>\n    </tr>\n    <tr>\n      <th>1</th>\n      <td>[Web발신] [신한은행] 장＊진 고객님께서 주식회사 차이코퍼레이션(기관코드 C10...</td>\n    </tr>\n    <tr>\n      <th>2</th>\n      <td>[Web발신] [신한은행] 장＊진 고객님께서 차이코퍼레이션 업체(기관코드 00410...</td>\n    </tr>\n    <tr>\n      <th>3</th>\n      <td>[Web발신] [신한은행] 장＊진 고객님께서 비즈플레이(기관코드 K210100017...</td>\n    </tr>\n    <tr>\n      <th>4</th>\n      <td>[Web발신] [신한은행] 장＊진 고객님께서 비즈제로페이 업체(기관코드 004500...</td>\n    </tr>\n  </tbody>\n</table>\n</div>"
     },
     "execution_count": 4,
     "metadata": {},
     "output_type": "execute_result"
    }
   ],
   "source": [
    "# 파일 경로\n",
    "file_path = './data/키워드추출/자동이체키워드.xlsx'\n",
    "\n",
    "# 파일 내용 읽기\n",
    "data = pd.read_excel(file_path)\n",
    "\n",
    "# 데이터의 첫 5행을 출력해 데이터의 구조를 확인\n",
    "data.head()\n"
   ],
   "metadata": {
    "collapsed": false,
    "ExecuteTime": {
     "end_time": "2024-04-03T05:42:13.671464Z",
     "start_time": "2024-04-03T05:42:13.654791Z"
    }
   },
   "id": "b3920dd1c903c5cf",
   "execution_count": 4
  },
  {
   "cell_type": "code",
   "outputs": [],
   "source": [
    "new_data1 = [{\n",
    "\"BANK\": \"신한은행\",\n",
    "\"COMPANY\": \"(주) 인터파크 업체\"\n",
    "},\n",
    "{\n",
    "\"BANK\": \"신한은행\",\n",
    "\"COMPANY\": \"주식회사 차이코퍼레이션\"\n",
    "},\n",
    "{\n",
    "\"BANK\": \"신한은행\",\n",
    "\"COMPANY\": \"차이코퍼레이션 업체\"\n",
    "},\n",
    "{\n",
    "\"BANK\": \"신한은행\",\n",
    "\"COMPANY\": \"비즈플레이\"\n",
    "},\n",
    "{\n",
    "\"BANK\": \"신한은행\",\n",
    "\"COMPANY\": \"비즈제로페이 업체\"\n",
    "},\n",
    "{\n",
    "\"BANK\": \"카카오뱅크\",\n",
    "\"COMPANY\": \"비바리퍼블리카(토스)\"\n",
    "},\n",
    "{\n",
    "\"BANK\": \"카카오뱅크\",\n",
    "\"COMPANY\": \"토스\"\n",
    "},\n",
    "{\n",
    "\"BANK\": \"카카오뱅크\",\n",
    "\"COMPANY\": \"국민은행\"\n",
    "},\n",
    "{\n",
    "\"BANK\": \"신한은행\",\n",
    "\"COMPANY\": \"국민은행\"\n",
    "},\n",
    "{\n",
    "\"BANK\": \"신한은행\",\n",
    "\"COMPANY\": \"(주)카카오페이\"\n",
    "},\n",
    "{\n",
    "\"BANK\": \"신한은행\",\n",
    "\"COMPANY\": \"카카오페이\"\n",
    "},\n",
    "{\n",
    "\"BANK\": \"신한금융투자\",\n",
    "\"COMPANY\": \"토스뱅크\"\n",
    "},\n",
    "{\n",
    "\"BANK\": \"카카오뱅크\",\n",
    "\"COMPANY\": \"토스뱅크\"\n",
    "},\n",
    "{\n",
    "\"BANK\": \"신한은행\",\n",
    "\"COMPANY\": \"토스뱅크\"\n",
    "},\n",
    "{\n",
    "\"BANK\": \"신한금융투자\",\n",
    "\"COMPANY\": \"비바리퍼블리카（토스）\"\n",
    "},\n",
    "{\n",
    "\"BANK\": \"카카오뱅크\",\n",
    "\"COMPANY\": \"KB국민카드\"\n",
    "},\n",
    "{\n",
    "\"BANK\": \"신한금융투자\",\n",
    "\"COMPANY\": \"ＫＢ국민카드\"\n",
    "},\n",
    "{\n",
    "\"BANK\": \"신한은행\",\n",
    "\"COMPANY\": \"KB국민카드\"\n",
    "},\n",
    "{\n",
    "\"BANK\": \"신한은행\",\n",
    "\"COMPANY\": \"토스증권\"\n",
    "},\n",
    "{\n",
    "\"BANK\": \"신한은행\",\n",
    "\"COMPANY\": \"신한카드\"\n",
    "},\n",
    "{\n",
    "\"BANK\": \"KEB하나은행\",\n",
    "\"COMPANY\": \"(주)에스비아이\"\n",
    "},\n",
    "{\n",
    "\"BANK\": \"KEB하나은행\",\n",
    "\"COMPANY\": \"(주)케이티인터\"\n",
    "},\n",
    "{\n",
    "\"BANK\": \"KEB하나은행\",\n",
    "\"COMPANY\": \"삼성생명보험\"\n",
    "},\n",
    "{\n",
    "\"BANK\": \"KEB하나은행\",\n",
    "\"COMPANY\": \"에스케이텔레콤\"\n",
    "},\n",
    "{\n",
    "\"BANK\": \"KEB하나은행\",\n",
    "\"COMPANY\": \"토스\"\n",
    "},\n",
    "{\n",
    "\"BANK\": \"하나은행\",\n",
    "\"COMPANY\": \"삼성화재해상보\"\n",
    "},\n",
    "{\n",
    "\"BANK\": \"하나은행\",\n",
    "\"COMPANY\": \"(주)엘지유플러스\"\n",
    "},\n",
    "{\n",
    "\"BANK\": \"하나은행\",\n",
    "\"COMPANY\": \"토스\"\n",
    "},\n",
    "{\n",
    "\"BANK\": \"하나은행\",\n",
    "\"COMPANY\": \"비바리퍼블리카(토스)\"\n",
    "},\n",
    "{\n",
    "\"BANK\": \"하나은행\",\n",
    "\"COMPANY\": \"(주)엘지유플러스\"\n",
    "},\n",
    "{\n",
    "\"BANK\": \"하나은행\",\n",
    "\"COMPANY\": \"토스\"\n",
    "}]\n"
   ],
   "metadata": {
    "collapsed": false,
    "ExecuteTime": {
     "end_time": "2024-04-03T05:42:13.676508Z",
     "start_time": "2024-04-03T05:42:13.672767Z"
    }
   },
   "id": "f85100434dc5a703",
   "execution_count": 5
  },
  {
   "cell_type": "code",
   "outputs": [
    {
     "data": {
      "text/plain": "                                             message  \\\n0  [Web발신] [신한은행] 장＊진 고객님께서 (주) 인터파크 업체(기관코드 1000...   \n1  [Web발신] [신한은행] 장＊진 고객님께서 주식회사 차이코퍼레이션(기관코드 C10...   \n2  [Web발신] [신한은행] 장＊진 고객님께서 차이코퍼레이션 업체(기관코드 00410...   \n3  [Web발신] [신한은행] 장＊진 고객님께서 비즈플레이(기관코드 K210100017...   \n4  [Web발신] [신한은행] 장＊진 고객님께서 비즈제로페이 업체(기관코드 004500...   \n\n                                        result  \n0   {'BANK': '신한은행', 'COMPANY': '(주) 인터파크 업체'}  \n1  {'BANK': '신한은행', 'COMPANY': '주식회사 차이코퍼레이션'}  \n2    {'BANK': '신한은행', 'COMPANY': '차이코퍼레이션 업체'}  \n3         {'BANK': '신한은행', 'COMPANY': '비즈플레이'}  \n4     {'BANK': '신한은행', 'COMPANY': '비즈제로페이 업체'}  ",
      "text/html": "<div>\n<style scoped>\n    .dataframe tbody tr th:only-of-type {\n        vertical-align: middle;\n    }\n\n    .dataframe tbody tr th {\n        vertical-align: top;\n    }\n\n    .dataframe thead th {\n        text-align: right;\n    }\n</style>\n<table border=\"1\" class=\"dataframe\">\n  <thead>\n    <tr style=\"text-align: right;\">\n      <th></th>\n      <th>message</th>\n      <th>result</th>\n    </tr>\n  </thead>\n  <tbody>\n    <tr>\n      <th>0</th>\n      <td>[Web발신] [신한은행] 장＊진 고객님께서 (주) 인터파크 업체(기관코드 1000...</td>\n      <td>{'BANK': '신한은행', 'COMPANY': '(주) 인터파크 업체'}</td>\n    </tr>\n    <tr>\n      <th>1</th>\n      <td>[Web발신] [신한은행] 장＊진 고객님께서 주식회사 차이코퍼레이션(기관코드 C10...</td>\n      <td>{'BANK': '신한은행', 'COMPANY': '주식회사 차이코퍼레이션'}</td>\n    </tr>\n    <tr>\n      <th>2</th>\n      <td>[Web발신] [신한은행] 장＊진 고객님께서 차이코퍼레이션 업체(기관코드 00410...</td>\n      <td>{'BANK': '신한은행', 'COMPANY': '차이코퍼레이션 업체'}</td>\n    </tr>\n    <tr>\n      <th>3</th>\n      <td>[Web발신] [신한은행] 장＊진 고객님께서 비즈플레이(기관코드 K210100017...</td>\n      <td>{'BANK': '신한은행', 'COMPANY': '비즈플레이'}</td>\n    </tr>\n    <tr>\n      <th>4</th>\n      <td>[Web발신] [신한은행] 장＊진 고객님께서 비즈제로페이 업체(기관코드 004500...</td>\n      <td>{'BANK': '신한은행', 'COMPANY': '비즈제로페이 업체'}</td>\n    </tr>\n  </tbody>\n</table>\n</div>"
     },
     "execution_count": 6,
     "metadata": {},
     "output_type": "execute_result"
    }
   ],
   "source": [
    "data['result'] = pd.Series([str(result) for result in new_data1])\n",
    "\n",
    "data.head()"
   ],
   "metadata": {
    "collapsed": false,
    "ExecuteTime": {
     "end_time": "2024-04-03T05:42:13.681832Z",
     "start_time": "2024-04-03T05:42:13.677729Z"
    }
   },
   "id": "4ef91b0931c8af34",
   "execution_count": 6
  },
  {
   "cell_type": "code",
   "outputs": [],
   "source": [
    "data.to_excel('./data/NER학습데이터/NER_자동이체.xlsx', index=False)"
   ],
   "metadata": {
    "collapsed": false,
    "ExecuteTime": {
     "end_time": "2024-04-03T05:42:13.693422Z",
     "start_time": "2024-04-03T05:42:13.683016Z"
    }
   },
   "id": "fa9d320fef584f44",
   "execution_count": 7
  },
  {
   "cell_type": "code",
   "outputs": [],
   "source": [
    "def find_substring_indices(message, result):\n",
    "    annotations = []\n",
    "    for key, value in result.items():\n",
    "        start_index = message.find(value)\n",
    "        if start_index != -1:  # Found the substring\n",
    "            end_index = start_index + len(value)\n",
    "            annotations.append((start_index, end_index, key.upper()))\n",
    "    return annotations"
   ],
   "metadata": {
    "collapsed": false,
    "ExecuteTime": {
     "end_time": "2024-04-03T05:42:13.697095Z",
     "start_time": "2024-04-03T05:42:13.694601Z"
    }
   },
   "id": "5aabe7f5f8d59d34",
   "execution_count": 8
  },
  {
   "cell_type": "code",
   "outputs": [
    {
     "data": {
      "text/plain": "                                             message  \\\n0  [Web발신] [신한은행] 장＊진 고객님께서 (주) 인터파크 업체(기관코드 1000...   \n1  [Web발신] [신한은행] 장＊진 고객님께서 주식회사 차이코퍼레이션(기관코드 C10...   \n2  [Web발신] [신한은행] 장＊진 고객님께서 차이코퍼레이션 업체(기관코드 00410...   \n3  [Web발신] [신한은행] 장＊진 고객님께서 비즈플레이(기관코드 K210100017...   \n4  [Web발신] [신한은행] 장＊진 고객님께서 비즈제로페이 업체(기관코드 004500...   \n\n                                        result  \\\n0   {'BANK': '신한은행', 'COMPANY': '(주) 인터파크 업체'}   \n1  {'BANK': '신한은행', 'COMPANY': '주식회사 차이코퍼레이션'}   \n2    {'BANK': '신한은행', 'COMPANY': '차이코퍼레이션 업체'}   \n3         {'BANK': '신한은행', 'COMPANY': '비즈플레이'}   \n4     {'BANK': '신한은행', 'COMPANY': '비즈제로페이 업체'}   \n\n                          annotations  \n0  [(9, 13, BANK), (25, 36, COMPANY)]  \n1  [(9, 13, BANK), (25, 37, COMPANY)]  \n2  [(9, 13, BANK), (25, 35, COMPANY)]  \n3  [(9, 13, BANK), (25, 30, COMPANY)]  \n4  [(9, 13, BANK), (25, 34, COMPANY)]  ",
      "text/html": "<div>\n<style scoped>\n    .dataframe tbody tr th:only-of-type {\n        vertical-align: middle;\n    }\n\n    .dataframe tbody tr th {\n        vertical-align: top;\n    }\n\n    .dataframe thead th {\n        text-align: right;\n    }\n</style>\n<table border=\"1\" class=\"dataframe\">\n  <thead>\n    <tr style=\"text-align: right;\">\n      <th></th>\n      <th>message</th>\n      <th>result</th>\n      <th>annotations</th>\n    </tr>\n  </thead>\n  <tbody>\n    <tr>\n      <th>0</th>\n      <td>[Web발신] [신한은행] 장＊진 고객님께서 (주) 인터파크 업체(기관코드 1000...</td>\n      <td>{'BANK': '신한은행', 'COMPANY': '(주) 인터파크 업체'}</td>\n      <td>[(9, 13, BANK), (25, 36, COMPANY)]</td>\n    </tr>\n    <tr>\n      <th>1</th>\n      <td>[Web발신] [신한은행] 장＊진 고객님께서 주식회사 차이코퍼레이션(기관코드 C10...</td>\n      <td>{'BANK': '신한은행', 'COMPANY': '주식회사 차이코퍼레이션'}</td>\n      <td>[(9, 13, BANK), (25, 37, COMPANY)]</td>\n    </tr>\n    <tr>\n      <th>2</th>\n      <td>[Web발신] [신한은행] 장＊진 고객님께서 차이코퍼레이션 업체(기관코드 00410...</td>\n      <td>{'BANK': '신한은행', 'COMPANY': '차이코퍼레이션 업체'}</td>\n      <td>[(9, 13, BANK), (25, 35, COMPANY)]</td>\n    </tr>\n    <tr>\n      <th>3</th>\n      <td>[Web발신] [신한은행] 장＊진 고객님께서 비즈플레이(기관코드 K210100017...</td>\n      <td>{'BANK': '신한은행', 'COMPANY': '비즈플레이'}</td>\n      <td>[(9, 13, BANK), (25, 30, COMPANY)]</td>\n    </tr>\n    <tr>\n      <th>4</th>\n      <td>[Web발신] [신한은행] 장＊진 고객님께서 비즈제로페이 업체(기관코드 004500...</td>\n      <td>{'BANK': '신한은행', 'COMPANY': '비즈제로페이 업체'}</td>\n      <td>[(9, 13, BANK), (25, 34, COMPANY)]</td>\n    </tr>\n  </tbody>\n</table>\n</div>"
     },
     "execution_count": 9,
     "metadata": {},
     "output_type": "execute_result"
    }
   ],
   "source": [
    "# Convert the 'result' column back to dictionary format from string representation\n",
    "data['result'] = data['result'].apply(lambda x: json.loads(x.replace(\"'\", \"\\\"\")))\n",
    "\n",
    "# Apply the function to find annotations for each row\n",
    "data['annotations'] = data.apply(lambda row: find_substring_indices(row['message'], row['result']), axis=1)\n",
    "\n",
    "# Show the DataFrame to confirm the 'annotations' column\n",
    "data[['message', 'result', 'annotations']].head()"
   ],
   "metadata": {
    "collapsed": false,
    "ExecuteTime": {
     "end_time": "2024-04-03T05:42:13.709099Z",
     "start_time": "2024-04-03T05:42:13.698842Z"
    }
   },
   "id": "39b896a9b176b7aa",
   "execution_count": 9
  },
  {
   "cell_type": "code",
   "outputs": [],
   "source": [
    "data.to_excel('./data/NER학습데이터/NER_자동이체.xlsx', index=False)"
   ],
   "metadata": {
    "collapsed": false,
    "ExecuteTime": {
     "end_time": "2024-04-03T05:42:13.723463Z",
     "start_time": "2024-04-03T05:42:13.714068Z"
    }
   },
   "id": "fd9110c75d60ff63",
   "execution_count": 10
  }
 ],
 "metadata": {
  "kernelspec": {
   "display_name": "Python 3",
   "language": "python",
   "name": "python3"
  },
  "language_info": {
   "codemirror_mode": {
    "name": "ipython",
    "version": 2
   },
   "file_extension": ".py",
   "mimetype": "text/x-python",
   "name": "python",
   "nbconvert_exporter": "python",
   "pygments_lexer": "ipython2",
   "version": "2.7.6"
  }
 },
 "nbformat": 4,
 "nbformat_minor": 5
}
