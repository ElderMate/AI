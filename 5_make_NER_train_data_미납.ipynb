{
 "cells": [
  {
   "cell_type": "code",
   "outputs": [],
   "source": [
    "import pandas as pd\n",
    "import json"
   ],
   "metadata": {
    "collapsed": false,
    "ExecuteTime": {
     "end_time": "2024-04-03T05:00:58.079066Z",
     "start_time": "2024-04-03T05:00:58.073652Z"
    }
   },
   "id": "e69afe5fddde32fc",
   "execution_count": 9
  },
  {
   "cell_type": "markdown",
   "source": [
    "## 미납 진행"
   ],
   "metadata": {
    "collapsed": false
   },
   "id": "c5609120ba2fa302"
  },
  {
   "cell_type": "code",
   "outputs": [
    {
     "data": {
      "text/plain": "                                             message\n0  [Web발신] [우정하님]07월25일 카드대금이 미납되었으니 확인부탁드립니다.[우리카드]\n1  [Web발신] [우정하님]07월25일 카드대금이 미납되었으니 확인부탁드립니다.[우리카드]\n2  [Web발신] [우정하님]07월25일 카드대금이 미납되었으니 확인부탁드립니다.[우리카드]\n3  [Web발신] [우정하님]08월25일 카드대금이 미납되었으니 확인부탁드립니다.[우리카드]\n4  [Web발신] [우정하님]08월25일 카드대금이 미납되었으니 확인부탁드립니다.[우리카드]",
      "text/html": "<div>\n<style scoped>\n    .dataframe tbody tr th:only-of-type {\n        vertical-align: middle;\n    }\n\n    .dataframe tbody tr th {\n        vertical-align: top;\n    }\n\n    .dataframe thead th {\n        text-align: right;\n    }\n</style>\n<table border=\"1\" class=\"dataframe\">\n  <thead>\n    <tr style=\"text-align: right;\">\n      <th></th>\n      <th>message</th>\n    </tr>\n  </thead>\n  <tbody>\n    <tr>\n      <th>0</th>\n      <td>[Web발신] [우정하님]07월25일 카드대금이 미납되었으니 확인부탁드립니다.[우리카드]</td>\n    </tr>\n    <tr>\n      <th>1</th>\n      <td>[Web발신] [우정하님]07월25일 카드대금이 미납되었으니 확인부탁드립니다.[우리카드]</td>\n    </tr>\n    <tr>\n      <th>2</th>\n      <td>[Web발신] [우정하님]07월25일 카드대금이 미납되었으니 확인부탁드립니다.[우리카드]</td>\n    </tr>\n    <tr>\n      <th>3</th>\n      <td>[Web발신] [우정하님]08월25일 카드대금이 미납되었으니 확인부탁드립니다.[우리카드]</td>\n    </tr>\n    <tr>\n      <th>4</th>\n      <td>[Web발신] [우정하님]08월25일 카드대금이 미납되었으니 확인부탁드립니다.[우리카드]</td>\n    </tr>\n  </tbody>\n</table>\n</div>"
     },
     "execution_count": 10,
     "metadata": {},
     "output_type": "execute_result"
    }
   ],
   "source": [
    "# 파일 경로\n",
    "file_path = './data/키워드추출/미납키워드.xlsx'\n",
    "\n",
    "# 파일 내용 읽기\n",
    "data = pd.read_excel(file_path)\n",
    "\n",
    "# 데이터의 첫 5행을 출력해 데이터의 구조를 확인\n",
    "data.head()\n"
   ],
   "metadata": {
    "collapsed": false,
    "ExecuteTime": {
     "end_time": "2024-04-03T05:00:58.114994Z",
     "start_time": "2024-04-03T05:00:58.084812Z"
    }
   },
   "id": "b3920dd1c903c5cf",
   "execution_count": 10
  },
  {
   "cell_type": "code",
   "outputs": [],
   "source": [
    "new_data1 = [\n",
    "{\n",
    "\"PAYEE\":\"우리카드\",\n",
    "\"COST\":\"-\",\n",
    "\"TIME\":\"07월25일\"\n",
    "},\n",
    "{\n",
    "\"PAYEE\":\"우리카드\",\n",
    "\"COST\":\"-\",\n",
    "\"TIME\":\"07월25일\"\n",
    "},\n",
    "{\n",
    "\"PAYEE\":\"우리카드\",\n",
    "\"COST\":\"-\",\n",
    "\"TIME\":\"07월25일\"\n",
    "},\n",
    "{\n",
    "\"PAYEE\":\"우리카드\",\n",
    "\"COST\":\"-\",\n",
    "\"TIME\":\"08월25일\"\n",
    "},\n",
    "{\n",
    "\"PAYEE\":\"우리카드\",\n",
    "\"COST\":\"-\",\n",
    "\"TIME\":\"08월25일\"\n",
    "},\n",
    "{\n",
    "\"PAYEE\":\"우리카드\",\n",
    "\"COST\":\"-\",\n",
    "\"TIME\":\"09월25일\"\n",
    "},\n",
    "{\n",
    "\"PAYEE\":\"하나카드\",\n",
    "\"COST\":\"-\",\n",
    "\"TIME\":\"02월14일\"\n",
    "},\n",
    "{\n",
    "\"PAYEE\":\"하나카드\",\n",
    "\"COST\":\"-\",\n",
    "\"TIME\":\"03월14일\"\n",
    "},\n",
    "{\n",
    "\"PAYEE\":\"하나카드\",\n",
    "\"COST\":\"-\",\n",
    "\"TIME\":\"06월16일\"\n",
    "},\n",
    "{\n",
    "\"PAYEE\":\"하나카드\",\n",
    "\"COST\":\"-\",\n",
    "\"TIME\":\"08월16일\"\n",
    "},\n",
    "{\n",
    "\"PAYEE\":\"하나카드\",\n",
    "\"COST\":\"-\",\n",
    "\"TIME\":\"08월16일\"\n",
    "},\n",
    "{\n",
    "\"PAYEE\":\"하나카드\",\n",
    "\"COST\":\"-\",\n",
    "\"TIME\":\"08월21일\"\n",
    "},\n",
    "{\n",
    "\"PAYEE\":\"하나카드\",\n",
    "\"COST\":\"-\",\n",
    "\"TIME\":\"09월13일\"\n",
    "},\n",
    "{\n",
    "\"PAYEE\":\"하나카드\",\n",
    "\"COST\":\"-\",\n",
    "\"TIME\":\"09월21일\"\n",
    "},\n",
    "{\n",
    "\"PAYEE\":\"하나카드\",\n",
    "\"COST\":\"-\",\n",
    "\"TIME\":\"10월13일\"\n",
    "},\n",
    "{\n",
    "\"PAYEE\":\"신한카드\",\n",
    "\"COST\":\"-\",\n",
    "\"TIME\":\"-\"\n",
    "},\n",
    "{\n",
    "\"PAYEE\":\"신한카드\",\n",
    "\"COST\":\"-\",\n",
    "\"TIME\":\"-\"\n",
    "},\n",
    "{\n",
    "\"PAYEE\":\"삼성생명\",\n",
    "\"COST\":\"69,953원\",\n",
    "\"TIME\":\"2018-10-26\"\n",
    "},\n",
    "{\n",
    "\"PAYEE\":\"신한카드\",\n",
    "\"COST\":\"-\",\n",
    "\"TIME\":\"-\"\n",
    "},\n",
    "{\n",
    "\"PAYEE\":\"신한카드\",\n",
    "\"COST\":\"-\",\n",
    "\"TIME\":\"-\"\n",
    "},\n",
    "{\n",
    "\"PAYEE\":\"신한카드\",\n",
    "\"COST\":\"-\",\n",
    "\"TIME\":\"-\"\n",
    "},\n",
    "{\n",
    "\"PAYEE\":\"신한카드\",\n",
    "\"COST\":\"-\",\n",
    "\"TIME\":\"-\"\n",
    "},\n",
    "{\n",
    "\"PAYEE\":\"KT안내\",\n",
    "\"COST\":\"66,690원\",\n",
    "\"TIME\":\"07/12일\"\n",
    "},\n",
    "{\n",
    "\"PAYEE\":\"KT안내\",\n",
    "\"COST\":\"135,300원\",\n",
    "\"TIME\":\"10/14일\"\n",
    "},\n",
    "{\n",
    "\"PAYEE\":\"KT안내\",\n",
    "\"COST\":\"135,320원\",\n",
    "\"TIME\":\"12/12일\"\n",
    "},\n",
    "{\n",
    "\"PAYEE\":\"KT안내\",\n",
    "\"COST\":\"67,700원\",\n",
    "\"TIME\":\"02/13일\"\n",
    "},\n",
    "{\n",
    "\"PAYEE\":\"KT안내\",\n",
    "\"COST\":\"138,410원\",\n",
    "\"TIME\":\"03/12일\"\n",
    "},\n",
    "{\n",
    "\"PAYEE\":\"삼성생명\",\n",
    "\"COST\":\"16,250원\",\n",
    "\"TIME\":\"-\"\n",
    "},\n",
    "{\n",
    "\"PAYEE\":\"삼성생명\",\n",
    "\"COST\":\"7,914원\",\n",
    "\"TIME\":\"-\"\n",
    "}\n",
    "]"
   ],
   "metadata": {
    "collapsed": false,
    "ExecuteTime": {
     "end_time": "2024-04-03T05:00:58.123894Z",
     "start_time": "2024-04-03T05:00:58.117125Z"
    }
   },
   "id": "f85100434dc5a703",
   "execution_count": 11
  },
  {
   "cell_type": "code",
   "outputs": [
    {
     "data": {
      "text/plain": "                                             message  \\\n0  [Web발신] [우정하님]07월25일 카드대금이 미납되었으니 확인부탁드립니다.[우리카드]   \n1  [Web발신] [우정하님]07월25일 카드대금이 미납되었으니 확인부탁드립니다.[우리카드]   \n2  [Web발신] [우정하님]07월25일 카드대금이 미납되었으니 확인부탁드립니다.[우리카드]   \n3  [Web발신] [우정하님]08월25일 카드대금이 미납되었으니 확인부탁드립니다.[우리카드]   \n4  [Web발신] [우정하님]08월25일 카드대금이 미납되었으니 확인부탁드립니다.[우리카드]   \n\n                                             result  \n0  {'PAYEE': '우리카드', 'COST': '-', 'TIME': '07월25일'}  \n1  {'PAYEE': '우리카드', 'COST': '-', 'TIME': '07월25일'}  \n2  {'PAYEE': '우리카드', 'COST': '-', 'TIME': '07월25일'}  \n3  {'PAYEE': '우리카드', 'COST': '-', 'TIME': '08월25일'}  \n4  {'PAYEE': '우리카드', 'COST': '-', 'TIME': '08월25일'}  ",
      "text/html": "<div>\n<style scoped>\n    .dataframe tbody tr th:only-of-type {\n        vertical-align: middle;\n    }\n\n    .dataframe tbody tr th {\n        vertical-align: top;\n    }\n\n    .dataframe thead th {\n        text-align: right;\n    }\n</style>\n<table border=\"1\" class=\"dataframe\">\n  <thead>\n    <tr style=\"text-align: right;\">\n      <th></th>\n      <th>message</th>\n      <th>result</th>\n    </tr>\n  </thead>\n  <tbody>\n    <tr>\n      <th>0</th>\n      <td>[Web발신] [우정하님]07월25일 카드대금이 미납되었으니 확인부탁드립니다.[우리카드]</td>\n      <td>{'PAYEE': '우리카드', 'COST': '-', 'TIME': '07월25일'}</td>\n    </tr>\n    <tr>\n      <th>1</th>\n      <td>[Web발신] [우정하님]07월25일 카드대금이 미납되었으니 확인부탁드립니다.[우리카드]</td>\n      <td>{'PAYEE': '우리카드', 'COST': '-', 'TIME': '07월25일'}</td>\n    </tr>\n    <tr>\n      <th>2</th>\n      <td>[Web발신] [우정하님]07월25일 카드대금이 미납되었으니 확인부탁드립니다.[우리카드]</td>\n      <td>{'PAYEE': '우리카드', 'COST': '-', 'TIME': '07월25일'}</td>\n    </tr>\n    <tr>\n      <th>3</th>\n      <td>[Web발신] [우정하님]08월25일 카드대금이 미납되었으니 확인부탁드립니다.[우리카드]</td>\n      <td>{'PAYEE': '우리카드', 'COST': '-', 'TIME': '08월25일'}</td>\n    </tr>\n    <tr>\n      <th>4</th>\n      <td>[Web발신] [우정하님]08월25일 카드대금이 미납되었으니 확인부탁드립니다.[우리카드]</td>\n      <td>{'PAYEE': '우리카드', 'COST': '-', 'TIME': '08월25일'}</td>\n    </tr>\n  </tbody>\n</table>\n</div>"
     },
     "execution_count": 12,
     "metadata": {},
     "output_type": "execute_result"
    }
   ],
   "source": [
    "data['result'] = pd.Series([str(result) for result in new_data1])\n",
    "\n",
    "data.head()"
   ],
   "metadata": {
    "collapsed": false,
    "ExecuteTime": {
     "end_time": "2024-04-03T05:00:58.130361Z",
     "start_time": "2024-04-03T05:00:58.125227Z"
    }
   },
   "id": "4ef91b0931c8af34",
   "execution_count": 12
  },
  {
   "cell_type": "code",
   "outputs": [],
   "source": [
    "data.to_excel('./data/NER학습데이터/NER_미납.xlsx', index=False)"
   ],
   "metadata": {
    "collapsed": false,
    "ExecuteTime": {
     "end_time": "2024-04-03T05:00:58.141266Z",
     "start_time": "2024-04-03T05:00:58.132056Z"
    }
   },
   "id": "fa9d320fef584f44",
   "execution_count": 13
  },
  {
   "cell_type": "code",
   "outputs": [],
   "source": [
    "def find_substring_indices(message, result):\n",
    "    annotations = []\n",
    "    for key, value in result.items():\n",
    "        start_index = message.find(value)\n",
    "        if start_index != -1:  # Found the substring\n",
    "            end_index = start_index + len(value)\n",
    "            annotations.append((start_index, end_index, key.upper()))\n",
    "    return annotations"
   ],
   "metadata": {
    "collapsed": false,
    "ExecuteTime": {
     "end_time": "2024-04-03T05:00:58.144669Z",
     "start_time": "2024-04-03T05:00:58.141998Z"
    }
   },
   "id": "5aabe7f5f8d59d34",
   "execution_count": 14
  },
  {
   "cell_type": "code",
   "outputs": [
    {
     "data": {
      "text/plain": "                                             message  \\\n0  [Web발신] [우정하님]07월25일 카드대금이 미납되었으니 확인부탁드립니다.[우리카드]   \n1  [Web발신] [우정하님]07월25일 카드대금이 미납되었으니 확인부탁드립니다.[우리카드]   \n2  [Web발신] [우정하님]07월25일 카드대금이 미납되었으니 확인부탁드립니다.[우리카드]   \n3  [Web발신] [우정하님]08월25일 카드대금이 미납되었으니 확인부탁드립니다.[우리카드]   \n4  [Web발신] [우정하님]08월25일 카드대금이 미납되었으니 확인부탁드립니다.[우리카드]   \n\n                                             result  \\\n0  {'PAYEE': '우리카드', 'COST': '-', 'TIME': '07월25일'}   \n1  {'PAYEE': '우리카드', 'COST': '-', 'TIME': '07월25일'}   \n2  {'PAYEE': '우리카드', 'COST': '-', 'TIME': '07월25일'}   \n3  {'PAYEE': '우리카드', 'COST': '-', 'TIME': '08월25일'}   \n4  {'PAYEE': '우리카드', 'COST': '-', 'TIME': '08월25일'}   \n\n                         annotations  \n0  [(44, 48, PAYEE), (14, 20, TIME)]  \n1  [(44, 48, PAYEE), (14, 20, TIME)]  \n2  [(44, 48, PAYEE), (14, 20, TIME)]  \n3  [(44, 48, PAYEE), (14, 20, TIME)]  \n4  [(44, 48, PAYEE), (14, 20, TIME)]  ",
      "text/html": "<div>\n<style scoped>\n    .dataframe tbody tr th:only-of-type {\n        vertical-align: middle;\n    }\n\n    .dataframe tbody tr th {\n        vertical-align: top;\n    }\n\n    .dataframe thead th {\n        text-align: right;\n    }\n</style>\n<table border=\"1\" class=\"dataframe\">\n  <thead>\n    <tr style=\"text-align: right;\">\n      <th></th>\n      <th>message</th>\n      <th>result</th>\n      <th>annotations</th>\n    </tr>\n  </thead>\n  <tbody>\n    <tr>\n      <th>0</th>\n      <td>[Web발신] [우정하님]07월25일 카드대금이 미납되었으니 확인부탁드립니다.[우리카드]</td>\n      <td>{'PAYEE': '우리카드', 'COST': '-', 'TIME': '07월25일'}</td>\n      <td>[(44, 48, PAYEE), (14, 20, TIME)]</td>\n    </tr>\n    <tr>\n      <th>1</th>\n      <td>[Web발신] [우정하님]07월25일 카드대금이 미납되었으니 확인부탁드립니다.[우리카드]</td>\n      <td>{'PAYEE': '우리카드', 'COST': '-', 'TIME': '07월25일'}</td>\n      <td>[(44, 48, PAYEE), (14, 20, TIME)]</td>\n    </tr>\n    <tr>\n      <th>2</th>\n      <td>[Web발신] [우정하님]07월25일 카드대금이 미납되었으니 확인부탁드립니다.[우리카드]</td>\n      <td>{'PAYEE': '우리카드', 'COST': '-', 'TIME': '07월25일'}</td>\n      <td>[(44, 48, PAYEE), (14, 20, TIME)]</td>\n    </tr>\n    <tr>\n      <th>3</th>\n      <td>[Web발신] [우정하님]08월25일 카드대금이 미납되었으니 확인부탁드립니다.[우리카드]</td>\n      <td>{'PAYEE': '우리카드', 'COST': '-', 'TIME': '08월25일'}</td>\n      <td>[(44, 48, PAYEE), (14, 20, TIME)]</td>\n    </tr>\n    <tr>\n      <th>4</th>\n      <td>[Web발신] [우정하님]08월25일 카드대금이 미납되었으니 확인부탁드립니다.[우리카드]</td>\n      <td>{'PAYEE': '우리카드', 'COST': '-', 'TIME': '08월25일'}</td>\n      <td>[(44, 48, PAYEE), (14, 20, TIME)]</td>\n    </tr>\n  </tbody>\n</table>\n</div>"
     },
     "execution_count": 15,
     "metadata": {},
     "output_type": "execute_result"
    }
   ],
   "source": [
    "# Convert the 'result' column back to dictionary format from string representation\n",
    "data['result'] = data['result'].apply(lambda x: json.loads(x.replace(\"'\", \"\\\"\")))\n",
    "\n",
    "# Apply the function to find annotations for each row\n",
    "data['annotations'] = data.apply(lambda row: find_substring_indices(row['message'], row['result']), axis=1)\n",
    "\n",
    "# Show the DataFrame to confirm the 'annotations' column\n",
    "data[['message', 'result', 'annotations']].head()"
   ],
   "metadata": {
    "collapsed": false,
    "ExecuteTime": {
     "end_time": "2024-04-03T05:00:58.154605Z",
     "start_time": "2024-04-03T05:00:58.145297Z"
    }
   },
   "id": "39b896a9b176b7aa",
   "execution_count": 15
  },
  {
   "cell_type": "code",
   "outputs": [],
   "source": [
    "data.to_excel('./data/NER학습데이터/NER_미납.xlsx', index=False)"
   ],
   "metadata": {
    "collapsed": false,
    "ExecuteTime": {
     "end_time": "2024-04-03T05:00:58.166441Z",
     "start_time": "2024-04-03T05:00:58.156040Z"
    }
   },
   "id": "fd9110c75d60ff63",
   "execution_count": 16
  }
 ],
 "metadata": {
  "kernelspec": {
   "display_name": "Python 3",
   "language": "python",
   "name": "python3"
  },
  "language_info": {
   "codemirror_mode": {
    "name": "ipython",
    "version": 2
   },
   "file_extension": ".py",
   "mimetype": "text/x-python",
   "name": "python",
   "nbconvert_exporter": "python",
   "pygments_lexer": "ipython2",
   "version": "2.7.6"
  }
 },
 "nbformat": 4,
 "nbformat_minor": 5
}
