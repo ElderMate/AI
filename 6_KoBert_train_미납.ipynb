{
 "cells": [
  {
   "cell_type": "code",
   "execution_count": 1,
   "id": "initial_id",
   "metadata": {
    "collapsed": true,
    "ExecuteTime": {
     "end_time": "2024-04-03T08:12:40.497811Z",
     "start_time": "2024-04-03T08:12:39.066258Z"
    }
   },
   "outputs": [],
   "source": [
    "import pandas as pd\n",
    "import torch\n",
    "import ast\n",
    "from torch.utils.data import Dataset, DataLoader\n",
    "from torch.optim import AdamW\n",
    "from transformers import AutoModelForTokenClassification, AutoTokenizer"
   ]
  },
  {
   "cell_type": "markdown",
   "source": [
    "## 데이터 파일 읽기"
   ],
   "metadata": {
    "collapsed": false
   },
   "id": "e1c86fd25c76c7b0"
  },
  {
   "cell_type": "code",
   "outputs": [
    {
     "data": {
      "text/plain": "                                             message  \\\n0  [Web발신] [우정하님]07월25일 카드대금이 미납되었으니 확인부탁드립니다.[우리카드]   \n1  [Web발신] [우정하님]07월25일 카드대금이 미납되었으니 확인부탁드립니다.[우리카드]   \n2  [Web발신] [우정하님]07월25일 카드대금이 미납되었으니 확인부탁드립니다.[우리카드]   \n3  [Web발신] [우정하님]08월25일 카드대금이 미납되었으니 확인부탁드립니다.[우리카드]   \n4  [Web발신] [우정하님]08월25일 카드대금이 미납되었으니 확인부탁드립니다.[우리카드]   \n\n                                             result  \\\n0  {'PAYEE': '우리카드', 'COST': '-', 'TIME': '07월25일'}   \n1  {'PAYEE': '우리카드', 'COST': '-', 'TIME': '07월25일'}   \n2  {'PAYEE': '우리카드', 'COST': '-', 'TIME': '07월25일'}   \n3  {'PAYEE': '우리카드', 'COST': '-', 'TIME': '08월25일'}   \n4  {'PAYEE': '우리카드', 'COST': '-', 'TIME': '08월25일'}   \n\n                             annotations  \n0  [(44, 48, 'PAYEE'), (14, 20, 'TIME')]  \n1  [(44, 48, 'PAYEE'), (14, 20, 'TIME')]  \n2  [(44, 48, 'PAYEE'), (14, 20, 'TIME')]  \n3  [(44, 48, 'PAYEE'), (14, 20, 'TIME')]  \n4  [(44, 48, 'PAYEE'), (14, 20, 'TIME')]  ",
      "text/html": "<div>\n<style scoped>\n    .dataframe tbody tr th:only-of-type {\n        vertical-align: middle;\n    }\n\n    .dataframe tbody tr th {\n        vertical-align: top;\n    }\n\n    .dataframe thead th {\n        text-align: right;\n    }\n</style>\n<table border=\"1\" class=\"dataframe\">\n  <thead>\n    <tr style=\"text-align: right;\">\n      <th></th>\n      <th>message</th>\n      <th>result</th>\n      <th>annotations</th>\n    </tr>\n  </thead>\n  <tbody>\n    <tr>\n      <th>0</th>\n      <td>[Web발신] [우정하님]07월25일 카드대금이 미납되었으니 확인부탁드립니다.[우리카드]</td>\n      <td>{'PAYEE': '우리카드', 'COST': '-', 'TIME': '07월25일'}</td>\n      <td>[(44, 48, 'PAYEE'), (14, 20, 'TIME')]</td>\n    </tr>\n    <tr>\n      <th>1</th>\n      <td>[Web발신] [우정하님]07월25일 카드대금이 미납되었으니 확인부탁드립니다.[우리카드]</td>\n      <td>{'PAYEE': '우리카드', 'COST': '-', 'TIME': '07월25일'}</td>\n      <td>[(44, 48, 'PAYEE'), (14, 20, 'TIME')]</td>\n    </tr>\n    <tr>\n      <th>2</th>\n      <td>[Web발신] [우정하님]07월25일 카드대금이 미납되었으니 확인부탁드립니다.[우리카드]</td>\n      <td>{'PAYEE': '우리카드', 'COST': '-', 'TIME': '07월25일'}</td>\n      <td>[(44, 48, 'PAYEE'), (14, 20, 'TIME')]</td>\n    </tr>\n    <tr>\n      <th>3</th>\n      <td>[Web발신] [우정하님]08월25일 카드대금이 미납되었으니 확인부탁드립니다.[우리카드]</td>\n      <td>{'PAYEE': '우리카드', 'COST': '-', 'TIME': '08월25일'}</td>\n      <td>[(44, 48, 'PAYEE'), (14, 20, 'TIME')]</td>\n    </tr>\n    <tr>\n      <th>4</th>\n      <td>[Web발신] [우정하님]08월25일 카드대금이 미납되었으니 확인부탁드립니다.[우리카드]</td>\n      <td>{'PAYEE': '우리카드', 'COST': '-', 'TIME': '08월25일'}</td>\n      <td>[(44, 48, 'PAYEE'), (14, 20, 'TIME')]</td>\n    </tr>\n  </tbody>\n</table>\n</div>"
     },
     "execution_count": 2,
     "metadata": {},
     "output_type": "execute_result"
    }
   ],
   "source": [
    "file_path = './data/NER학습데이터/NER_미납.xlsx'\n",
    "data = pd.read_excel(file_path)\n",
    "\n",
    "data.head()"
   ],
   "metadata": {
    "collapsed": false,
    "ExecuteTime": {
     "end_time": "2024-04-03T08:12:40.606298Z",
     "start_time": "2024-04-03T08:12:40.498850Z"
    }
   },
   "id": "b221bdfba09aa941",
   "execution_count": 2
  },
  {
   "cell_type": "markdown",
   "source": [
    "## 데이터 전처리"
   ],
   "metadata": {
    "collapsed": false
   },
   "id": "73c101cbbd6e9694"
  },
  {
   "cell_type": "code",
   "outputs": [],
   "source": [
    "# annotations 컬럼의 문자열을 파이썬 리스트로 변환\n",
    "data['annotations'] = data['annotations'].apply(ast.literal_eval)\n",
    "\n",
    "# 태그를 정수로 매핑하는 딕셔너리\n",
    "tag2id = {'O': 0, 'PAYEE': 1, 'COST': 2, 'TIME': 3}\n",
    "\n",
    "# KoBERT 토크나이저 로드\n",
    "model_name = \"monologg/kobert\"\n",
    "tokenizer = AutoTokenizer.from_pretrained(model_name)"
   ],
   "metadata": {
    "collapsed": false,
    "ExecuteTime": {
     "end_time": "2024-04-03T08:12:40.984102Z",
     "start_time": "2024-04-03T08:12:40.607242Z"
    }
   },
   "id": "946d2699dc4e68ab",
   "execution_count": 3
  },
  {
   "cell_type": "markdown",
   "source": [
    "## 토큰화 및 엔티티 태그 할당"
   ],
   "metadata": {
    "collapsed": false
   },
   "id": "a058ae3ac0bd162b"
  },
  {
   "cell_type": "code",
   "outputs": [],
   "source": [
    "def tokenize_and_align_labels(tokenizer, texts, annotations, tag2id):\n",
    "    tokenized_inputs = tokenizer(texts, truncation=True, padding=True, return_tensors=\"pt\", return_offsets_mapping=True)\n",
    "    labels = []\n",
    "\n",
    "    for i, annotation in enumerate(annotations):\n",
    "        offset_mapping = tokenized_inputs['offset_mapping'][i].tolist()  # offset_mapping을 리스트로 변환\n",
    "        label_ids = [tag2id['O']] * len(offset_mapping)  # Initialize with the 'O' label\n",
    "\n",
    "        # Convert character-level annotation to token-level annotation\n",
    "        for start_char, end_char, label in annotation:\n",
    "            # Find the start token index\n",
    "            start_token_index = None\n",
    "            end_token_index = None\n",
    "            for idx, (offset_start, offset_end) in enumerate(offset_mapping):\n",
    "                if start_token_index is None and offset_start <= start_char < offset_end:\n",
    "                    start_token_index = idx\n",
    "                if offset_start < end_char <= offset_end:\n",
    "                    end_token_index = idx\n",
    "                    break  # Stop the loop once the end token is found\n",
    "\n",
    "            # It's possible that a single word gets split into multiple tokens.\n",
    "            # We need to assign the correct label to all tokens derived from the word.\n",
    "            if start_token_index is not None and end_token_index is not None:\n",
    "                for token_index in range(start_token_index, end_token_index + 1):\n",
    "                    label_ids[token_index] = tag2id[label]\n",
    "\n",
    "        # Set labels for special tokens to -100 so that they are not used in the loss calculation\n",
    "        label_ids = [-100 if token_idx in (tokenizer.cls_token_id, tokenizer.sep_token_id, tokenizer.pad_token_id) else label for token_idx, label in zip(tokenized_inputs[\"input_ids\"][i].tolist(), label_ids)]\n",
    "        labels.append(label_ids)\n",
    "\n",
    "    # Remove offset_mapping from tokenized_inputs for model training\n",
    "    tokenized_inputs.pop(\"offset_mapping\")\n",
    "\n",
    "    return tokenized_inputs, labels"
   ],
   "metadata": {
    "collapsed": false,
    "ExecuteTime": {
     "end_time": "2024-04-03T08:12:40.991449Z",
     "start_time": "2024-04-03T08:12:40.985142Z"
    }
   },
   "id": "cc8dc969b80d7fe4",
   "execution_count": 4
  },
  {
   "cell_type": "code",
   "outputs": [],
   "source": [
    "# 실제 데이터에 대해 토큰화 및 태그 할당\n",
    "texts = data['message'].tolist()\n",
    "annotations = data['annotations'].tolist()\n",
    "tokenized_texts, labels = tokenize_and_align_labels(tokenizer, texts, annotations, tag2id)"
   ],
   "metadata": {
    "collapsed": false,
    "ExecuteTime": {
     "end_time": "2024-04-03T08:12:41.020565Z",
     "start_time": "2024-04-03T08:12:40.996251Z"
    }
   },
   "id": "d2fbb357cbba839a",
   "execution_count": 5
  },
  {
   "cell_type": "markdown",
   "source": [
    "## 훈련 데이터 셋 준비"
   ],
   "metadata": {
    "collapsed": false
   },
   "id": "781d2827e4c73338"
  },
  {
   "cell_type": "code",
   "outputs": [],
   "source": [
    "class NERDataset(Dataset):\n",
    "    def __init__(self, encodings, labels=None):\n",
    "        self.encodings = encodings\n",
    "        self.labels = labels\n",
    "\n",
    "    def __getitem__(self, idx):\n",
    "        item = {key: torch.tensor(val[idx]) for key, val in self.encodings.items()}\n",
    "        if self.labels is not None:\n",
    "            item['labels'] = torch.tensor(self.labels[idx])  # labels를 텐서로 변환\n",
    "        return item\n",
    "\n",
    "    def __len__(self):\n",
    "        return len(self.encodings['input_ids'])\n"
   ],
   "metadata": {
    "collapsed": false,
    "ExecuteTime": {
     "end_time": "2024-04-03T08:12:41.024257Z",
     "start_time": "2024-04-03T08:12:41.021675Z"
    }
   },
   "id": "9e9c5e2df5ff04c3",
   "execution_count": 6
  },
  {
   "cell_type": "code",
   "outputs": [],
   "source": [
    "# 데이터셋 객체 생성\n",
    "train_dataset = NERDataset(tokenized_texts, labels)"
   ],
   "metadata": {
    "collapsed": false,
    "ExecuteTime": {
     "end_time": "2024-04-03T08:12:41.027497Z",
     "start_time": "2024-04-03T08:12:41.025243Z"
    }
   },
   "id": "a5cfac38a30e78c0",
   "execution_count": 7
  },
  {
   "cell_type": "markdown",
   "source": [
    "## 모델 및 학습 설정"
   ],
   "metadata": {
    "collapsed": false
   },
   "id": "7eb4a3750f3d80e2"
  },
  {
   "cell_type": "code",
   "outputs": [
    {
     "name": "stderr",
     "output_type": "stream",
     "text": [
      "Some weights of BertForTokenClassification were not initialized from the model checkpoint at monologg/kobert and are newly initialized: ['classifier.bias', 'classifier.weight']\n",
      "You should probably TRAIN this model on a down-stream task to be able to use it for predictions and inference.\n"
     ]
    }
   ],
   "source": [
    "# 모델 로드\n",
    "model = AutoModelForTokenClassification.from_pretrained(model_name, num_labels=len(tag2id))"
   ],
   "metadata": {
    "collapsed": false,
    "ExecuteTime": {
     "end_time": "2024-04-03T08:12:43.142446Z",
     "start_time": "2024-04-03T08:12:41.028291Z"
    }
   },
   "id": "18ee0d7648c5195",
   "execution_count": 8
  },
  {
   "cell_type": "code",
   "outputs": [
    {
     "data": {
      "text/plain": "BertForTokenClassification(\n  (bert): BertModel(\n    (embeddings): BertEmbeddings(\n      (word_embeddings): Embedding(8002, 768, padding_idx=1)\n      (position_embeddings): Embedding(512, 768)\n      (token_type_embeddings): Embedding(2, 768)\n      (LayerNorm): LayerNorm((768,), eps=1e-12, elementwise_affine=True)\n      (dropout): Dropout(p=0.1, inplace=False)\n    )\n    (encoder): BertEncoder(\n      (layer): ModuleList(\n        (0-11): 12 x BertLayer(\n          (attention): BertAttention(\n            (self): BertSelfAttention(\n              (query): Linear(in_features=768, out_features=768, bias=True)\n              (key): Linear(in_features=768, out_features=768, bias=True)\n              (value): Linear(in_features=768, out_features=768, bias=True)\n              (dropout): Dropout(p=0.1, inplace=False)\n            )\n            (output): BertSelfOutput(\n              (dense): Linear(in_features=768, out_features=768, bias=True)\n              (LayerNorm): LayerNorm((768,), eps=1e-12, elementwise_affine=True)\n              (dropout): Dropout(p=0.1, inplace=False)\n            )\n          )\n          (intermediate): BertIntermediate(\n            (dense): Linear(in_features=768, out_features=3072, bias=True)\n            (intermediate_act_fn): GELUActivation()\n          )\n          (output): BertOutput(\n            (dense): Linear(in_features=3072, out_features=768, bias=True)\n            (LayerNorm): LayerNorm((768,), eps=1e-12, elementwise_affine=True)\n            (dropout): Dropout(p=0.1, inplace=False)\n          )\n        )\n      )\n    )\n  )\n  (dropout): Dropout(p=0.1, inplace=False)\n  (classifier): Linear(in_features=768, out_features=4, bias=True)\n)"
     },
     "execution_count": 9,
     "metadata": {},
     "output_type": "execute_result"
    }
   ],
   "source": [
    "# 학습 준비\n",
    "train_loader = DataLoader(train_dataset, batch_size=16, shuffle=True)\n",
    "model.train()"
   ],
   "metadata": {
    "collapsed": false,
    "ExecuteTime": {
     "end_time": "2024-04-03T08:12:43.165184Z",
     "start_time": "2024-04-03T08:12:43.151597Z"
    }
   },
   "id": "d528c001c706aa9e",
   "execution_count": 9
  },
  {
   "cell_type": "code",
   "outputs": [],
   "source": [
    "# 최적화기 설정\n",
    "optimizer = AdamW(model.parameters(), lr=5e-5)"
   ],
   "metadata": {
    "collapsed": false,
    "ExecuteTime": {
     "end_time": "2024-04-03T08:12:43.172448Z",
     "start_time": "2024-04-03T08:12:43.166853Z"
    }
   },
   "id": "4f825424088cb8c3",
   "execution_count": 10
  },
  {
   "cell_type": "markdown",
   "source": [
    "### GPU 사용 코드"
   ],
   "metadata": {
    "collapsed": false
   },
   "id": "eebfb68f296e62d5"
  },
  {
   "cell_type": "code",
   "outputs": [],
   "source": [
    "# for epoch in range(3):\n",
    "#     for batch in train_loader:\n",
    "#         optimizer.zero_grad()\n",
    "#         input_ids = batch['input_ids'].to(torch.device('cuda'))\n",
    "#         attention_mask = batch['attention_mask'].to(torch.device('cuda'))\n",
    "#         labels = batch['labels'].to(torch.device('cuda'))\n",
    "#         outputs = model(input_ids, attention_mask=attention_mask, labels=labels)\n",
    "#         loss = outputs.loss\n",
    "#         loss.backward()\n",
    "#         optimizer.step()"
   ],
   "metadata": {
    "collapsed": false,
    "ExecuteTime": {
     "end_time": "2024-04-03T08:12:43.176939Z",
     "start_time": "2024-04-03T08:12:43.174367Z"
    }
   },
   "id": "a5c41acac85d3ab",
   "execution_count": 11
  },
  {
   "cell_type": "markdown",
   "source": [
    "### CPU 사용 코드"
   ],
   "metadata": {
    "collapsed": false
   },
   "id": "e52f9459b21167b"
  },
  {
   "cell_type": "code",
   "outputs": [
    {
     "name": "stderr",
     "output_type": "stream",
     "text": [
      "/var/folders/r1/rw867vbs5rgb3p287096s0yh0000gn/T/ipykernel_9564/4059555586.py:7: UserWarning: To copy construct from a tensor, it is recommended to use sourceTensor.clone().detach() or sourceTensor.clone().detach().requires_grad_(True), rather than torch.tensor(sourceTensor).\n",
      "  item = {key: torch.tensor(val[idx]) for key, val in self.encodings.items()}\n"
     ]
    },
    {
     "name": "stdout",
     "output_type": "stream",
     "text": [
      "Epoch 1, Loss: 1.052041620016098\n",
      "Epoch 2, Loss: 0.4564192593097687\n",
      "Epoch 3, Loss: 0.3868067115545273\n",
      "Epoch 4, Loss: 0.3736264258623123\n",
      "Epoch 5, Loss: 0.3740897625684738\n",
      "Epoch 6, Loss: 0.37332162261009216\n",
      "Epoch 7, Loss: 0.34880684316158295\n",
      "Epoch 8, Loss: 0.34056586027145386\n",
      "Epoch 9, Loss: 0.330361008644104\n",
      "Epoch 10, Loss: 0.2891790419816971\n",
      "Epoch 11, Loss: 0.25335586816072464\n",
      "Epoch 12, Loss: 0.21935264766216278\n",
      "Epoch 13, Loss: 0.19408734887838364\n",
      "Epoch 14, Loss: 0.17644019424915314\n",
      "Epoch 15, Loss: 0.1485081985592842\n",
      "Epoch 16, Loss: 0.13703271001577377\n",
      "Epoch 17, Loss: 0.10389534011483192\n",
      "Epoch 18, Loss: 0.1141555979847908\n",
      "Epoch 19, Loss: 0.10227595642209053\n",
      "Epoch 20, Loss: 0.07593857124447823\n",
      "Epoch 21, Loss: 0.0630825124680996\n",
      "Epoch 22, Loss: 0.05886384844779968\n",
      "Epoch 23, Loss: 0.05735655315220356\n",
      "Epoch 24, Loss: 0.04150117561221123\n",
      "Epoch 25, Loss: 0.04405456408858299\n",
      "Epoch 26, Loss: 0.036485156044363976\n",
      "Epoch 27, Loss: 0.03639913722872734\n",
      "Epoch 28, Loss: 0.02718127891421318\n",
      "Epoch 29, Loss: 0.08234098739922047\n",
      "Epoch 30, Loss: 0.05081665422767401\n"
     ]
    }
   ],
   "source": [
    "device = torch.device('cuda' if torch.cuda.is_available() else 'cpu')\n",
    "\n",
    "# 학습 과정\n",
    "for epoch in range(30):\n",
    "    total_loss = 0\n",
    "    for batch in train_loader:\n",
    "        optimizer.zero_grad()\n",
    "        input_ids = batch['input_ids'].to(device)\n",
    "        attention_mask = batch['attention_mask'].to(device)\n",
    "        labels = batch['labels'].to(device)\n",
    "        outputs = model(input_ids, attention_mask=attention_mask, labels=labels)\n",
    "        loss = outputs.loss\n",
    "        loss.backward()\n",
    "        optimizer.step()\n",
    "        total_loss += loss.item()\n",
    "    print(f\"Epoch {epoch + 1}, Loss: {total_loss / len(train_loader)}\")\n"
   ],
   "metadata": {
    "collapsed": false,
    "ExecuteTime": {
     "end_time": "2024-04-03T08:18:12.132042Z",
     "start_time": "2024-04-03T08:12:43.178728Z"
    }
   },
   "id": "ea1a87796731ccbb",
   "execution_count": 12
  },
  {
   "cell_type": "markdown",
   "source": [
    "## 학습된 모델 테스트 함수"
   ],
   "metadata": {
    "collapsed": false
   },
   "id": "6e65ef0e9dab4b31"
  },
  {
   "cell_type": "code",
   "outputs": [],
   "source": [
    "id2tag = {0: 'O', 1: 'PAYEE', 2: 'COST', 3: 'TIME'}\n",
    "\n",
    "def predict(model, tokenizer, device, message):\n",
    "    model.eval()\n",
    "    inputs = tokenizer(message, return_tensors=\"pt\", padding=True, truncation=True, max_length=512, return_offsets_mapping=True)\n",
    "    input_ids = inputs['input_ids'].to(device)\n",
    "    attention_mask = inputs['attention_mask'].to(device)\n",
    "    offset_mapping = inputs[\"offset_mapping\"].detach().cpu().numpy()[0]  # 오프셋 매핑 정보\n",
    "    \n",
    "    with torch.no_grad():\n",
    "        outputs = model(input_ids, attention_mask=attention_mask)\n",
    "        predictions = torch.argmax(outputs.logits, dim=-1)\n",
    "\n",
    "    labels = [id2tag[id] for id in predictions[0].cpu().numpy()]\n",
    "    extracted_info = {\"PAYEE\": \"\", \"COST\": \"\", \"TIME\": \"\"}\n",
    "    \n",
    "    for i, (offset, label) in enumerate(zip(offset_mapping, labels)):\n",
    "        if label != \"O\":\n",
    "            start, end = offset\n",
    "            extracted_text = message[start:end]\n",
    "            extracted_info[label] += extracted_text + \" \"\n",
    "\n",
    "    for key in extracted_info:\n",
    "        extracted_info[key] = extracted_info[key].strip()\n",
    "\n",
    "    return extracted_info\n",
    "\n"
   ],
   "metadata": {
    "collapsed": false,
    "ExecuteTime": {
     "end_time": "2024-04-03T08:18:12.167907Z",
     "start_time": "2024-04-03T08:18:12.142140Z"
    }
   },
   "id": "dee0013812d3bae6",
   "execution_count": 13
  },
  {
   "cell_type": "code",
   "outputs": [
    {
     "name": "stdout",
     "output_type": "stream",
     "text": [
      "PAYEE: 우리카드\n",
      "COST: \n",
      "TIME: 08월25일\n"
     ]
    }
   ],
   "source": [
    "# 예시 메시지로 예측 테스트\n",
    "test_message = \"[Web발신] [우정하님]08월25일 카드대금이 미납되었으니 확인부탁드립니다.[우리카드]\"\n",
    "predicted_info = predict(model, tokenizer, device, test_message)\n",
    "for domain, text in predicted_info.items():\n",
    "    print(f\"{domain}: {text.strip()}\")\n"
   ],
   "metadata": {
    "collapsed": false,
    "ExecuteTime": {
     "end_time": "2024-04-03T08:20:03.894939Z",
     "start_time": "2024-04-03T08:20:03.727965Z"
    }
   },
   "id": "5999145072782041",
   "execution_count": 17
  },
  {
   "cell_type": "markdown",
   "source": [
    "## 모델 저장"
   ],
   "metadata": {
    "collapsed": false
   },
   "id": "8ae12adee1b9ddb2"
  },
  {
   "cell_type": "code",
   "outputs": [
    {
     "data": {
      "text/plain": "('./model/kobert_미납/tokenizer_config.json',\n './model/kobert_미납/special_tokens_map.json',\n './model/kobert_미납/vocab.txt',\n './model/kobert_미납/added_tokens.json',\n './model/kobert_미납/tokenizer.json')"
     },
     "execution_count": 15,
     "metadata": {},
     "output_type": "execute_result"
    }
   ],
   "source": [
    "model_save_path = \"./model/kobert_미납\"\n",
    "model.save_pretrained(model_save_path)\n",
    "tokenizer.save_pretrained(model_save_path)"
   ],
   "metadata": {
    "collapsed": false,
    "ExecuteTime": {
     "end_time": "2024-04-03T08:18:12.536910Z",
     "start_time": "2024-04-03T08:18:12.324046Z"
    }
   },
   "id": "1ac7bb67538f484e",
   "execution_count": 15
  },
  {
   "cell_type": "code",
   "outputs": [],
   "source": [],
   "metadata": {
    "collapsed": false,
    "ExecuteTime": {
     "end_time": "2024-04-03T08:18:12.541159Z",
     "start_time": "2024-04-03T08:18:12.538088Z"
    }
   },
   "id": "fdaa0a672e0dfcc1",
   "execution_count": 15
  }
 ],
 "metadata": {
  "kernelspec": {
   "display_name": "Python 3",
   "language": "python",
   "name": "python3"
  },
  "language_info": {
   "codemirror_mode": {
    "name": "ipython",
    "version": 2
   },
   "file_extension": ".py",
   "mimetype": "text/x-python",
   "name": "python",
   "nbconvert_exporter": "python",
   "pygments_lexer": "ipython2",
   "version": "2.7.6"
  }
 },
 "nbformat": 4,
 "nbformat_minor": 5
}
