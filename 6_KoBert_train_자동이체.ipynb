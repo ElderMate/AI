{
 "cells": [
  {
   "cell_type": "code",
   "execution_count": 1,
   "id": "initial_id",
   "metadata": {
    "collapsed": true,
    "ExecuteTime": {
     "end_time": "2024-04-03T08:09:29.097022Z",
     "start_time": "2024-04-03T08:09:27.824532Z"
    }
   },
   "outputs": [],
   "source": [
    "import pandas as pd\n",
    "import torch\n",
    "import ast\n",
    "from torch.utils.data import Dataset, DataLoader\n",
    "from torch.optim import AdamW\n",
    "from transformers import AutoModelForTokenClassification, AutoTokenizer"
   ]
  },
  {
   "cell_type": "markdown",
   "source": [
    "## 데이터 파일 읽기"
   ],
   "metadata": {
    "collapsed": false
   },
   "id": "e1c86fd25c76c7b0"
  },
  {
   "cell_type": "code",
   "outputs": [
    {
     "data": {
      "text/plain": "                                             message  \\\n0  [Web발신] [신한은행] 장＊진 고객님께서 (주) 인터파크 업체(기관코드 1000...   \n1  [Web발신] [신한은행] 장＊진 고객님께서 주식회사 차이코퍼레이션(기관코드 C10...   \n2  [Web발신] [신한은행] 장＊진 고객님께서 차이코퍼레이션 업체(기관코드 00410...   \n3  [Web발신] [신한은행] 장＊진 고객님께서 비즈플레이(기관코드 K210100017...   \n4  [Web발신] [신한은행] 장＊진 고객님께서 비즈제로페이 업체(기관코드 004500...   \n\n                                        result  \\\n0   {'BANK': '신한은행', 'COMPANY': '(주) 인터파크 업체'}   \n1  {'BANK': '신한은행', 'COMPANY': '주식회사 차이코퍼레이션'}   \n2    {'BANK': '신한은행', 'COMPANY': '차이코퍼레이션 업체'}   \n3         {'BANK': '신한은행', 'COMPANY': '비즈플레이'}   \n4     {'BANK': '신한은행', 'COMPANY': '비즈제로페이 업체'}   \n\n                              annotations  \n0  [(9, 13, 'BANK'), (25, 36, 'COMPANY')]  \n1  [(9, 13, 'BANK'), (25, 37, 'COMPANY')]  \n2  [(9, 13, 'BANK'), (25, 35, 'COMPANY')]  \n3  [(9, 13, 'BANK'), (25, 30, 'COMPANY')]  \n4  [(9, 13, 'BANK'), (25, 34, 'COMPANY')]  ",
      "text/html": "<div>\n<style scoped>\n    .dataframe tbody tr th:only-of-type {\n        vertical-align: middle;\n    }\n\n    .dataframe tbody tr th {\n        vertical-align: top;\n    }\n\n    .dataframe thead th {\n        text-align: right;\n    }\n</style>\n<table border=\"1\" class=\"dataframe\">\n  <thead>\n    <tr style=\"text-align: right;\">\n      <th></th>\n      <th>message</th>\n      <th>result</th>\n      <th>annotations</th>\n    </tr>\n  </thead>\n  <tbody>\n    <tr>\n      <th>0</th>\n      <td>[Web발신] [신한은행] 장＊진 고객님께서 (주) 인터파크 업체(기관코드 1000...</td>\n      <td>{'BANK': '신한은행', 'COMPANY': '(주) 인터파크 업체'}</td>\n      <td>[(9, 13, 'BANK'), (25, 36, 'COMPANY')]</td>\n    </tr>\n    <tr>\n      <th>1</th>\n      <td>[Web발신] [신한은행] 장＊진 고객님께서 주식회사 차이코퍼레이션(기관코드 C10...</td>\n      <td>{'BANK': '신한은행', 'COMPANY': '주식회사 차이코퍼레이션'}</td>\n      <td>[(9, 13, 'BANK'), (25, 37, 'COMPANY')]</td>\n    </tr>\n    <tr>\n      <th>2</th>\n      <td>[Web발신] [신한은행] 장＊진 고객님께서 차이코퍼레이션 업체(기관코드 00410...</td>\n      <td>{'BANK': '신한은행', 'COMPANY': '차이코퍼레이션 업체'}</td>\n      <td>[(9, 13, 'BANK'), (25, 35, 'COMPANY')]</td>\n    </tr>\n    <tr>\n      <th>3</th>\n      <td>[Web발신] [신한은행] 장＊진 고객님께서 비즈플레이(기관코드 K210100017...</td>\n      <td>{'BANK': '신한은행', 'COMPANY': '비즈플레이'}</td>\n      <td>[(9, 13, 'BANK'), (25, 30, 'COMPANY')]</td>\n    </tr>\n    <tr>\n      <th>4</th>\n      <td>[Web발신] [신한은행] 장＊진 고객님께서 비즈제로페이 업체(기관코드 004500...</td>\n      <td>{'BANK': '신한은행', 'COMPANY': '비즈제로페이 업체'}</td>\n      <td>[(9, 13, 'BANK'), (25, 34, 'COMPANY')]</td>\n    </tr>\n  </tbody>\n</table>\n</div>"
     },
     "execution_count": 2,
     "metadata": {},
     "output_type": "execute_result"
    }
   ],
   "source": [
    "file_path = './data/NER학습데이터/NER_자동이체.xlsx'\n",
    "data = pd.read_excel(file_path)\n",
    "\n",
    "data.head()"
   ],
   "metadata": {
    "collapsed": false,
    "ExecuteTime": {
     "end_time": "2024-04-03T08:09:29.211558Z",
     "start_time": "2024-04-03T08:09:29.098021Z"
    }
   },
   "id": "b221bdfba09aa941",
   "execution_count": 2
  },
  {
   "cell_type": "markdown",
   "source": [
    "## 데이터 전처리"
   ],
   "metadata": {
    "collapsed": false
   },
   "id": "73c101cbbd6e9694"
  },
  {
   "cell_type": "code",
   "outputs": [],
   "source": [
    "# annotations 컬럼의 문자열을 파이썬 리스트로 변환\n",
    "data['annotations'] = data['annotations'].apply(ast.literal_eval)\n",
    "\n",
    "# 태그를 정수로 매핑하는 딕셔너리\n",
    "tag2id = {'O': 0, 'BANK': 1, 'COMPANY': 2}\n",
    "\n",
    "# KoBERT 토크나이저 로드\n",
    "model_name = \"monologg/kobert\"\n",
    "tokenizer = AutoTokenizer.from_pretrained(model_name)"
   ],
   "metadata": {
    "collapsed": false,
    "ExecuteTime": {
     "end_time": "2024-04-03T08:09:29.643392Z",
     "start_time": "2024-04-03T08:09:29.212172Z"
    }
   },
   "id": "946d2699dc4e68ab",
   "execution_count": 3
  },
  {
   "cell_type": "markdown",
   "source": [
    "## 토큰화 및 엔티티 태그 할당"
   ],
   "metadata": {
    "collapsed": false
   },
   "id": "a058ae3ac0bd162b"
  },
  {
   "cell_type": "code",
   "outputs": [],
   "source": [
    "def tokenize_and_align_labels(tokenizer, texts, annotations, tag2id):\n",
    "    tokenized_inputs = tokenizer(texts, truncation=True, padding=True, return_tensors=\"pt\", return_offsets_mapping=True)\n",
    "    labels = []\n",
    "\n",
    "    for i, annotation in enumerate(annotations):\n",
    "        offset_mapping = tokenized_inputs['offset_mapping'][i].tolist()  # offset_mapping을 리스트로 변환\n",
    "        label_ids = [tag2id['O']] * len(offset_mapping)  # Initialize with the 'O' label\n",
    "\n",
    "        # Convert character-level annotation to token-level annotation\n",
    "        for start_char, end_char, label in annotation:\n",
    "            # Find the start token index\n",
    "            start_token_index = None\n",
    "            end_token_index = None\n",
    "            for idx, (offset_start, offset_end) in enumerate(offset_mapping):\n",
    "                if start_token_index is None and offset_start <= start_char < offset_end:\n",
    "                    start_token_index = idx\n",
    "                if offset_start < end_char <= offset_end:\n",
    "                    end_token_index = idx\n",
    "                    break  # Stop the loop once the end token is found\n",
    "\n",
    "            # It's possible that a single word gets split into multiple tokens.\n",
    "            # We need to assign the correct label to all tokens derived from the word.\n",
    "            if start_token_index is not None and end_token_index is not None:\n",
    "                for token_index in range(start_token_index, end_token_index + 1):\n",
    "                    label_ids[token_index] = tag2id[label]\n",
    "\n",
    "        # Set labels for special tokens to -100 so that they are not used in the loss calculation\n",
    "        label_ids = [-100 if token_idx in (tokenizer.cls_token_id, tokenizer.sep_token_id, tokenizer.pad_token_id) else label for token_idx, label in zip(tokenized_inputs[\"input_ids\"][i].tolist(), label_ids)]\n",
    "        labels.append(label_ids)\n",
    "\n",
    "    # Remove offset_mapping from tokenized_inputs for model training\n",
    "    tokenized_inputs.pop(\"offset_mapping\")\n",
    "\n",
    "    return tokenized_inputs, labels"
   ],
   "metadata": {
    "collapsed": false,
    "ExecuteTime": {
     "end_time": "2024-04-03T08:09:29.648567Z",
     "start_time": "2024-04-03T08:09:29.644741Z"
    }
   },
   "id": "cc8dc969b80d7fe4",
   "execution_count": 4
  },
  {
   "cell_type": "code",
   "outputs": [],
   "source": [
    "# 실제 데이터에 대해 토큰화 및 태그 할당\n",
    "texts = data['message'].tolist()\n",
    "annotations = data['annotations'].tolist()\n",
    "tokenized_texts, labels = tokenize_and_align_labels(tokenizer, texts, annotations, tag2id)"
   ],
   "metadata": {
    "collapsed": false,
    "ExecuteTime": {
     "end_time": "2024-04-03T08:09:29.667593Z",
     "start_time": "2024-04-03T08:09:29.649378Z"
    }
   },
   "id": "d2fbb357cbba839a",
   "execution_count": 5
  },
  {
   "cell_type": "markdown",
   "source": [
    "## 훈련 데이터 셋 준비"
   ],
   "metadata": {
    "collapsed": false
   },
   "id": "781d2827e4c73338"
  },
  {
   "cell_type": "code",
   "outputs": [],
   "source": [
    "class NERDataset(Dataset):\n",
    "    def __init__(self, encodings, labels=None):\n",
    "        self.encodings = encodings\n",
    "        self.labels = labels\n",
    "\n",
    "    def __getitem__(self, idx):\n",
    "        item = {key: torch.tensor(val[idx]) for key, val in self.encodings.items()}\n",
    "        if self.labels is not None:\n",
    "            item['labels'] = torch.tensor(self.labels[idx])  # labels를 텐서로 변환\n",
    "        return item\n",
    "\n",
    "    def __len__(self):\n",
    "        return len(self.encodings['input_ids'])\n"
   ],
   "metadata": {
    "collapsed": false,
    "ExecuteTime": {
     "end_time": "2024-04-03T08:09:29.671606Z",
     "start_time": "2024-04-03T08:09:29.668341Z"
    }
   },
   "id": "9e9c5e2df5ff04c3",
   "execution_count": 6
  },
  {
   "cell_type": "code",
   "outputs": [],
   "source": [
    "# 데이터셋 객체 생성\n",
    "train_dataset = NERDataset(tokenized_texts, labels)"
   ],
   "metadata": {
    "collapsed": false,
    "ExecuteTime": {
     "end_time": "2024-04-03T08:09:29.673922Z",
     "start_time": "2024-04-03T08:09:29.672392Z"
    }
   },
   "id": "a5cfac38a30e78c0",
   "execution_count": 7
  },
  {
   "cell_type": "markdown",
   "source": [
    "## 모델 및 학습 설정"
   ],
   "metadata": {
    "collapsed": false
   },
   "id": "7eb4a3750f3d80e2"
  },
  {
   "cell_type": "code",
   "outputs": [
    {
     "name": "stderr",
     "output_type": "stream",
     "text": [
      "Some weights of BertForTokenClassification were not initialized from the model checkpoint at monologg/kobert and are newly initialized: ['classifier.bias', 'classifier.weight']\n",
      "You should probably TRAIN this model on a down-stream task to be able to use it for predictions and inference.\n"
     ]
    }
   ],
   "source": [
    "# 모델 로드\n",
    "model = AutoModelForTokenClassification.from_pretrained(model_name, num_labels=len(tag2id))"
   ],
   "metadata": {
    "collapsed": false,
    "ExecuteTime": {
     "end_time": "2024-04-03T08:09:31.153864Z",
     "start_time": "2024-04-03T08:09:29.674478Z"
    }
   },
   "id": "18ee0d7648c5195",
   "execution_count": 8
  },
  {
   "cell_type": "code",
   "outputs": [
    {
     "data": {
      "text/plain": "BertForTokenClassification(\n  (bert): BertModel(\n    (embeddings): BertEmbeddings(\n      (word_embeddings): Embedding(8002, 768, padding_idx=1)\n      (position_embeddings): Embedding(512, 768)\n      (token_type_embeddings): Embedding(2, 768)\n      (LayerNorm): LayerNorm((768,), eps=1e-12, elementwise_affine=True)\n      (dropout): Dropout(p=0.1, inplace=False)\n    )\n    (encoder): BertEncoder(\n      (layer): ModuleList(\n        (0-11): 12 x BertLayer(\n          (attention): BertAttention(\n            (self): BertSelfAttention(\n              (query): Linear(in_features=768, out_features=768, bias=True)\n              (key): Linear(in_features=768, out_features=768, bias=True)\n              (value): Linear(in_features=768, out_features=768, bias=True)\n              (dropout): Dropout(p=0.1, inplace=False)\n            )\n            (output): BertSelfOutput(\n              (dense): Linear(in_features=768, out_features=768, bias=True)\n              (LayerNorm): LayerNorm((768,), eps=1e-12, elementwise_affine=True)\n              (dropout): Dropout(p=0.1, inplace=False)\n            )\n          )\n          (intermediate): BertIntermediate(\n            (dense): Linear(in_features=768, out_features=3072, bias=True)\n            (intermediate_act_fn): GELUActivation()\n          )\n          (output): BertOutput(\n            (dense): Linear(in_features=3072, out_features=768, bias=True)\n            (LayerNorm): LayerNorm((768,), eps=1e-12, elementwise_affine=True)\n            (dropout): Dropout(p=0.1, inplace=False)\n          )\n        )\n      )\n    )\n  )\n  (dropout): Dropout(p=0.1, inplace=False)\n  (classifier): Linear(in_features=768, out_features=3, bias=True)\n)"
     },
     "execution_count": 9,
     "metadata": {},
     "output_type": "execute_result"
    }
   ],
   "source": [
    "# 학습 준비\n",
    "train_loader = DataLoader(train_dataset, batch_size=16, shuffle=True)\n",
    "model.train()"
   ],
   "metadata": {
    "collapsed": false,
    "ExecuteTime": {
     "end_time": "2024-04-03T08:09:31.163527Z",
     "start_time": "2024-04-03T08:09:31.156611Z"
    }
   },
   "id": "d528c001c706aa9e",
   "execution_count": 9
  },
  {
   "cell_type": "code",
   "outputs": [],
   "source": [
    "# 최적화기 설정\n",
    "optimizer = AdamW(model.parameters(), lr=5e-5)"
   ],
   "metadata": {
    "collapsed": false,
    "ExecuteTime": {
     "end_time": "2024-04-03T08:09:31.169654Z",
     "start_time": "2024-04-03T08:09:31.167040Z"
    }
   },
   "id": "4f825424088cb8c3",
   "execution_count": 10
  },
  {
   "cell_type": "markdown",
   "source": [
    "### GPU 사용 코드"
   ],
   "metadata": {
    "collapsed": false
   },
   "id": "eebfb68f296e62d5"
  },
  {
   "cell_type": "code",
   "outputs": [],
   "source": [
    "# for epoch in range(3):\n",
    "#     for batch in train_loader:\n",
    "#         optimizer.zero_grad()\n",
    "#         input_ids = batch['input_ids'].to(torch.device('cuda'))\n",
    "#         attention_mask = batch['attention_mask'].to(torch.device('cuda'))\n",
    "#         labels = batch['labels'].to(torch.device('cuda'))\n",
    "#         outputs = model(input_ids, attention_mask=attention_mask, labels=labels)\n",
    "#         loss = outputs.loss\n",
    "#         loss.backward()\n",
    "#         optimizer.step()"
   ],
   "metadata": {
    "collapsed": false,
    "ExecuteTime": {
     "end_time": "2024-04-03T08:09:31.172773Z",
     "start_time": "2024-04-03T08:09:31.170797Z"
    }
   },
   "id": "a5c41acac85d3ab",
   "execution_count": 11
  },
  {
   "cell_type": "markdown",
   "source": [
    "### CPU 사용 코드"
   ],
   "metadata": {
    "collapsed": false
   },
   "id": "e52f9459b21167b"
  },
  {
   "cell_type": "code",
   "outputs": [
    {
     "name": "stderr",
     "output_type": "stream",
     "text": [
      "/var/folders/r1/rw867vbs5rgb3p287096s0yh0000gn/T/ipykernel_9409/4059555586.py:7: UserWarning: To copy construct from a tensor, it is recommended to use sourceTensor.clone().detach() or sourceTensor.clone().detach().requires_grad_(True), rather than torch.tensor(sourceTensor).\n",
      "  item = {key: torch.tensor(val[idx]) for key, val in self.encodings.items()}\n"
     ]
    },
    {
     "name": "stdout",
     "output_type": "stream",
     "text": [
      "Epoch 1, Loss: 0.8072622567415237\n",
      "Epoch 2, Loss: 0.23196949809789658\n",
      "Epoch 3, Loss: 0.19795387238264084\n",
      "Epoch 4, Loss: 0.19378655403852463\n",
      "Epoch 5, Loss: 0.1899193450808525\n",
      "Epoch 6, Loss: 0.1906154751777649\n",
      "Epoch 7, Loss: 0.18877806514501572\n",
      "Epoch 8, Loss: 0.18817968666553497\n",
      "Epoch 9, Loss: 0.18682911247015\n",
      "Epoch 10, Loss: 0.18326665461063385\n",
      "Epoch 11, Loss: 0.1763073280453682\n",
      "Epoch 12, Loss: 0.1637028232216835\n",
      "Epoch 13, Loss: 0.1525496169924736\n",
      "Epoch 14, Loss: 0.13995250314474106\n",
      "Epoch 15, Loss: 0.12373781204223633\n",
      "Epoch 16, Loss: 0.11843179538846016\n",
      "Epoch 17, Loss: 0.09095700830221176\n",
      "Epoch 18, Loss: 0.07870538160204887\n",
      "Epoch 19, Loss: 0.06261428631842136\n",
      "Epoch 20, Loss: 0.055289264768362045\n",
      "Epoch 21, Loss: 0.05215075425803661\n",
      "Epoch 22, Loss: 0.04429098404943943\n",
      "Epoch 23, Loss: 0.03517486434429884\n",
      "Epoch 24, Loss: 0.02727077528834343\n",
      "Epoch 25, Loss: 0.021283176727592945\n"
     ]
    }
   ],
   "source": [
    "device = torch.device('cuda' if torch.cuda.is_available() else 'cpu')\n",
    "\n",
    "# 학습 과정\n",
    "for epoch in range(25):\n",
    "    total_loss = 0\n",
    "    for batch in train_loader:\n",
    "        optimizer.zero_grad()\n",
    "        input_ids = batch['input_ids'].to(device)\n",
    "        attention_mask = batch['attention_mask'].to(device)\n",
    "        labels = batch['labels'].to(device)\n",
    "        outputs = model(input_ids, attention_mask=attention_mask, labels=labels)\n",
    "        loss = outputs.loss\n",
    "        loss.backward()\n",
    "        optimizer.step()\n",
    "        total_loss += loss.item()\n",
    "    print(f\"Epoch {epoch + 1}, Loss: {total_loss / len(train_loader)}\")\n"
   ],
   "metadata": {
    "collapsed": false,
    "ExecuteTime": {
     "end_time": "2024-04-03T08:12:04.078902Z",
     "start_time": "2024-04-03T08:09:31.173793Z"
    }
   },
   "id": "ea1a87796731ccbb",
   "execution_count": 12
  },
  {
   "cell_type": "markdown",
   "source": [
    "## 학습된 모델 테스트 함수"
   ],
   "metadata": {
    "collapsed": false
   },
   "id": "6e65ef0e9dab4b31"
  },
  {
   "cell_type": "code",
   "outputs": [],
   "source": [
    "id2tag = {0: 'O', 1: 'BANK', 2: 'COMPANY'}\n",
    "def predict(model, tokenizer, device, message):\n",
    "    model.eval()\n",
    "    inputs = tokenizer(message, return_tensors=\"pt\", padding=True, truncation=True, max_length=512, return_offsets_mapping=True)\n",
    "    input_ids = inputs['input_ids'].to(device)\n",
    "    attention_mask = inputs['attention_mask'].to(device)\n",
    "    offset_mapping = inputs[\"offset_mapping\"].detach().cpu().numpy()[0]  # 오프셋 매핑 정보\n",
    "    \n",
    "    with torch.no_grad():\n",
    "        outputs = model(input_ids, attention_mask=attention_mask)\n",
    "        predictions = torch.argmax(outputs.logits, dim=-1)\n",
    "\n",
    "    labels = [id2tag[id] for id in predictions[0].cpu().numpy()]\n",
    "    extracted_info = {\"BANK\": \"\", \"COMPANY\": \"\"}\n",
    "    \n",
    "    for i, (offset, label) in enumerate(zip(offset_mapping, labels)):\n",
    "        if label != \"O\":\n",
    "            start, end = offset\n",
    "            extracted_text = message[start:end]\n",
    "            extracted_info[label] += extracted_text + \" \"\n",
    "\n",
    "    for key in extracted_info:\n",
    "        extracted_info[key] = extracted_info[key].strip()\n",
    "\n",
    "    return extracted_info\n",
    "\n"
   ],
   "metadata": {
    "collapsed": false,
    "ExecuteTime": {
     "end_time": "2024-04-03T08:12:04.090159Z",
     "start_time": "2024-04-03T08:12:04.082117Z"
    }
   },
   "id": "dee0013812d3bae6",
   "execution_count": 13
  },
  {
   "cell_type": "code",
   "outputs": [
    {
     "name": "stdout",
     "output_type": "stream",
     "text": [
      "BANK: 신한은행\n",
      "COMPANY: 카카오페이\n"
     ]
    }
   ],
   "source": [
    "# 예시 메시지로 예측 테스트\n",
    "test_message = \"[Web발신] [신한은행] 장＊진 고객님께서 카카오페이(기관코드 C010268581)에서 신청하신 오픈뱅킹 출금이체건이 아래와 같이 등록되었습니다. 출금은행 : 신한은행 계좌번호 : 110-***-*88420 예금주명 : 장＊진 납부자번호 : 20220726347026339639 오픈뱅킹 출금이체를 신청하지 않은 경우 해당기관인 카카오페이(☎16447405)로 문의하여 주시기 바랍니다. 신한은행 고객센터(☎1599-8000) ※ 본 메시지는 오픈뱅킹 출금이체 관련 부당출금을 예방하기 위하여 고객님께 무료로 통지하고 있습니다.\"\n",
    "predicted_info = predict(model, tokenizer, device, test_message)\n",
    "for domain, text in predicted_info.items():\n",
    "    print(f\"{domain}: {text.strip()}\")\n"
   ],
   "metadata": {
    "collapsed": false,
    "ExecuteTime": {
     "end_time": "2024-04-03T08:12:04.173374Z",
     "start_time": "2024-04-03T08:12:04.091504Z"
    }
   },
   "id": "5999145072782041",
   "execution_count": 14
  },
  {
   "cell_type": "markdown",
   "source": [
    "## 모델 저장"
   ],
   "metadata": {
    "collapsed": false
   },
   "id": "8ae12adee1b9ddb2"
  },
  {
   "cell_type": "code",
   "outputs": [
    {
     "data": {
      "text/plain": "('./model/kobert_자동이체/tokenizer_config.json',\n './model/kobert_자동이체/special_tokens_map.json',\n './model/kobert_자동이체/vocab.txt',\n './model/kobert_자동이체/added_tokens.json',\n './model/kobert_자동이체/tokenizer.json')"
     },
     "execution_count": 15,
     "metadata": {},
     "output_type": "execute_result"
    }
   ],
   "source": [
    "model_save_path = \"./model/kobert_자동이체\"\n",
    "model.save_pretrained(model_save_path)\n",
    "tokenizer.save_pretrained(model_save_path)"
   ],
   "metadata": {
    "collapsed": false,
    "ExecuteTime": {
     "end_time": "2024-04-03T08:12:04.383082Z",
     "start_time": "2024-04-03T08:12:04.174452Z"
    }
   },
   "id": "1ac7bb67538f484e",
   "execution_count": 15
  },
  {
   "cell_type": "code",
   "outputs": [],
   "source": [],
   "metadata": {
    "collapsed": false,
    "ExecuteTime": {
     "end_time": "2024-04-03T08:12:04.385227Z",
     "start_time": "2024-04-03T08:12:04.383801Z"
    }
   },
   "id": "fdaa0a672e0dfcc1",
   "execution_count": 15
  }
 ],
 "metadata": {
  "kernelspec": {
   "display_name": "Python 3",
   "language": "python",
   "name": "python3"
  },
  "language_info": {
   "codemirror_mode": {
    "name": "ipython",
    "version": 2
   },
   "file_extension": ".py",
   "mimetype": "text/x-python",
   "name": "python",
   "nbconvert_exporter": "python",
   "pygments_lexer": "ipython2",
   "version": "2.7.6"
  }
 },
 "nbformat": 4,
 "nbformat_minor": 5
}
