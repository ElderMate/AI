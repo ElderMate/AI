{
 "cells": [
  {
   "cell_type": "markdown",
   "source": [
    "## 필요한 라이브러리 import"
   ],
   "metadata": {
    "collapsed": false
   },
   "id": "623e4f1f1a89c412"
  },
  {
   "cell_type": "code",
   "execution_count": 43,
   "id": "initial_id",
   "metadata": {
    "collapsed": true,
    "ExecuteTime": {
     "end_time": "2024-03-20T06:54:52.633443Z",
     "start_time": "2024-03-20T06:54:52.618391Z"
    }
   },
   "outputs": [],
   "source": [
    "import pandas as pd\n",
    "from sklearn.model_selection import train_test_split\n",
    "from sklearn.feature_extraction.text import TfidfVectorizer\n",
    "from sklearn.ensemble import RandomForestClassifier\n",
    "from sklearn.metrics import accuracy_score\n",
    "import os\n",
    "import joblib"
   ]
  },
  {
   "cell_type": "markdown",
   "source": [
    "## 데이터 준비 "
   ],
   "metadata": {
    "collapsed": false
   },
   "id": "86bd356c4ddf2a31"
  },
  {
   "cell_type": "code",
   "outputs": [
    {
     "data": {
      "text/plain": "                                          Message Body  label\n0    [Web발신]\\n[KB국민카드]장우진님 08/14 카드대금 561,229원(08/0...  납부 예정\n1    [Web발신]\\n[KB국민카드]장우진님 09/13 결제금액 20,000원(연회비 2...  납부 예정\n2    [Web발신]\\n[KB국민카드]장우진님 09/14 결제금액 599,554원(연회비 ...  납부 예정\n3    [Web발신]\\n[KB국민카드]장우진님 10/16 카드대금 642,364원(09/2...  납부 예정\n4    [Web발신]\\n[KB국민카드]장우진님 11/14 카드대금 696,667원(11/0...  납부 예정\n..                                                 ...    ...\n304  [Web발신] MG체크카드(1874) 우*하님 12,500원승인(계좌잔액224,23...  결제 승인\n305  [Web발신] MG체크카드(1874) 우*하님 3,960원승인(계좌잔액236,739...  결제 승인\n306  [Web발신] MG체크카드(1874) 우*하님 40,000원승인(계좌잔액184,23...  결제 승인\n307  [Web발신] SWING 언락패스 이용권(12,900원)이 1일 후 KB국민카드70...  납부 예정\n308  [Web발신] SWING 언락패스 이용권(12,900원)이 1일 후 KB국민카드70...  납부 예정\n\n[309 rows x 2 columns]",
      "text/html": "<div>\n<style scoped>\n    .dataframe tbody tr th:only-of-type {\n        vertical-align: middle;\n    }\n\n    .dataframe tbody tr th {\n        vertical-align: top;\n    }\n\n    .dataframe thead th {\n        text-align: right;\n    }\n</style>\n<table border=\"1\" class=\"dataframe\">\n  <thead>\n    <tr style=\"text-align: right;\">\n      <th></th>\n      <th>Message Body</th>\n      <th>label</th>\n    </tr>\n  </thead>\n  <tbody>\n    <tr>\n      <th>0</th>\n      <td>[Web발신]\\n[KB국민카드]장우진님 08/14 카드대금 561,229원(08/0...</td>\n      <td>납부 예정</td>\n    </tr>\n    <tr>\n      <th>1</th>\n      <td>[Web발신]\\n[KB국민카드]장우진님 09/13 결제금액 20,000원(연회비 2...</td>\n      <td>납부 예정</td>\n    </tr>\n    <tr>\n      <th>2</th>\n      <td>[Web발신]\\n[KB국민카드]장우진님 09/14 결제금액 599,554원(연회비 ...</td>\n      <td>납부 예정</td>\n    </tr>\n    <tr>\n      <th>3</th>\n      <td>[Web발신]\\n[KB국민카드]장우진님 10/16 카드대금 642,364원(09/2...</td>\n      <td>납부 예정</td>\n    </tr>\n    <tr>\n      <th>4</th>\n      <td>[Web발신]\\n[KB국민카드]장우진님 11/14 카드대금 696,667원(11/0...</td>\n      <td>납부 예정</td>\n    </tr>\n    <tr>\n      <th>...</th>\n      <td>...</td>\n      <td>...</td>\n    </tr>\n    <tr>\n      <th>304</th>\n      <td>[Web발신] MG체크카드(1874) 우*하님 12,500원승인(계좌잔액224,23...</td>\n      <td>결제 승인</td>\n    </tr>\n    <tr>\n      <th>305</th>\n      <td>[Web발신] MG체크카드(1874) 우*하님 3,960원승인(계좌잔액236,739...</td>\n      <td>결제 승인</td>\n    </tr>\n    <tr>\n      <th>306</th>\n      <td>[Web발신] MG체크카드(1874) 우*하님 40,000원승인(계좌잔액184,23...</td>\n      <td>결제 승인</td>\n    </tr>\n    <tr>\n      <th>307</th>\n      <td>[Web발신] SWING 언락패스 이용권(12,900원)이 1일 후 KB국민카드70...</td>\n      <td>납부 예정</td>\n    </tr>\n    <tr>\n      <th>308</th>\n      <td>[Web발신] SWING 언락패스 이용권(12,900원)이 1일 후 KB국민카드70...</td>\n      <td>납부 예정</td>\n    </tr>\n  </tbody>\n</table>\n<p>309 rows × 2 columns</p>\n</div>"
     },
     "execution_count": 44,
     "metadata": {},
     "output_type": "execute_result"
    }
   ],
   "source": [
    "# 예시 데이터 로드 (실제 경로를 사용자의 데이터 파일 경로로 바꿔야 함)\n",
    "df = pd.read_excel('./data/문자클래스데이터.xlsx')\n",
    "\n",
    "df = df[[\"Message Body\", \"label\"]]\n",
    "\n",
    "df"
   ],
   "metadata": {
    "collapsed": false,
    "ExecuteTime": {
     "end_time": "2024-03-20T06:54:52.701871Z",
     "start_time": "2024-03-20T06:54:52.647923Z"
    }
   },
   "id": "c5ad7250d1ece1cb",
   "execution_count": 44
  },
  {
   "cell_type": "markdown",
   "source": [
    "### 라벨 인코딩"
   ],
   "metadata": {
    "collapsed": false
   },
   "id": "dc54c4f5eee47236"
  },
  {
   "cell_type": "code",
   "outputs": [],
   "source": [
    "label_to_index = {\n",
    "    '납부 예정': 0,\n",
    "    '결제 거절': 1,\n",
    "    '결제 승인': 2,\n",
    "    '자동 이체': 3,\n",
    "    '미납': 4,\n",
    "    '결제 취소': 5,\n",
    "    '계좌 개설': 6\n",
    "}\n",
    "\n",
    "df['label_index'] = df['label'].map(label_to_index)"
   ],
   "metadata": {
    "collapsed": false,
    "ExecuteTime": {
     "end_time": "2024-03-20T06:54:52.706521Z",
     "start_time": "2024-03-20T06:54:52.703560Z"
    }
   },
   "id": "a15418814c674a3c",
   "execution_count": 45
  },
  {
   "cell_type": "markdown",
   "source": [
    "### 텍스트 데이터 벡터화"
   ],
   "metadata": {
    "collapsed": false
   },
   "id": "cdedc0a4c504e7c7"
  },
  {
   "cell_type": "code",
   "outputs": [],
   "source": [
    "# TF-IDF 벡터화\n",
    "tfidf = TfidfVectorizer(max_features=5000)\n",
    "X = tfidf.fit_transform(df['Message Body']).toarray()"
   ],
   "metadata": {
    "collapsed": false,
    "ExecuteTime": {
     "end_time": "2024-03-20T06:54:52.727790Z",
     "start_time": "2024-03-20T06:54:52.707538Z"
    }
   },
   "id": "972e60cc42a3bc2b",
   "execution_count": 46
  },
  {
   "cell_type": "code",
   "outputs": [
    {
     "data": {
      "text/plain": "['./vectorizer/tfidf_vectorizer.joblib']"
     },
     "execution_count": 47,
     "metadata": {},
     "output_type": "execute_result"
    }
   ],
   "source": [
    "# TF-IDF 벡터라이저 저장\n",
    "if not os.path.exists('./vectorizer'):\n",
    "    os.makedirs('./vectorizer')\n",
    "vectorizer_path = './vectorizer/tfidf_vectorizer.joblib'\n",
    "joblib.dump(tfidf, vectorizer_path)"
   ],
   "metadata": {
    "collapsed": false,
    "ExecuteTime": {
     "end_time": "2024-03-20T06:54:52.749345Z",
     "start_time": "2024-03-20T06:54:52.729531Z"
    }
   },
   "id": "4748df7b0574a959",
   "execution_count": 47
  },
  {
   "cell_type": "markdown",
   "source": [],
   "metadata": {
    "collapsed": false
   },
   "id": "ed6eb4f1ff95a99f"
  },
  {
   "cell_type": "code",
   "outputs": [],
   "source": [
    "# 라벨\n",
    "y = df['label_index']"
   ],
   "metadata": {
    "collapsed": false,
    "ExecuteTime": {
     "end_time": "2024-03-20T06:54:52.751801Z",
     "start_time": "2024-03-20T06:54:52.750186Z"
    }
   },
   "id": "1c246bf896ac1a51",
   "execution_count": 48
  },
  {
   "cell_type": "markdown",
   "source": [
    "### 학습 데이터 분할"
   ],
   "metadata": {
    "collapsed": false
   },
   "id": "b449f887a62ecdca"
  },
  {
   "cell_type": "code",
   "outputs": [],
   "source": [
    "# 학습 데이터 분할\n",
    "X_train, X_test, y_train, y_test = train_test_split(X, y, test_size=0.3, random_state=42)"
   ],
   "metadata": {
    "collapsed": false,
    "ExecuteTime": {
     "end_time": "2024-03-20T06:54:52.755977Z",
     "start_time": "2024-03-20T06:54:52.752666Z"
    }
   },
   "id": "d504307198563cd8",
   "execution_count": 49
  },
  {
   "cell_type": "markdown",
   "source": [
    "### 모델 구성"
   ],
   "metadata": {
    "collapsed": false
   },
   "id": "95e63c1b0e2ee088"
  },
  {
   "cell_type": "code",
   "outputs": [],
   "source": [
    "random_forest = RandomForestClassifier(n_estimators=100, random_state=42)"
   ],
   "metadata": {
    "collapsed": false,
    "ExecuteTime": {
     "end_time": "2024-03-20T06:54:52.760872Z",
     "start_time": "2024-03-20T06:54:52.756560Z"
    }
   },
   "id": "96bf9d551f69daa6",
   "execution_count": 50
  },
  {
   "cell_type": "markdown",
   "source": [
    "### 모델 학습"
   ],
   "metadata": {
    "collapsed": false
   },
   "id": "e875f166985c0009"
  },
  {
   "cell_type": "code",
   "outputs": [
    {
     "name": "stdout",
     "output_type": "stream",
     "text": [
      "Accuracy: 0.8709677419354839\n"
     ]
    }
   ],
   "source": [
    "random_forest.fit(X_train, y_train)\n",
    "# 예측 및 성능 평가\n",
    "y_pred = random_forest.predict(X_test)\n",
    "print(f\"Accuracy: {accuracy_score(y_test, y_pred)}\")"
   ],
   "metadata": {
    "collapsed": false,
    "ExecuteTime": {
     "end_time": "2024-03-20T06:54:52.842113Z",
     "start_time": "2024-03-20T06:54:52.761713Z"
    }
   },
   "id": "c577b3546143b0cd",
   "execution_count": 51
  },
  {
   "cell_type": "code",
   "outputs": [],
   "source": [],
   "metadata": {
    "collapsed": false,
    "ExecuteTime": {
     "end_time": "2024-03-20T06:54:52.844189Z",
     "start_time": "2024-03-20T06:54:52.842934Z"
    }
   },
   "id": "1af1a28c84c2d666",
   "execution_count": 51
  },
  {
   "cell_type": "markdown",
   "source": [],
   "metadata": {
    "collapsed": false
   },
   "id": "e7d27e0c1a640fd1"
  },
  {
   "cell_type": "markdown",
   "source": [
    "### 학습된 모델 테스트"
   ],
   "metadata": {
    "collapsed": false
   },
   "id": "a0e8c387b8a2f30b"
  },
  {
   "cell_type": "code",
   "outputs": [],
   "source": [
    "index_to_label = {\n",
    "    0: '납부 예정',\n",
    "    1: '결제 거절',\n",
    "    2: '결제 승인',\n",
    "    3: '자동 이체',\n",
    "    4: '미납',\n",
    "    5: '결제 취소',\n",
    "    6: '계좌 개설'\n",
    "}\n",
    "\n",
    "def get_label_from_index(index):\n",
    "    return index_to_label.get(index, \"Unknown\")"
   ],
   "metadata": {
    "collapsed": false,
    "ExecuteTime": {
     "end_time": "2024-03-20T06:54:52.848720Z",
     "start_time": "2024-03-20T06:54:52.846086Z"
    }
   },
   "id": "458724ea45ab7e4d",
   "execution_count": 52
  },
  {
   "cell_type": "code",
   "outputs": [],
   "source": [
    "def predict_class(text):\n",
    "    # 텍스트를 TF-IDF 벡터로 변환\n",
    "    text_vector = tfidf.transform([text]).toarray()\n",
    "    \n",
    "    # Random Forest 모델을 사용한 예측 수행\n",
    "    prediction = random_forest.predict(text_vector)\n",
    "    \n",
    "    # 예측된 클래스 인덱스\n",
    "    predicted_class_index = prediction[0]\n",
    "    \n",
    "    return get_label_from_index(predicted_class_index)"
   ],
   "metadata": {
    "collapsed": false,
    "ExecuteTime": {
     "end_time": "2024-03-20T06:54:52.851518Z",
     "start_time": "2024-03-20T06:54:52.849450Z"
    }
   },
   "id": "ab1b3e7077ba444d",
   "execution_count": 53
  },
  {
   "cell_type": "code",
   "outputs": [
    {
     "name": "stdout",
     "output_type": "stream",
     "text": [
      "Predicted class for the new text: 납부 예정\n"
     ]
    }
   ],
   "source": [
    "# 새로운 텍스트에 대한 클래스 예측\n",
    "new_text = \"\"\"[Web발신]\n",
    "[KB국민카드]장우진님 11/14 카드대금 696,667원(11/03기준) https://m.kbcard.com/z/a1\n",
    "https://media.hermes.kt.com/data/MEDIA/messagebase/411701d13bde41a3bfe47f311258e345.LT-201105161103520-fgrl.png.\"\"\"\n",
    "predicted_class = predict_class(new_text)\n",
    "print(f\"Predicted class for the new text: {predicted_class}\")"
   ],
   "metadata": {
    "collapsed": false,
    "ExecuteTime": {
     "end_time": "2024-03-20T06:54:52.858017Z",
     "start_time": "2024-03-20T06:54:52.852232Z"
    }
   },
   "id": "6729bfb459bf8400",
   "execution_count": 54
  },
  {
   "cell_type": "markdown",
   "source": [
    "### 학습된 모델 저장"
   ],
   "metadata": {
    "collapsed": false
   },
   "id": "b5a22d4e31abd7af"
  },
  {
   "cell_type": "code",
   "outputs": [
    {
     "data": {
      "text/plain": "['./model/random_forest_model.pkl']"
     },
     "execution_count": 55,
     "metadata": {},
     "output_type": "execute_result"
    }
   ],
   "source": [
    "# 모델 저장 디렉토리 확인 및 생성\n",
    "model_dir = './model'\n",
    "if not os.path.exists(model_dir):\n",
    "    os.makedirs(model_dir)\n",
    "\n",
    "model_path = os.path.join(model_dir, 'random_forest_model.pkl')\n",
    "joblib.dump(random_forest, model_path)"
   ],
   "metadata": {
    "collapsed": false,
    "ExecuteTime": {
     "end_time": "2024-03-20T06:54:52.880227Z",
     "start_time": "2024-03-20T06:54:52.858975Z"
    }
   },
   "id": "cd7aaa6eb2c8b051",
   "execution_count": 55
  },
  {
   "cell_type": "code",
   "outputs": [],
   "source": [],
   "metadata": {
    "collapsed": false,
    "ExecuteTime": {
     "end_time": "2024-03-20T06:54:52.882047Z",
     "start_time": "2024-03-20T06:54:52.880819Z"
    }
   },
   "id": "be237cf084a85106",
   "execution_count": 55
  }
 ],
 "metadata": {
  "kernelspec": {
   "display_name": "Python 3",
   "language": "python",
   "name": "python3"
  },
  "language_info": {
   "codemirror_mode": {
    "name": "ipython",
    "version": 2
   },
   "file_extension": ".py",
   "mimetype": "text/x-python",
   "name": "python",
   "nbconvert_exporter": "python",
   "pygments_lexer": "ipython2",
   "version": "2.7.6"
  }
 },
 "nbformat": 4,
 "nbformat_minor": 5
}
