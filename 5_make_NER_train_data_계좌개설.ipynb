{
 "cells": [
  {
   "cell_type": "code",
   "outputs": [],
   "source": [
    "import pandas as pd\n",
    "import json"
   ],
   "metadata": {
    "collapsed": false,
    "ExecuteTime": {
     "end_time": "2024-04-03T05:33:42.002537Z",
     "start_time": "2024-04-03T05:33:41.994297Z"
    }
   },
   "id": "e69afe5fddde32fc",
   "execution_count": 3
  },
  {
   "cell_type": "markdown",
   "source": [
    "## 계좌 개설"
   ],
   "metadata": {
    "collapsed": false
   },
   "id": "c5609120ba2fa302"
  },
  {
   "cell_type": "code",
   "outputs": [
    {
     "data": {
      "text/plain": "                                             message\n0  [Web발신] [카카오뱅크] 장*진님 입출금통장(2340)이 개설되었습니다. 금융사...\n1  [Web발신] [카카오뱅크] 장*진님, 미래에셋증권 주식계좌 개설신청이 접수되었습니...\n2  [Web발신] 장우진님의 토스증권 계좌가 개설되었어요. 이제 토스증권에서 투자를 시...\n3  [Web발신] [카카오뱅크] 장*진님 입출금통장(4687)이 개설되었습니다. 금융사...\n4  [Web발신] [카카오뱅크] 장*진님, KB증권 주식계좌 개설신청이 접수되었습니다....",
      "text/html": "<div>\n<style scoped>\n    .dataframe tbody tr th:only-of-type {\n        vertical-align: middle;\n    }\n\n    .dataframe tbody tr th {\n        vertical-align: top;\n    }\n\n    .dataframe thead th {\n        text-align: right;\n    }\n</style>\n<table border=\"1\" class=\"dataframe\">\n  <thead>\n    <tr style=\"text-align: right;\">\n      <th></th>\n      <th>message</th>\n    </tr>\n  </thead>\n  <tbody>\n    <tr>\n      <th>0</th>\n      <td>[Web발신] [카카오뱅크] 장*진님 입출금통장(2340)이 개설되었습니다. 금융사...</td>\n    </tr>\n    <tr>\n      <th>1</th>\n      <td>[Web발신] [카카오뱅크] 장*진님, 미래에셋증권 주식계좌 개설신청이 접수되었습니...</td>\n    </tr>\n    <tr>\n      <th>2</th>\n      <td>[Web발신] 장우진님의 토스증권 계좌가 개설되었어요. 이제 토스증권에서 투자를 시...</td>\n    </tr>\n    <tr>\n      <th>3</th>\n      <td>[Web발신] [카카오뱅크] 장*진님 입출금통장(4687)이 개설되었습니다. 금융사...</td>\n    </tr>\n    <tr>\n      <th>4</th>\n      <td>[Web발신] [카카오뱅크] 장*진님, KB증권 주식계좌 개설신청이 접수되었습니다....</td>\n    </tr>\n  </tbody>\n</table>\n</div>"
     },
     "execution_count": 4,
     "metadata": {},
     "output_type": "execute_result"
    }
   ],
   "source": [
    "# 파일 경로\n",
    "file_path = './data/키워드추출/계좌개설키워드.xlsx'\n",
    "\n",
    "# 파일 내용 읽기\n",
    "data = pd.read_excel(file_path)\n",
    "\n",
    "# 데이터의 첫 5행을 출력해 데이터의 구조를 확인\n",
    "data.head()\n"
   ],
   "metadata": {
    "collapsed": false,
    "ExecuteTime": {
     "end_time": "2024-04-03T05:33:42.022129Z",
     "start_time": "2024-04-03T05:33:42.005806Z"
    }
   },
   "id": "b3920dd1c903c5cf",
   "execution_count": 4
  },
  {
   "cell_type": "code",
   "outputs": [],
   "source": [
    "new_data1 = [{\n",
    "\"BANK\": \"카카오뱅크\",\n",
    "\"TYPE\": \"입출금통장\"\n",
    "},\n",
    "{\n",
    "\"BANK\": \"미래에셋증권\",\n",
    "\"TYPE\": \"주식계좌\"\n",
    "},\n",
    "{\n",
    "\"BANK\": \"토스증권\",\n",
    "\"TYPE\": \"주식계좌\"\n",
    "},\n",
    "{\n",
    "\"BANK\": \"카카오뱅크\",\n",
    "\"TYPE\": \"입출금통장\"\n",
    "},\n",
    "{\n",
    "\"BANK\": \"KB증권\",\n",
    "\"TYPE\": \"주식계좌\"\n",
    "},\n",
    "{\n",
    "\"BANK\": \"NH투자증권\",\n",
    "\"TYPE\": \"주식계좌\"\n",
    "},\n",
    "{\n",
    "\"BANK\": \"삼성증권\",\n",
    "\"TYPE\": \"주식계좌\"\n",
    "},\n",
    "{\n",
    "\"BANK\": \"한국투자증권\",\n",
    "\"TYPE\": \"주식계좌\"\n",
    "},\n",
    "{\n",
    "\"BANK\": \"하나증권\",\n",
    "\"TYPE\": \"주식계좌\"\n",
    "},\n",
    "{\n",
    "\"BANK\": \"미래에셋증권\",\n",
    "\"TYPE\": \"주식계좌\"\n",
    "}]\n"
   ],
   "metadata": {
    "collapsed": false,
    "ExecuteTime": {
     "end_time": "2024-04-03T05:33:42.027741Z",
     "start_time": "2024-04-03T05:33:42.024184Z"
    }
   },
   "id": "f85100434dc5a703",
   "execution_count": 5
  },
  {
   "cell_type": "code",
   "outputs": [
    {
     "data": {
      "text/plain": "                                             message  \\\n0  [Web발신] [카카오뱅크] 장*진님 입출금통장(2340)이 개설되었습니다. 금융사...   \n1  [Web발신] [카카오뱅크] 장*진님, 미래에셋증권 주식계좌 개설신청이 접수되었습니...   \n2  [Web발신] 장우진님의 토스증권 계좌가 개설되었어요. 이제 토스증권에서 투자를 시...   \n3  [Web발신] [카카오뱅크] 장*진님 입출금통장(4687)이 개설되었습니다. 금융사...   \n4  [Web발신] [카카오뱅크] 장*진님, KB증권 주식계좌 개설신청이 접수되었습니다....   \n\n                               result  \n0  {'BANK': '카카오뱅크', 'TYPE': '입출금통장'}  \n1  {'BANK': '미래에셋증권', 'TYPE': '주식계좌'}  \n2    {'BANK': '토스증권', 'TYPE': '주식계좌'}  \n3  {'BANK': '카카오뱅크', 'TYPE': '입출금통장'}  \n4    {'BANK': 'KB증권', 'TYPE': '주식계좌'}  ",
      "text/html": "<div>\n<style scoped>\n    .dataframe tbody tr th:only-of-type {\n        vertical-align: middle;\n    }\n\n    .dataframe tbody tr th {\n        vertical-align: top;\n    }\n\n    .dataframe thead th {\n        text-align: right;\n    }\n</style>\n<table border=\"1\" class=\"dataframe\">\n  <thead>\n    <tr style=\"text-align: right;\">\n      <th></th>\n      <th>message</th>\n      <th>result</th>\n    </tr>\n  </thead>\n  <tbody>\n    <tr>\n      <th>0</th>\n      <td>[Web발신] [카카오뱅크] 장*진님 입출금통장(2340)이 개설되었습니다. 금융사...</td>\n      <td>{'BANK': '카카오뱅크', 'TYPE': '입출금통장'}</td>\n    </tr>\n    <tr>\n      <th>1</th>\n      <td>[Web발신] [카카오뱅크] 장*진님, 미래에셋증권 주식계좌 개설신청이 접수되었습니...</td>\n      <td>{'BANK': '미래에셋증권', 'TYPE': '주식계좌'}</td>\n    </tr>\n    <tr>\n      <th>2</th>\n      <td>[Web발신] 장우진님의 토스증권 계좌가 개설되었어요. 이제 토스증권에서 투자를 시...</td>\n      <td>{'BANK': '토스증권', 'TYPE': '주식계좌'}</td>\n    </tr>\n    <tr>\n      <th>3</th>\n      <td>[Web발신] [카카오뱅크] 장*진님 입출금통장(4687)이 개설되었습니다. 금융사...</td>\n      <td>{'BANK': '카카오뱅크', 'TYPE': '입출금통장'}</td>\n    </tr>\n    <tr>\n      <th>4</th>\n      <td>[Web발신] [카카오뱅크] 장*진님, KB증권 주식계좌 개설신청이 접수되었습니다....</td>\n      <td>{'BANK': 'KB증권', 'TYPE': '주식계좌'}</td>\n    </tr>\n  </tbody>\n</table>\n</div>"
     },
     "execution_count": 6,
     "metadata": {},
     "output_type": "execute_result"
    }
   ],
   "source": [
    "data['result'] = pd.Series([str(result) for result in new_data1])\n",
    "\n",
    "data.head()"
   ],
   "metadata": {
    "collapsed": false,
    "ExecuteTime": {
     "end_time": "2024-04-03T05:33:42.039016Z",
     "start_time": "2024-04-03T05:33:42.030994Z"
    }
   },
   "id": "4ef91b0931c8af34",
   "execution_count": 6
  },
  {
   "cell_type": "code",
   "outputs": [],
   "source": [
    "data.to_excel('./data/NER학습데이터/NER_계좌개설.xlsx', index=False)"
   ],
   "metadata": {
    "collapsed": false,
    "ExecuteTime": {
     "end_time": "2024-04-03T05:33:42.050189Z",
     "start_time": "2024-04-03T05:33:42.040804Z"
    }
   },
   "id": "fa9d320fef584f44",
   "execution_count": 7
  },
  {
   "cell_type": "code",
   "outputs": [],
   "source": [
    "def find_substring_indices(message, result):\n",
    "    annotations = []\n",
    "    for key, value in result.items():\n",
    "        start_index = message.find(value)\n",
    "        if start_index != -1:  # Found the substring\n",
    "            end_index = start_index + len(value)\n",
    "            annotations.append((start_index, end_index, key.upper()))\n",
    "    return annotations"
   ],
   "metadata": {
    "collapsed": false,
    "ExecuteTime": {
     "end_time": "2024-04-03T05:33:42.053550Z",
     "start_time": "2024-04-03T05:33:42.050926Z"
    }
   },
   "id": "5aabe7f5f8d59d34",
   "execution_count": 8
  },
  {
   "cell_type": "code",
   "outputs": [
    {
     "data": {
      "text/plain": "                                             message  \\\n0  [Web발신] [카카오뱅크] 장*진님 입출금통장(2340)이 개설되었습니다. 금융사...   \n1  [Web발신] [카카오뱅크] 장*진님, 미래에셋증권 주식계좌 개설신청이 접수되었습니...   \n2  [Web발신] 장우진님의 토스증권 계좌가 개설되었어요. 이제 토스증권에서 투자를 시...   \n3  [Web발신] [카카오뱅크] 장*진님 입출금통장(4687)이 개설되었습니다. 금융사...   \n4  [Web발신] [카카오뱅크] 장*진님, KB증권 주식계좌 개설신청이 접수되었습니다....   \n\n                               result                       annotations  \n0  {'BANK': '카카오뱅크', 'TYPE': '입출금통장'}   [(9, 14, BANK), (21, 26, TYPE)]  \n1  {'BANK': '미래에셋증권', 'TYPE': '주식계좌'}  [(22, 28, BANK), (29, 33, TYPE)]  \n2    {'BANK': '토스증권', 'TYPE': '주식계좌'}                  [(14, 18, BANK)]  \n3  {'BANK': '카카오뱅크', 'TYPE': '입출금통장'}   [(9, 14, BANK), (21, 26, TYPE)]  \n4    {'BANK': 'KB증권', 'TYPE': '주식계좌'}  [(22, 26, BANK), (27, 31, TYPE)]  ",
      "text/html": "<div>\n<style scoped>\n    .dataframe tbody tr th:only-of-type {\n        vertical-align: middle;\n    }\n\n    .dataframe tbody tr th {\n        vertical-align: top;\n    }\n\n    .dataframe thead th {\n        text-align: right;\n    }\n</style>\n<table border=\"1\" class=\"dataframe\">\n  <thead>\n    <tr style=\"text-align: right;\">\n      <th></th>\n      <th>message</th>\n      <th>result</th>\n      <th>annotations</th>\n    </tr>\n  </thead>\n  <tbody>\n    <tr>\n      <th>0</th>\n      <td>[Web발신] [카카오뱅크] 장*진님 입출금통장(2340)이 개설되었습니다. 금융사...</td>\n      <td>{'BANK': '카카오뱅크', 'TYPE': '입출금통장'}</td>\n      <td>[(9, 14, BANK), (21, 26, TYPE)]</td>\n    </tr>\n    <tr>\n      <th>1</th>\n      <td>[Web발신] [카카오뱅크] 장*진님, 미래에셋증권 주식계좌 개설신청이 접수되었습니...</td>\n      <td>{'BANK': '미래에셋증권', 'TYPE': '주식계좌'}</td>\n      <td>[(22, 28, BANK), (29, 33, TYPE)]</td>\n    </tr>\n    <tr>\n      <th>2</th>\n      <td>[Web발신] 장우진님의 토스증권 계좌가 개설되었어요. 이제 토스증권에서 투자를 시...</td>\n      <td>{'BANK': '토스증권', 'TYPE': '주식계좌'}</td>\n      <td>[(14, 18, BANK)]</td>\n    </tr>\n    <tr>\n      <th>3</th>\n      <td>[Web발신] [카카오뱅크] 장*진님 입출금통장(4687)이 개설되었습니다. 금융사...</td>\n      <td>{'BANK': '카카오뱅크', 'TYPE': '입출금통장'}</td>\n      <td>[(9, 14, BANK), (21, 26, TYPE)]</td>\n    </tr>\n    <tr>\n      <th>4</th>\n      <td>[Web발신] [카카오뱅크] 장*진님, KB증권 주식계좌 개설신청이 접수되었습니다....</td>\n      <td>{'BANK': 'KB증권', 'TYPE': '주식계좌'}</td>\n      <td>[(22, 26, BANK), (27, 31, TYPE)]</td>\n    </tr>\n  </tbody>\n</table>\n</div>"
     },
     "execution_count": 9,
     "metadata": {},
     "output_type": "execute_result"
    }
   ],
   "source": [
    "# Convert the 'result' column back to dictionary format from string representation\n",
    "data['result'] = data['result'].apply(lambda x: json.loads(x.replace(\"'\", \"\\\"\")))\n",
    "\n",
    "# Apply the function to find annotations for each row\n",
    "data['annotations'] = data.apply(lambda row: find_substring_indices(row['message'], row['result']), axis=1)\n",
    "\n",
    "# Show the DataFrame to confirm the 'annotations' column\n",
    "data[['message', 'result', 'annotations']].head()"
   ],
   "metadata": {
    "collapsed": false,
    "ExecuteTime": {
     "end_time": "2024-04-03T05:33:42.064738Z",
     "start_time": "2024-04-03T05:33:42.055312Z"
    }
   },
   "id": "39b896a9b176b7aa",
   "execution_count": 9
  },
  {
   "cell_type": "code",
   "outputs": [],
   "source": [
    "data.to_excel('./data/NER학습데이터/NER_계좌개설.xlsx', index=False)"
   ],
   "metadata": {
    "collapsed": false,
    "ExecuteTime": {
     "end_time": "2024-04-03T05:33:42.073748Z",
     "start_time": "2024-04-03T05:33:42.065778Z"
    }
   },
   "id": "fd9110c75d60ff63",
   "execution_count": 10
  }
 ],
 "metadata": {
  "kernelspec": {
   "display_name": "Python 3",
   "language": "python",
   "name": "python3"
  },
  "language_info": {
   "codemirror_mode": {
    "name": "ipython",
    "version": 2
   },
   "file_extension": ".py",
   "mimetype": "text/x-python",
   "name": "python",
   "nbconvert_exporter": "python",
   "pygments_lexer": "ipython2",
   "version": "2.7.6"
  }
 },
 "nbformat": 4,
 "nbformat_minor": 5
}
