{
 "cells": [
  {
   "cell_type": "markdown",
   "source": [
    "## 필요한 라이브러리 import"
   ],
   "metadata": {
    "collapsed": false
   },
   "id": "623e4f1f1a89c412"
  },
  {
   "cell_type": "code",
   "execution_count": 19,
   "id": "initial_id",
   "metadata": {
    "collapsed": true,
    "ExecuteTime": {
     "end_time": "2024-03-19T15:57:32.306399Z",
     "start_time": "2024-03-19T15:57:32.290440Z"
    }
   },
   "outputs": [],
   "source": [
    "import os\n",
    "import json\n",
    "import pandas as pd\n",
    "import numpy as np\n",
    "from sklearn.model_selection import train_test_split\n",
    "from tensorflow.keras.models import Sequential\n",
    "from tensorflow.keras.layers import Dense, LSTM, Embedding, SpatialDropout1D\n",
    "from tensorflow.keras.preprocessing.text import Tokenizer\n",
    "from tensorflow.keras.preprocessing.sequence import pad_sequences\n",
    "from tensorflow.keras.utils import to_categorical\n",
    "from tensorflow.keras.callbacks import EarlyStopping"
   ]
  },
  {
   "cell_type": "markdown",
   "source": [
    "## 데이터 준비 "
   ],
   "metadata": {
    "collapsed": false
   },
   "id": "86bd356c4ddf2a31"
  },
  {
   "cell_type": "code",
   "outputs": [
    {
     "data": {
      "text/plain": "                                          Message Body  label\n0    [Web발신]\\n[KB국민카드]장우진님 08/14 카드대금 561,229원(08/0...  납부 예정\n1    [Web발신]\\n[KB국민카드]장우진님 09/13 결제금액 20,000원(연회비 2...  납부 예정\n2    [Web발신]\\n[KB국민카드]장우진님 09/14 결제금액 599,554원(연회비 ...  납부 예정\n3    [Web발신]\\n[KB국민카드]장우진님 10/16 카드대금 642,364원(09/2...  납부 예정\n4    [Web발신]\\n[KB국민카드]장우진님 11/14 카드대금 696,667원(11/0...  납부 예정\n..                                                 ...    ...\n304  [Web발신] MG체크카드(1874) 우*하님 12,500원승인(계좌잔액224,23...  결제 승인\n305  [Web발신] MG체크카드(1874) 우*하님 3,960원승인(계좌잔액236,739...  결제 승인\n306  [Web발신] MG체크카드(1874) 우*하님 40,000원승인(계좌잔액184,23...  결제 승인\n307  [Web발신] SWING 언락패스 이용권(12,900원)이 1일 후 KB국민카드70...  납부 예정\n308  [Web발신] SWING 언락패스 이용권(12,900원)이 1일 후 KB국민카드70...  납부 예정\n\n[309 rows x 2 columns]",
      "text/html": "<div>\n<style scoped>\n    .dataframe tbody tr th:only-of-type {\n        vertical-align: middle;\n    }\n\n    .dataframe tbody tr th {\n        vertical-align: top;\n    }\n\n    .dataframe thead th {\n        text-align: right;\n    }\n</style>\n<table border=\"1\" class=\"dataframe\">\n  <thead>\n    <tr style=\"text-align: right;\">\n      <th></th>\n      <th>Message Body</th>\n      <th>label</th>\n    </tr>\n  </thead>\n  <tbody>\n    <tr>\n      <th>0</th>\n      <td>[Web발신]\\n[KB국민카드]장우진님 08/14 카드대금 561,229원(08/0...</td>\n      <td>납부 예정</td>\n    </tr>\n    <tr>\n      <th>1</th>\n      <td>[Web발신]\\n[KB국민카드]장우진님 09/13 결제금액 20,000원(연회비 2...</td>\n      <td>납부 예정</td>\n    </tr>\n    <tr>\n      <th>2</th>\n      <td>[Web발신]\\n[KB국민카드]장우진님 09/14 결제금액 599,554원(연회비 ...</td>\n      <td>납부 예정</td>\n    </tr>\n    <tr>\n      <th>3</th>\n      <td>[Web발신]\\n[KB국민카드]장우진님 10/16 카드대금 642,364원(09/2...</td>\n      <td>납부 예정</td>\n    </tr>\n    <tr>\n      <th>4</th>\n      <td>[Web발신]\\n[KB국민카드]장우진님 11/14 카드대금 696,667원(11/0...</td>\n      <td>납부 예정</td>\n    </tr>\n    <tr>\n      <th>...</th>\n      <td>...</td>\n      <td>...</td>\n    </tr>\n    <tr>\n      <th>304</th>\n      <td>[Web발신] MG체크카드(1874) 우*하님 12,500원승인(계좌잔액224,23...</td>\n      <td>결제 승인</td>\n    </tr>\n    <tr>\n      <th>305</th>\n      <td>[Web발신] MG체크카드(1874) 우*하님 3,960원승인(계좌잔액236,739...</td>\n      <td>결제 승인</td>\n    </tr>\n    <tr>\n      <th>306</th>\n      <td>[Web발신] MG체크카드(1874) 우*하님 40,000원승인(계좌잔액184,23...</td>\n      <td>결제 승인</td>\n    </tr>\n    <tr>\n      <th>307</th>\n      <td>[Web발신] SWING 언락패스 이용권(12,900원)이 1일 후 KB국민카드70...</td>\n      <td>납부 예정</td>\n    </tr>\n    <tr>\n      <th>308</th>\n      <td>[Web발신] SWING 언락패스 이용권(12,900원)이 1일 후 KB국민카드70...</td>\n      <td>납부 예정</td>\n    </tr>\n  </tbody>\n</table>\n<p>309 rows × 2 columns</p>\n</div>"
     },
     "execution_count": 20,
     "metadata": {},
     "output_type": "execute_result"
    }
   ],
   "source": [
    "# 예시 데이터 로드 (실제 경로를 사용자의 데이터 파일 경로로 바꿔야 함)\n",
    "df = pd.read_excel('./data/문자클래스데이터.xlsx')\n",
    "\n",
    "df = df[[\"Message Body\", \"label\"]]\n",
    "\n",
    "df"
   ],
   "metadata": {
    "collapsed": false,
    "ExecuteTime": {
     "end_time": "2024-03-19T15:57:32.717686Z",
     "start_time": "2024-03-19T15:57:32.673813Z"
    }
   },
   "id": "c5ad7250d1ece1cb",
   "execution_count": 20
  },
  {
   "cell_type": "markdown",
   "source": [
    "### 라벨 인코딩"
   ],
   "metadata": {
    "collapsed": false
   },
   "id": "dc54c4f5eee47236"
  },
  {
   "cell_type": "code",
   "outputs": [],
   "source": [
    "label_to_index = {\n",
    "    '납부 예정': 0,\n",
    "    '결제 거절': 1,\n",
    "    '결제 승인': 2,\n",
    "    '자동 이체': 3,\n",
    "    '미납': 4,\n",
    "    '결제 취소': 5,\n",
    "    '계좌 개설': 6\n",
    "}\n",
    "\n",
    "df['label_index'] = df['label'].map(label_to_index)"
   ],
   "metadata": {
    "collapsed": false,
    "ExecuteTime": {
     "end_time": "2024-03-19T15:57:33.102928Z",
     "start_time": "2024-03-19T15:57:33.098005Z"
    }
   },
   "id": "a15418814c674a3c",
   "execution_count": 21
  },
  {
   "cell_type": "markdown",
   "source": [
    "### 텍스트 데이터 벡터화"
   ],
   "metadata": {
    "collapsed": false
   },
   "id": "cdedc0a4c504e7c7"
  },
  {
   "cell_type": "code",
   "outputs": [],
   "source": [
    "# 토크나이저 설정\n",
    "max_words = 5000\n",
    "max_len = 50\n",
    "tokenizer = Tokenizer(num_words=max_words, lower=True)\n",
    "\n",
    "# 데이터 준비 및 토크나이저 학습\n",
    "tokenizer.fit_on_texts(df['Message Body'])\n",
    "\n",
    "# 텍스트를 시퀀스로 변환하고 패딩 적용\n",
    "sequences = tokenizer.texts_to_sequences(df['Message Body'])\n",
    "text_data = pad_sequences(sequences, maxlen=max_len)\n",
    "\n",
    "# 토크나이저 저장\n",
    "tokenizer_json = tokenizer.to_json()\n",
    "with open('./tokenizer/LSTM_tokenizer.json', 'w', encoding='utf-8') as f:\n",
    "    f.write(json.dumps(tokenizer_json, ensure_ascii=False))"
   ],
   "metadata": {
    "collapsed": false,
    "ExecuteTime": {
     "end_time": "2024-03-19T15:57:33.532608Z",
     "start_time": "2024-03-19T15:57:33.502604Z"
    }
   },
   "id": "972e60cc42a3bc2b",
   "execution_count": 22
  },
  {
   "cell_type": "markdown",
   "source": [],
   "metadata": {
    "collapsed": false
   },
   "id": "ed6eb4f1ff95a99f"
  },
  {
   "cell_type": "code",
   "outputs": [],
   "source": [
    "# 라벨을 카테고리형으로 변환\n",
    "labels = to_categorical(df['label_index']\n",
    "                        ,num_classes=df['label'].nunique())"
   ],
   "metadata": {
    "collapsed": false,
    "ExecuteTime": {
     "end_time": "2024-03-19T15:57:34.232948Z",
     "start_time": "2024-03-19T15:57:34.228286Z"
    }
   },
   "id": "1c246bf896ac1a51",
   "execution_count": 23
  },
  {
   "cell_type": "markdown",
   "source": [
    "### 학습 데이터 분할"
   ],
   "metadata": {
    "collapsed": false
   },
   "id": "b449f887a62ecdca"
  },
  {
   "cell_type": "code",
   "outputs": [],
   "source": [
    "X_train, X_test, y_train, y_test = train_test_split(text_data, labels, test_size=0.3, random_state=42)\n"
   ],
   "metadata": {
    "collapsed": false,
    "ExecuteTime": {
     "end_time": "2024-03-19T15:57:34.909035Z",
     "start_time": "2024-03-19T15:57:34.899166Z"
    }
   },
   "id": "d504307198563cd8",
   "execution_count": 24
  },
  {
   "cell_type": "markdown",
   "source": [
    "### 모델 구성"
   ],
   "metadata": {
    "collapsed": false
   },
   "id": "95e63c1b0e2ee088"
  },
  {
   "cell_type": "code",
   "outputs": [],
   "source": [
    "max_words = 10000  # 예시 값, 실제 데이터에 맞게 조정해야 함\n",
    "max_len = 100      # 예시 값, 실제 데이터에 맞게 조정해야 함\n",
    "\n",
    "model = Sequential()\n",
    "model.add(Embedding(input_dim=max_words, output_dim=100))\n",
    "model.add(SpatialDropout1D(0.2))\n",
    "model.add(LSTM(100, dropout=0.2))\n",
    "model.add(Dense(df['label_index'].nunique(), activation='softmax'))\n",
    "\n",
    "model.compile(loss='categorical_crossentropy', optimizer='adam', metrics=['accuracy'])\n"
   ],
   "metadata": {
    "collapsed": false,
    "ExecuteTime": {
     "end_time": "2024-03-19T15:57:35.829282Z",
     "start_time": "2024-03-19T15:57:35.770463Z"
    }
   },
   "id": "96bf9d551f69daa6",
   "execution_count": 25
  },
  {
   "cell_type": "markdown",
   "source": [
    "### 모델 학습"
   ],
   "metadata": {
    "collapsed": false
   },
   "id": "e875f166985c0009"
  },
  {
   "cell_type": "code",
   "outputs": [
    {
     "name": "stdout",
     "output_type": "stream",
     "text": [
      "Epoch 1/12\n",
      "\u001B[1m7/7\u001B[0m \u001B[32m━━━━━━━━━━━━━━━━━━━━\u001B[0m\u001B[37m\u001B[0m \u001B[1m1s\u001B[0m 43ms/step - accuracy: 0.2738 - loss: 1.9311 - val_accuracy: 0.2727 - val_loss: 1.8531\n",
      "Epoch 2/12\n",
      "\u001B[1m7/7\u001B[0m \u001B[32m━━━━━━━━━━━━━━━━━━━━\u001B[0m\u001B[37m\u001B[0m \u001B[1m0s\u001B[0m 27ms/step - accuracy: 0.3815 - loss: 1.7829 - val_accuracy: 0.3636 - val_loss: 1.7761\n",
      "Epoch 3/12\n",
      "\u001B[1m7/7\u001B[0m \u001B[32m━━━━━━━━━━━━━━━━━━━━\u001B[0m\u001B[37m\u001B[0m \u001B[1m0s\u001B[0m 25ms/step - accuracy: 0.4411 - loss: 1.6250 - val_accuracy: 0.5909 - val_loss: 1.6452\n",
      "Epoch 4/12\n",
      "\u001B[1m7/7\u001B[0m \u001B[32m━━━━━━━━━━━━━━━━━━━━\u001B[0m\u001B[37m\u001B[0m \u001B[1m0s\u001B[0m 25ms/step - accuracy: 0.6439 - loss: 1.4646 - val_accuracy: 0.3636 - val_loss: 1.5751\n",
      "Epoch 5/12\n",
      "\u001B[1m7/7\u001B[0m \u001B[32m━━━━━━━━━━━━━━━━━━━━\u001B[0m\u001B[37m\u001B[0m \u001B[1m0s\u001B[0m 24ms/step - accuracy: 0.4815 - loss: 1.3930 - val_accuracy: 0.5909 - val_loss: 1.3856\n",
      "Epoch 6/12\n",
      "\u001B[1m7/7\u001B[0m \u001B[32m━━━━━━━━━━━━━━━━━━━━\u001B[0m\u001B[37m\u001B[0m \u001B[1m0s\u001B[0m 25ms/step - accuracy: 0.7174 - loss: 1.1840 - val_accuracy: 0.5909 - val_loss: 1.2010\n",
      "Epoch 7/12\n",
      "\u001B[1m7/7\u001B[0m \u001B[32m━━━━━━━━━━━━━━━━━━━━\u001B[0m\u001B[37m\u001B[0m \u001B[1m0s\u001B[0m 49ms/step - accuracy: 0.6890 - loss: 1.0229 - val_accuracy: 0.6364 - val_loss: 1.0227\n",
      "Epoch 8/12\n",
      "\u001B[1m7/7\u001B[0m \u001B[32m━━━━━━━━━━━━━━━━━━━━\u001B[0m\u001B[37m\u001B[0m \u001B[1m0s\u001B[0m 26ms/step - accuracy: 0.6467 - loss: 0.9032 - val_accuracy: 0.6364 - val_loss: 0.9027\n",
      "Epoch 9/12\n",
      "\u001B[1m7/7\u001B[0m \u001B[32m━━━━━━━━━━━━━━━━━━━━\u001B[0m\u001B[37m\u001B[0m \u001B[1m0s\u001B[0m 24ms/step - accuracy: 0.7480 - loss: 0.6867 - val_accuracy: 0.6818 - val_loss: 0.7556\n",
      "Epoch 10/12\n",
      "\u001B[1m7/7\u001B[0m \u001B[32m━━━━━━━━━━━━━━━━━━━━\u001B[0m\u001B[37m\u001B[0m \u001B[1m0s\u001B[0m 24ms/step - accuracy: 0.7127 - loss: 0.5863 - val_accuracy: 0.7727 - val_loss: 0.5996\n",
      "Epoch 11/12\n",
      "\u001B[1m7/7\u001B[0m \u001B[32m━━━━━━━━━━━━━━━━━━━━\u001B[0m\u001B[37m\u001B[0m \u001B[1m0s\u001B[0m 28ms/step - accuracy: 0.8553 - loss: 0.4769 - val_accuracy: 0.8182 - val_loss: 0.5471\n",
      "Epoch 12/12\n",
      "\u001B[1m7/7\u001B[0m \u001B[32m━━━━━━━━━━━━━━━━━━━━\u001B[0m\u001B[37m\u001B[0m \u001B[1m0s\u001B[0m 27ms/step - accuracy: 0.9071 - loss: 0.4015 - val_accuracy: 0.9091 - val_loss: 0.4202\n"
     ]
    },
    {
     "data": {
      "text/plain": "<keras.src.callbacks.history.History at 0x2900dfeb0>"
     },
     "execution_count": 26,
     "metadata": {},
     "output_type": "execute_result"
    }
   ],
   "source": [
    "batch_size = 32\n",
    "model.fit(X_train, y_train, epochs=12, batch_size=batch_size, validation_split=0.1, callbacks=[EarlyStopping(monitor='val_loss', patience=3, min_delta=0.0001)])\n"
   ],
   "metadata": {
    "collapsed": false,
    "ExecuteTime": {
     "end_time": "2024-03-19T15:57:41.051544Z",
     "start_time": "2024-03-19T15:57:37.716227Z"
    }
   },
   "id": "c577b3546143b0cd",
   "execution_count": 26
  },
  {
   "cell_type": "markdown",
   "source": [
    "### 학습된 모델 테스트"
   ],
   "metadata": {
    "collapsed": false
   },
   "id": "a0e8c387b8a2f30b"
  },
  {
   "cell_type": "code",
   "outputs": [],
   "source": [
    "index_to_label = {\n",
    "    0: '납부 예정',\n",
    "    1: '결제 거절',\n",
    "    2: '결제 승인',\n",
    "    3: '자동 이체',\n",
    "    4: '미납',\n",
    "    5: '결제 취소',\n",
    "    6: '계좌 개설'\n",
    "}\n",
    "\n",
    "def get_label_from_index(index):\n",
    "    return index_to_label.get(index, \"Unknown\")"
   ],
   "metadata": {
    "collapsed": false,
    "ExecuteTime": {
     "end_time": "2024-03-19T15:57:45.317106Z",
     "start_time": "2024-03-19T15:57:45.310242Z"
    }
   },
   "id": "458724ea45ab7e4d",
   "execution_count": 27
  },
  {
   "cell_type": "code",
   "outputs": [],
   "source": [
    "def predict_class(text):\n",
    "    # 텍스트를 시퀀스로 변환\n",
    "    sequences = tokenizer.texts_to_sequences([text])\n",
    "    \n",
    "    # 패딩 적용 (max_len은 실제 모델 학습에 사용된 시퀀스 길이에 맞춰야 함)\n",
    "    padded_sequences = pad_sequences(sequences, maxlen=100)\n",
    "    \n",
    "    # 모델을 사용한 예측 수행\n",
    "    prediction = model.predict(padded_sequences)\n",
    "    \n",
    "    # 가장 높은 확률을 가진 클래스의 인덱스를 찾음\n",
    "    predicted_class = np.argmax(prediction, axis=1)\n",
    "    \n",
    "    return get_label_from_index(predicted_class[0])"
   ],
   "metadata": {
    "collapsed": false,
    "ExecuteTime": {
     "end_time": "2024-03-19T15:57:45.545012Z",
     "start_time": "2024-03-19T15:57:45.541517Z"
    }
   },
   "id": "ab1b3e7077ba444d",
   "execution_count": 28
  },
  {
   "cell_type": "code",
   "outputs": [
    {
     "name": "stdout",
     "output_type": "stream",
     "text": [
      "\u001B[1m1/1\u001B[0m \u001B[32m━━━━━━━━━━━━━━━━━━━━\u001B[0m\u001B[37m\u001B[0m \u001B[1m0s\u001B[0m 91ms/step\n",
      "Predicted class for the new text: 납부 예정\n"
     ]
    }
   ],
   "source": [
    "# 새로운 텍스트에 대한 클래스 예측\n",
    "new_text = \"\"\"[Web발신]\n",
    "[KB국민카드]장우진님 11/14 카드대금 696,667원(11/03기준) https://m.kbcard.com/z/a1\n",
    "https://media.hermes.kt.com/data/MEDIA/messagebase/411701d13bde41a3bfe47f311258e345.LT-201105161103520-fgrl.png.\"\"\"\n",
    "predicted_class = predict_class(new_text)\n",
    "print(f\"Predicted class for the new text: {predicted_class}\")"
   ],
   "metadata": {
    "collapsed": false,
    "ExecuteTime": {
     "end_time": "2024-03-19T15:57:46.327039Z",
     "start_time": "2024-03-19T15:57:46.196985Z"
    }
   },
   "id": "6729bfb459bf8400",
   "execution_count": 29
  },
  {
   "cell_type": "markdown",
   "source": [
    "### 학습된 모델 저장"
   ],
   "metadata": {
    "collapsed": false
   },
   "id": "b5a22d4e31abd7af"
  },
  {
   "cell_type": "code",
   "outputs": [
    {
     "name": "stderr",
     "output_type": "stream",
     "text": [
      "WARNING:absl:You are saving your model as an HDF5 file via `model.save()` or `keras.saving.save_model(model)`. This file format is considered legacy. We recommend using instead the native Keras format, e.g. `model.save('my_model.keras')` or `keras.saving.save_model(model, 'my_model.keras')`. \n"
     ]
    }
   ],
   "source": [
    "if not os.path.exists('./model'):\n",
    "    os.makedirs('./model')\n",
    "model.save('./model/LSTM_model.h5')"
   ],
   "metadata": {
    "collapsed": false,
    "ExecuteTime": {
     "end_time": "2024-03-19T15:57:47.707471Z",
     "start_time": "2024-03-19T15:57:47.654424Z"
    }
   },
   "id": "cd7aaa6eb2c8b051",
   "execution_count": 30
  }
 ],
 "metadata": {
  "kernelspec": {
   "display_name": "Python 3",
   "language": "python",
   "name": "python3"
  },
  "language_info": {
   "codemirror_mode": {
    "name": "ipython",
    "version": 2
   },
   "file_extension": ".py",
   "mimetype": "text/x-python",
   "name": "python",
   "nbconvert_exporter": "python",
   "pygments_lexer": "ipython2",
   "version": "2.7.6"
  }
 },
 "nbformat": 4,
 "nbformat_minor": 5
}
