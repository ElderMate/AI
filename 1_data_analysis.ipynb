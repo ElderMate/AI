{
 "cells": [
  {
   "cell_type": "code",
   "execution_count": 14,
   "id": "initial_id",
   "metadata": {
    "collapsed": true,
    "ExecuteTime": {
     "end_time": "2024-03-19T11:54:27.650199Z",
     "start_time": "2024-03-19T11:54:27.643704Z"
    }
   },
   "outputs": [],
   "source": [
    "import pandas as pd"
   ]
  },
  {
   "cell_type": "code",
   "outputs": [
    {
     "data": {
      "text/plain": "                        Date  Name/Number  \\\n0     2023.08.08. 오후 2:34:47     18990800   \n1    2022.08.30. 오전 11:41:49     18990800   \n2     2023.09.05. 오후 3:41:30     18990800   \n3     2023.10.06. 오후 4:13:43     18990800   \n4     2023.11.08. 오후 2:31:13     18990800   \n..                       ...          ...   \n304  2017.04.09. 오후 12:09:23     15999000   \n305  2017.04.08. 오후 11:07:04     15999000   \n306   2017.04.09. 오후 6:36:57     15999000   \n307   2023.09.01. 오전 7:21:13     16884356   \n308   2023.10.01. 오전 7:26:13     16884356   \n\n                                          Message Body  label  출처  \n0    [Web발신]\\n[KB국민카드]장우진님 08/14 카드대금 561,229원(08/0...  납부 예정  우진  \n1    [Web발신]\\n[KB국민카드]장우진님 09/13 결제금액 20,000원(연회비 2...  납부 예정  우진  \n2    [Web발신]\\n[KB국민카드]장우진님 09/14 결제금액 599,554원(연회비 ...  납부 예정  우진  \n3    [Web발신]\\n[KB국민카드]장우진님 10/16 카드대금 642,364원(09/2...  납부 예정  우진  \n4    [Web발신]\\n[KB국민카드]장우진님 11/14 카드대금 696,667원(11/0...  납부 예정  우진  \n..                                                 ...    ...  ..  \n304  [Web발신] MG체크카드(1874) 우*하님 12,500원승인(계좌잔액224,23...  결제 승인  호현  \n305  [Web발신] MG체크카드(1874) 우*하님 3,960원승인(계좌잔액236,739...  결제 승인  호현  \n306  [Web발신] MG체크카드(1874) 우*하님 40,000원승인(계좌잔액184,23...  결제 승인  호현  \n307  [Web발신] SWING 언락패스 이용권(12,900원)이 1일 후 KB국민카드70...  납부 예정  우진  \n308  [Web발신] SWING 언락패스 이용권(12,900원)이 1일 후 KB국민카드70...  납부 예정  우진  \n\n[309 rows x 5 columns]",
      "text/html": "<div>\n<style scoped>\n    .dataframe tbody tr th:only-of-type {\n        vertical-align: middle;\n    }\n\n    .dataframe tbody tr th {\n        vertical-align: top;\n    }\n\n    .dataframe thead th {\n        text-align: right;\n    }\n</style>\n<table border=\"1\" class=\"dataframe\">\n  <thead>\n    <tr style=\"text-align: right;\">\n      <th></th>\n      <th>Date</th>\n      <th>Name/Number</th>\n      <th>Message Body</th>\n      <th>label</th>\n      <th>출처</th>\n    </tr>\n  </thead>\n  <tbody>\n    <tr>\n      <th>0</th>\n      <td>2023.08.08. 오후 2:34:47</td>\n      <td>18990800</td>\n      <td>[Web발신]\\n[KB국민카드]장우진님 08/14 카드대금 561,229원(08/0...</td>\n      <td>납부 예정</td>\n      <td>우진</td>\n    </tr>\n    <tr>\n      <th>1</th>\n      <td>2022.08.30. 오전 11:41:49</td>\n      <td>18990800</td>\n      <td>[Web발신]\\n[KB국민카드]장우진님 09/13 결제금액 20,000원(연회비 2...</td>\n      <td>납부 예정</td>\n      <td>우진</td>\n    </tr>\n    <tr>\n      <th>2</th>\n      <td>2023.09.05. 오후 3:41:30</td>\n      <td>18990800</td>\n      <td>[Web발신]\\n[KB국민카드]장우진님 09/14 결제금액 599,554원(연회비 ...</td>\n      <td>납부 예정</td>\n      <td>우진</td>\n    </tr>\n    <tr>\n      <th>3</th>\n      <td>2023.10.06. 오후 4:13:43</td>\n      <td>18990800</td>\n      <td>[Web발신]\\n[KB국민카드]장우진님 10/16 카드대금 642,364원(09/2...</td>\n      <td>납부 예정</td>\n      <td>우진</td>\n    </tr>\n    <tr>\n      <th>4</th>\n      <td>2023.11.08. 오후 2:31:13</td>\n      <td>18990800</td>\n      <td>[Web발신]\\n[KB국민카드]장우진님 11/14 카드대금 696,667원(11/0...</td>\n      <td>납부 예정</td>\n      <td>우진</td>\n    </tr>\n    <tr>\n      <th>...</th>\n      <td>...</td>\n      <td>...</td>\n      <td>...</td>\n      <td>...</td>\n      <td>...</td>\n    </tr>\n    <tr>\n      <th>304</th>\n      <td>2017.04.09. 오후 12:09:23</td>\n      <td>15999000</td>\n      <td>[Web발신] MG체크카드(1874) 우*하님 12,500원승인(계좌잔액224,23...</td>\n      <td>결제 승인</td>\n      <td>호현</td>\n    </tr>\n    <tr>\n      <th>305</th>\n      <td>2017.04.08. 오후 11:07:04</td>\n      <td>15999000</td>\n      <td>[Web발신] MG체크카드(1874) 우*하님 3,960원승인(계좌잔액236,739...</td>\n      <td>결제 승인</td>\n      <td>호현</td>\n    </tr>\n    <tr>\n      <th>306</th>\n      <td>2017.04.09. 오후 6:36:57</td>\n      <td>15999000</td>\n      <td>[Web발신] MG체크카드(1874) 우*하님 40,000원승인(계좌잔액184,23...</td>\n      <td>결제 승인</td>\n      <td>호현</td>\n    </tr>\n    <tr>\n      <th>307</th>\n      <td>2023.09.01. 오전 7:21:13</td>\n      <td>16884356</td>\n      <td>[Web발신] SWING 언락패스 이용권(12,900원)이 1일 후 KB국민카드70...</td>\n      <td>납부 예정</td>\n      <td>우진</td>\n    </tr>\n    <tr>\n      <th>308</th>\n      <td>2023.10.01. 오전 7:26:13</td>\n      <td>16884356</td>\n      <td>[Web발신] SWING 언락패스 이용권(12,900원)이 1일 후 KB국민카드70...</td>\n      <td>납부 예정</td>\n      <td>우진</td>\n    </tr>\n  </tbody>\n</table>\n<p>309 rows × 5 columns</p>\n</div>"
     },
     "execution_count": 15,
     "metadata": {},
     "output_type": "execute_result"
    }
   ],
   "source": [
    "# 예시 데이터 로드 (실제 경로를 사용자의 데이터 파일 경로로 바꿔야 함)\n",
    "df = pd.read_excel('./data/문자클래스데이터.xlsx')\n",
    "\n",
    "df"
   ],
   "metadata": {
    "collapsed": false,
    "ExecuteTime": {
     "end_time": "2024-03-19T11:54:27.892260Z",
     "start_time": "2024-03-19T11:54:27.858266Z"
    }
   },
   "id": "c5b2379bbc145f32",
   "execution_count": 15
  },
  {
   "cell_type": "code",
   "outputs": [
    {
     "name": "stdout",
     "output_type": "stream",
     "text": [
      "납부 예정    79\n",
      "결제 거절    79\n",
      "결제 승인    46\n",
      "자동 이체    40\n",
      "미납       29\n",
      "결제 취소    25\n",
      "계좌 개설    11\n",
      "Name: label, dtype: int64\n"
     ]
    }
   ],
   "source": [
    "label_counts = df['label'].value_counts()\n",
    "\n",
    "print(label_counts)"
   ],
   "metadata": {
    "collapsed": false,
    "ExecuteTime": {
     "end_time": "2024-03-19T11:59:35.245710Z",
     "start_time": "2024-03-19T11:59:35.228739Z"
    }
   },
   "id": "c53b13ae551aa3a6",
   "execution_count": 16
  },
  {
   "cell_type": "code",
   "outputs": [],
   "source": [],
   "metadata": {
    "collapsed": false
   },
   "id": "b36ba136cbc6bd56"
  }
 ],
 "metadata": {
  "kernelspec": {
   "display_name": "Python 3",
   "language": "python",
   "name": "python3"
  },
  "language_info": {
   "codemirror_mode": {
    "name": "ipython",
    "version": 2
   },
   "file_extension": ".py",
   "mimetype": "text/x-python",
   "name": "python",
   "nbconvert_exporter": "python",
   "pygments_lexer": "ipython2",
   "version": "2.7.6"
  }
 },
 "nbformat": 4,
 "nbformat_minor": 5
}
