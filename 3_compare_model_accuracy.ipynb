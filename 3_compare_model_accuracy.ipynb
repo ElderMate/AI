{
 "cells": [
  {
   "cell_type": "markdown",
   "source": [],
   "metadata": {
    "collapsed": false
   },
   "id": "2090660b54e5e82d"
  },
  {
   "cell_type": "markdown",
   "source": [
    "## 관련 라이브러리 import"
   ],
   "metadata": {
    "collapsed": false
   },
   "id": "40285523b33a0d94"
  },
  {
   "cell_type": "code",
   "execution_count": 22,
   "id": "initial_id",
   "metadata": {
    "collapsed": true,
    "ExecuteTime": {
     "end_time": "2024-03-20T08:06:15.176096Z",
     "start_time": "2024-03-20T08:06:15.170953Z"
    }
   },
   "outputs": [],
   "source": [
    "from tensorflow.keras.models import load_model\n",
    "from tensorflow.keras.preprocessing.text import tokenizer_from_json\n",
    "from tensorflow.keras.preprocessing.sequence import pad_sequences\n",
    "from sklearn.metrics import accuracy_score\n",
    "import joblib\n",
    "import json\n",
    "import numpy as np\n",
    "import matplotlib.pyplot as plt\n",
    "import pandas as pd\n"
   ]
  },
  {
   "cell_type": "markdown",
   "source": [
    "## 데이터 로드"
   ],
   "metadata": {
    "collapsed": false
   },
   "id": "ca7d2e0995334228"
  },
  {
   "cell_type": "code",
   "outputs": [
    {
     "data": {
      "text/plain": "                                          Message Body  label\n0    [Web발신]\\n[KB국민카드]장우진님 08/14 카드대금 561,229원(08/0...  납부 예정\n1    [Web발신]\\n[KB국민카드]장우진님 09/13 결제금액 20,000원(연회비 2...  납부 예정\n2    [Web발신]\\n[KB국민카드]장우진님 09/14 결제금액 599,554원(연회비 ...  납부 예정\n3    [Web발신]\\n[KB국민카드]장우진님 10/16 카드대금 642,364원(09/2...  납부 예정\n4    [Web발신]\\n[KB국민카드]장우진님 11/14 카드대금 696,667원(11/0...  납부 예정\n..                                                 ...    ...\n304  [Web발신] MG체크카드(1874) 우*하님 12,500원승인(계좌잔액224,23...  결제 승인\n305  [Web발신] MG체크카드(1874) 우*하님 3,960원승인(계좌잔액236,739...  결제 승인\n306  [Web발신] MG체크카드(1874) 우*하님 40,000원승인(계좌잔액184,23...  결제 승인\n307  [Web발신] SWING 언락패스 이용권(12,900원)이 1일 후 KB국민카드70...  납부 예정\n308  [Web발신] SWING 언락패스 이용권(12,900원)이 1일 후 KB국민카드70...  납부 예정\n\n[309 rows x 2 columns]",
      "text/html": "<div>\n<style scoped>\n    .dataframe tbody tr th:only-of-type {\n        vertical-align: middle;\n    }\n\n    .dataframe tbody tr th {\n        vertical-align: top;\n    }\n\n    .dataframe thead th {\n        text-align: right;\n    }\n</style>\n<table border=\"1\" class=\"dataframe\">\n  <thead>\n    <tr style=\"text-align: right;\">\n      <th></th>\n      <th>Message Body</th>\n      <th>label</th>\n    </tr>\n  </thead>\n  <tbody>\n    <tr>\n      <th>0</th>\n      <td>[Web발신]\\n[KB국민카드]장우진님 08/14 카드대금 561,229원(08/0...</td>\n      <td>납부 예정</td>\n    </tr>\n    <tr>\n      <th>1</th>\n      <td>[Web발신]\\n[KB국민카드]장우진님 09/13 결제금액 20,000원(연회비 2...</td>\n      <td>납부 예정</td>\n    </tr>\n    <tr>\n      <th>2</th>\n      <td>[Web발신]\\n[KB국민카드]장우진님 09/14 결제금액 599,554원(연회비 ...</td>\n      <td>납부 예정</td>\n    </tr>\n    <tr>\n      <th>3</th>\n      <td>[Web발신]\\n[KB국민카드]장우진님 10/16 카드대금 642,364원(09/2...</td>\n      <td>납부 예정</td>\n    </tr>\n    <tr>\n      <th>4</th>\n      <td>[Web발신]\\n[KB국민카드]장우진님 11/14 카드대금 696,667원(11/0...</td>\n      <td>납부 예정</td>\n    </tr>\n    <tr>\n      <th>...</th>\n      <td>...</td>\n      <td>...</td>\n    </tr>\n    <tr>\n      <th>304</th>\n      <td>[Web발신] MG체크카드(1874) 우*하님 12,500원승인(계좌잔액224,23...</td>\n      <td>결제 승인</td>\n    </tr>\n    <tr>\n      <th>305</th>\n      <td>[Web발신] MG체크카드(1874) 우*하님 3,960원승인(계좌잔액236,739...</td>\n      <td>결제 승인</td>\n    </tr>\n    <tr>\n      <th>306</th>\n      <td>[Web발신] MG체크카드(1874) 우*하님 40,000원승인(계좌잔액184,23...</td>\n      <td>결제 승인</td>\n    </tr>\n    <tr>\n      <th>307</th>\n      <td>[Web발신] SWING 언락패스 이용권(12,900원)이 1일 후 KB국민카드70...</td>\n      <td>납부 예정</td>\n    </tr>\n    <tr>\n      <th>308</th>\n      <td>[Web발신] SWING 언락패스 이용권(12,900원)이 1일 후 KB국민카드70...</td>\n      <td>납부 예정</td>\n    </tr>\n  </tbody>\n</table>\n<p>309 rows × 2 columns</p>\n</div>"
     },
     "execution_count": 23,
     "metadata": {},
     "output_type": "execute_result"
    }
   ],
   "source": [
    "# 예시 데이터 로드 (실제 경로를 사용자의 데이터 파일 경로로 바꿔야 함)\n",
    "df = pd.read_excel('./data/문자클래스데이터.xlsx')\n",
    "\n",
    "df = df[[\"Message Body\", \"label\"]]\n",
    "\n",
    "df"
   ],
   "metadata": {
    "collapsed": false,
    "ExecuteTime": {
     "end_time": "2024-03-20T08:06:15.238556Z",
     "start_time": "2024-03-20T08:06:15.198790Z"
    }
   },
   "id": "58e8213d2c6560c1",
   "execution_count": 23
  },
  {
   "cell_type": "code",
   "outputs": [],
   "source": [
    "label_to_index = {\n",
    "    '납부 예정': 0,\n",
    "    '결제 거절': 1,\n",
    "    '결제 승인': 2,\n",
    "    '자동 이체': 3,\n",
    "    '미납': 4,\n",
    "    '결제 취소': 5,\n",
    "    '계좌 개설': 6\n",
    "}\n",
    "\n",
    "df['label_index'] = df['label'].map(label_to_index)"
   ],
   "metadata": {
    "collapsed": false,
    "ExecuteTime": {
     "end_time": "2024-03-20T08:06:15.245624Z",
     "start_time": "2024-03-20T08:06:15.241877Z"
    }
   },
   "id": "39fa9bd34d7ccce6",
   "execution_count": 24
  },
  {
   "cell_type": "markdown",
   "source": [
    "## 모델 로드"
   ],
   "metadata": {
    "collapsed": false
   },
   "id": "fa85e3513f74e210"
  },
  {
   "cell_type": "code",
   "outputs": [
    {
     "name": "stderr",
     "output_type": "stream",
     "text": [
      "WARNING:absl:Compiled the loaded model, but the compiled metrics have yet to be built. `model.compile_metrics` will be empty until you train or evaluate the model.\n",
      "WARNING:absl:Compiled the loaded model, but the compiled metrics have yet to be built. `model.compile_metrics` will be empty until you train or evaluate the model.\n"
     ]
    }
   ],
   "source": [
    "LSTM_model = load_model('./model/LSTM_model.h5')\n",
    "CNN_model = load_model('./model/CNN_model.h5')\n",
    "random_forest_model = joblib.load('./model/random_forest_model.pkl')\n",
    "naive_bayes_model = joblib.load('./model/naive_bayes_model.pkl')"
   ],
   "metadata": {
    "collapsed": false,
    "ExecuteTime": {
     "end_time": "2024-03-20T08:06:15.337265Z",
     "start_time": "2024-03-20T08:06:15.246897Z"
    }
   },
   "id": "839e97301847d1e3",
   "execution_count": 25
  },
  {
   "cell_type": "markdown",
   "source": [
    "## 토크나이저와 벡터라이저 로드"
   ],
   "metadata": {
    "collapsed": false
   },
   "id": "1ed34e0a8ffec476"
  },
  {
   "cell_type": "code",
   "outputs": [],
   "source": [
    "# 토크나이저 로드\n",
    "with open('./tokenizer/tokenizer.json') as f:\n",
    "    data = json.load(f)\n",
    "    tokenizer = tokenizer_from_json(data)"
   ],
   "metadata": {
    "collapsed": false,
    "ExecuteTime": {
     "end_time": "2024-03-20T08:06:15.344463Z",
     "start_time": "2024-03-20T08:06:15.338625Z"
    }
   },
   "id": "5439b3995d22a404",
   "execution_count": 26
  },
  {
   "cell_type": "code",
   "outputs": [],
   "source": [
    "tfidf_vectorizer = joblib.load('./vectorizer/tfidf_vectorizer.joblib')"
   ],
   "metadata": {
    "collapsed": false,
    "ExecuteTime": {
     "end_time": "2024-03-20T08:06:15.354809Z",
     "start_time": "2024-03-20T08:06:15.345589Z"
    }
   },
   "id": "1fef4522d5994165",
   "execution_count": 27
  },
  {
   "cell_type": "markdown",
   "source": [
    "## 데이터 전처리"
   ],
   "metadata": {
    "collapsed": false
   },
   "id": "5e4920bee3444c19"
  },
  {
   "cell_type": "code",
   "outputs": [],
   "source": [
    "#딥러닝\n",
    "sequences = tokenizer.texts_to_sequences(df['Message Body'])\n",
    "data_for_dl = pad_sequences(sequences, maxlen=50)\n",
    "\n",
    "#머신러닝\n",
    "data_for_ml = tfidf_vectorizer.transform(df['Message Body']).toarray()"
   ],
   "metadata": {
    "collapsed": false,
    "ExecuteTime": {
     "end_time": "2024-03-20T08:06:15.372484Z",
     "start_time": "2024-03-20T08:06:15.355662Z"
    }
   },
   "id": "d78559fb543fb8e8",
   "execution_count": 28
  },
  {
   "cell_type": "markdown",
   "source": [
    "## 모델 예측 진행"
   ],
   "metadata": {
    "collapsed": false
   },
   "id": "a8a436dc223ed905"
  },
  {
   "cell_type": "code",
   "outputs": [
    {
     "name": "stdout",
     "output_type": "stream",
     "text": [
      "\u001B[1m10/10\u001B[0m \u001B[32m━━━━━━━━━━━━━━━━━━━━\u001B[0m\u001B[37m\u001B[0m \u001B[1m0s\u001B[0m 4ms/step \n",
      "\u001B[1m10/10\u001B[0m \u001B[32m━━━━━━━━━━━━━━━━━━━━\u001B[0m\u001B[37m\u001B[0m \u001B[1m0s\u001B[0m 13ms/step\n"
     ]
    }
   ],
   "source": [
    "#딥러닝\n",
    "cnn_preds = np.argmax(CNN_model.predict(data_for_dl), axis=-1)\n",
    "lstm_preds = np.argmax(LSTM_model.predict(data_for_dl), axis=-1)\n",
    "\n",
    "#머신러닝\n",
    "nb_preds = naive_bayes_model.predict(data_for_ml)\n",
    "rf_preds = random_forest_model.predict(data_for_ml)"
   ],
   "metadata": {
    "collapsed": false,
    "ExecuteTime": {
     "end_time": "2024-03-20T08:06:15.735748Z",
     "start_time": "2024-03-20T08:06:15.373610Z"
    }
   },
   "id": "6a3659449a62ac93",
   "execution_count": 29
  },
  {
   "cell_type": "markdown",
   "source": [
    "## 정확도 계"
   ],
   "metadata": {
    "collapsed": false
   },
   "id": "b019b6098eab61f0"
  },
  {
   "cell_type": "code",
   "outputs": [],
   "source": [
    "cnn_accuracy = accuracy_score(df['label_index'], cnn_preds)\n",
    "lstm_accuracy = accuracy_score(df['label_index'], lstm_preds)\n",
    "nb_accuracy = accuracy_score(df['label_index'], nb_preds)\n",
    "rf_accuracy = accuracy_score(df['label_index'], rf_preds)"
   ],
   "metadata": {
    "collapsed": false,
    "ExecuteTime": {
     "end_time": "2024-03-20T08:06:15.748598Z",
     "start_time": "2024-03-20T08:06:15.741919Z"
    }
   },
   "id": "f93f74c1ecc20dbd",
   "execution_count": 30
  },
  {
   "cell_type": "markdown",
   "source": [
    "## 시각화"
   ],
   "metadata": {
    "collapsed": false
   },
   "id": "972e55fb6f4f1488"
  },
  {
   "cell_type": "code",
   "outputs": [
    {
     "data": {
      "text/plain": "<Figure size 1000x600 with 1 Axes>",
      "image/png": "[encoded data removed]"
     },
     "metadata": {},
     "output_type": "display_data"
    }
   ],
   "source": [
    "model_names = ['CNN', 'LSTM', 'Naive Bayes', 'Random Forest']\n",
    "accuracies = [cnn_accuracy, lstm_accuracy, nb_accuracy, rf_accuracy]\n",
    "\n",
    "plt.figure(figsize=(10, 6))\n",
    "plt.bar(model_names, accuracies, color=['blue', 'orange', 'green', 'red'])\n",
    "plt.xlabel('Model')\n",
    "plt.ylabel('Accuracy')\n",
    "plt.title('Model Accuracy Comparison')\n",
    "plt.ylim([0, 1])\n",
    "plt.show()"
   ],
   "metadata": {
    "collapsed": false,
    "ExecuteTime": {
     "end_time": "2024-03-20T08:06:15.889065Z",
     "start_time": "2024-03-20T08:06:15.750327Z"
    }
   },
   "id": "f3165aab2a8ee656",
   "execution_count": 31
  }
 ],
 "metadata": {
  "kernelspec": {
   "display_name": "Python 3",
   "language": "python",
   "name": "python3"
  },
  "language_info": {
   "codemirror_mode": {
    "name": "ipython",
    "version": 2
   },
   "file_extension": ".py",
   "mimetype": "text/x-python",
   "name": "python",
   "nbconvert_exporter": "python",
   "pygments_lexer": "ipython2",
   "version": "2.7.6"
  }
 },
 "nbformat": 4,
 "nbformat_minor": 5
}
