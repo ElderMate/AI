{
 "cells": [
  {
   "cell_type": "markdown",
   "source": [],
   "metadata": {
    "collapsed": false
   },
   "id": "2090660b54e5e82d"
  },
  {
   "cell_type": "markdown",
   "source": [
    "## 관련 라이브러리 import"
   ],
   "metadata": {
    "collapsed": false
   },
   "id": "40285523b33a0d94"
  },
  {
   "cell_type": "code",
   "execution_count": 62,
   "id": "initial_id",
   "metadata": {
    "collapsed": true,
    "ExecuteTime": {
     "end_time": "2024-03-21T04:40:35.420609Z",
     "start_time": "2024-03-21T04:40:35.414047Z"
    }
   },
   "outputs": [],
   "source": [
    "from tensorflow.keras.models import load_model\n",
    "from tensorflow.keras.preprocessing.text import tokenizer_from_json\n",
    "from tensorflow.keras.preprocessing.sequence import pad_sequences\n",
    "from sklearn.model_selection import train_test_split\n",
    "from sklearn.metrics import accuracy_score\n",
    "import joblib\n",
    "import json\n",
    "import numpy as np\n",
    "import matplotlib.pyplot as plt\n",
    "import pandas as pd\n"
   ]
  },
  {
   "cell_type": "markdown",
   "source": [
    "## 데이터 로드"
   ],
   "metadata": {
    "collapsed": false
   },
   "id": "ca7d2e0995334228"
  },
  {
   "cell_type": "code",
   "outputs": [
    {
     "data": {
      "text/plain": "                                          Message Body  label\n0    [Web발신]\\n[KB국민카드]장우진님 08/14 카드대금 561,229원(08/0...  납부 예정\n1    [Web발신]\\n[KB국민카드]장우진님 09/13 결제금액 20,000원(연회비 2...  납부 예정\n2    [Web발신]\\n[KB국민카드]장우진님 09/14 결제금액 599,554원(연회비 ...  납부 예정\n3    [Web발신]\\n[KB국민카드]장우진님 10/16 카드대금 642,364원(09/2...  납부 예정\n4    [Web발신]\\n[KB국민카드]장우진님 11/14 카드대금 696,667원(11/0...  납부 예정\n..                                                 ...    ...\n304  [Web발신] MG체크카드(1874) 우*하님 12,500원승인(계좌잔액224,23...  결제 승인\n305  [Web발신] MG체크카드(1874) 우*하님 3,960원승인(계좌잔액236,739...  결제 승인\n306  [Web발신] MG체크카드(1874) 우*하님 40,000원승인(계좌잔액184,23...  결제 승인\n307  [Web발신] SWING 언락패스 이용권(12,900원)이 1일 후 KB국민카드70...  납부 예정\n308  [Web발신] SWING 언락패스 이용권(12,900원)이 1일 후 KB국민카드70...  납부 예정\n\n[309 rows x 2 columns]",
      "text/html": "<div>\n<style scoped>\n    .dataframe tbody tr th:only-of-type {\n        vertical-align: middle;\n    }\n\n    .dataframe tbody tr th {\n        vertical-align: top;\n    }\n\n    .dataframe thead th {\n        text-align: right;\n    }\n</style>\n<table border=\"1\" class=\"dataframe\">\n  <thead>\n    <tr style=\"text-align: right;\">\n      <th></th>\n      <th>Message Body</th>\n      <th>label</th>\n    </tr>\n  </thead>\n  <tbody>\n    <tr>\n      <th>0</th>\n      <td>[Web발신]\\n[KB국민카드]장우진님 08/14 카드대금 561,229원(08/0...</td>\n      <td>납부 예정</td>\n    </tr>\n    <tr>\n      <th>1</th>\n      <td>[Web발신]\\n[KB국민카드]장우진님 09/13 결제금액 20,000원(연회비 2...</td>\n      <td>납부 예정</td>\n    </tr>\n    <tr>\n      <th>2</th>\n      <td>[Web발신]\\n[KB국민카드]장우진님 09/14 결제금액 599,554원(연회비 ...</td>\n      <td>납부 예정</td>\n    </tr>\n    <tr>\n      <th>3</th>\n      <td>[Web발신]\\n[KB국민카드]장우진님 10/16 카드대금 642,364원(09/2...</td>\n      <td>납부 예정</td>\n    </tr>\n    <tr>\n      <th>4</th>\n      <td>[Web발신]\\n[KB국민카드]장우진님 11/14 카드대금 696,667원(11/0...</td>\n      <td>납부 예정</td>\n    </tr>\n    <tr>\n      <th>...</th>\n      <td>...</td>\n      <td>...</td>\n    </tr>\n    <tr>\n      <th>304</th>\n      <td>[Web발신] MG체크카드(1874) 우*하님 12,500원승인(계좌잔액224,23...</td>\n      <td>결제 승인</td>\n    </tr>\n    <tr>\n      <th>305</th>\n      <td>[Web발신] MG체크카드(1874) 우*하님 3,960원승인(계좌잔액236,739...</td>\n      <td>결제 승인</td>\n    </tr>\n    <tr>\n      <th>306</th>\n      <td>[Web발신] MG체크카드(1874) 우*하님 40,000원승인(계좌잔액184,23...</td>\n      <td>결제 승인</td>\n    </tr>\n    <tr>\n      <th>307</th>\n      <td>[Web발신] SWING 언락패스 이용권(12,900원)이 1일 후 KB국민카드70...</td>\n      <td>납부 예정</td>\n    </tr>\n    <tr>\n      <th>308</th>\n      <td>[Web발신] SWING 언락패스 이용권(12,900원)이 1일 후 KB국민카드70...</td>\n      <td>납부 예정</td>\n    </tr>\n  </tbody>\n</table>\n<p>309 rows × 2 columns</p>\n</div>"
     },
     "execution_count": 63,
     "metadata": {},
     "output_type": "execute_result"
    }
   ],
   "source": [
    "# 예시 데이터 로드 (실제 경로를 사용자의 데이터 파일 경로로 바꿔야 함)\n",
    "df = pd.read_excel('./data/문자클래스데이터.xlsx')\n",
    "\n",
    "df = df[[\"Message Body\", \"label\"]]\n",
    "\n",
    "df"
   ],
   "metadata": {
    "collapsed": false,
    "ExecuteTime": {
     "end_time": "2024-03-21T04:40:35.473383Z",
     "start_time": "2024-03-21T04:40:35.429992Z"
    }
   },
   "id": "58e8213d2c6560c1",
   "execution_count": 63
  },
  {
   "cell_type": "code",
   "outputs": [],
   "source": [
    "label_to_index = {\n",
    "    '납부 예정': 0,\n",
    "    '결제 거절': 1,\n",
    "    '결제 승인': 2,\n",
    "    '자동 이체': 3,\n",
    "    '미납': 4,\n",
    "    '결제 취소': 5,\n",
    "    '계좌 개설': 6\n",
    "}\n",
    "\n",
    "df['label_index'] = df['label'].map(label_to_index)"
   ],
   "metadata": {
    "collapsed": false,
    "ExecuteTime": {
     "end_time": "2024-03-21T04:40:35.477431Z",
     "start_time": "2024-03-21T04:40:35.474452Z"
    }
   },
   "id": "39fa9bd34d7ccce6",
   "execution_count": 64
  },
  {
   "cell_type": "markdown",
   "source": [
    "## 모델 로드"
   ],
   "metadata": {
    "collapsed": false
   },
   "id": "fa85e3513f74e210"
  },
  {
   "cell_type": "code",
   "outputs": [
    {
     "name": "stderr",
     "output_type": "stream",
     "text": [
      "WARNING:absl:Compiled the loaded model, but the compiled metrics have yet to be built. `model.compile_metrics` will be empty until you train or evaluate the model.\n",
      "WARNING:absl:Compiled the loaded model, but the compiled metrics have yet to be built. `model.compile_metrics` will be empty until you train or evaluate the model.\n"
     ]
    }
   ],
   "source": [
    "LSTM_model = load_model('./model/LSTM_model.h5')\n",
    "CNN_model = load_model('./model/CNN_model.h5')\n",
    "random_forest_model = joblib.load('./model/random_forest_model.pkl')\n",
    "naive_bayes_model = joblib.load('./model/naive_bayes_model.pkl')"
   ],
   "metadata": {
    "collapsed": false,
    "ExecuteTime": {
     "end_time": "2024-03-21T04:40:35.573571Z",
     "start_time": "2024-03-21T04:40:35.478325Z"
    }
   },
   "id": "839e97301847d1e3",
   "execution_count": 65
  },
  {
   "cell_type": "markdown",
   "source": [
    "## 토크나이저와 벡터라이저 로드"
   ],
   "metadata": {
    "collapsed": false
   },
   "id": "1ed34e0a8ffec476"
  },
  {
   "cell_type": "code",
   "outputs": [],
   "source": [
    "# 토크나이저 로드\n",
    "with open('./tokenizer/tokenizer.json') as f:\n",
    "    data = json.load(f)\n",
    "    tokenizer = tokenizer_from_json(data)"
   ],
   "metadata": {
    "collapsed": false,
    "ExecuteTime": {
     "end_time": "2024-03-21T04:40:35.581730Z",
     "start_time": "2024-03-21T04:40:35.575467Z"
    }
   },
   "id": "5439b3995d22a404",
   "execution_count": 66
  },
  {
   "cell_type": "code",
   "outputs": [],
   "source": [
    "tfidf_vectorizer = joblib.load('./vectorizer/tfidf_vectorizer.joblib')"
   ],
   "metadata": {
    "collapsed": false,
    "ExecuteTime": {
     "end_time": "2024-03-21T04:40:35.592859Z",
     "start_time": "2024-03-21T04:40:35.582885Z"
    }
   },
   "id": "1fef4522d5994165",
   "execution_count": 67
  },
  {
   "cell_type": "markdown",
   "source": [
    "## 데이터 전처리"
   ],
   "metadata": {
    "collapsed": false
   },
   "id": "5e4920bee3444c19"
  },
  {
   "cell_type": "code",
   "outputs": [
    {
     "name": "stdout",
     "output_type": "stream",
     "text": [
      "딥러닝 테스트 데이터의 라벨 분포:\n",
      "1    21.505376\n",
      "0    20.430108\n",
      "2    18.279570\n",
      "3    15.053763\n",
      "4    11.827957\n",
      "5     8.602151\n",
      "6     4.301075\n",
      "Name: label_index, dtype: float64\n",
      "\n",
      "머신러닝 테스트 데이터의 라벨 분포:\n",
      "1    21.505376\n",
      "0    20.430108\n",
      "2    18.279570\n",
      "3    15.053763\n",
      "4    11.827957\n",
      "5     8.602151\n",
      "6     4.301075\n",
      "Name: label_index, dtype: float64\n"
     ]
    }
   ],
   "source": [
    "#딥러닝\n",
    "sequences = tokenizer.texts_to_sequences(df['Message Body'])\n",
    "data_for_dl = pad_sequences(sequences, maxlen=50)\n",
    "\n",
    "dl_x_train, dl_x_test, dl_y_train, dl_y_test = train_test_split(data_for_dl, df['label_index'], test_size=0.3, random_state=42)\n",
    "\n",
    "#머신러닝\n",
    "data_for_ml = tfidf_vectorizer.transform(df['Message Body']).toarray()\n",
    "\n",
    "ml_x_train, ml_x_test, ml_y_train, ml_y_test = train_test_split(data_for_ml, df['label_index'], test_size=0.3, random_state=42)"
   ],
   "metadata": {
    "collapsed": false,
    "ExecuteTime": {
     "end_time": "2024-03-21T04:45:31.469958Z",
     "start_time": "2024-03-21T04:45:31.425653Z"
    }
   },
   "id": "d78559fb543fb8e8",
   "execution_count": 74
  },
  {
   "cell_type": "markdown",
   "source": [
    "## 모델 예측 진행"
   ],
   "metadata": {
    "collapsed": false
   },
   "id": "a8a436dc223ed905"
  },
  {
   "cell_type": "code",
   "outputs": [
    {
     "name": "stdout",
     "output_type": "stream",
     "text": [
      "\u001B[1m3/3\u001B[0m \u001B[32m━━━━━━━━━━━━━━━━━━━━\u001B[0m\u001B[37m\u001B[0m \u001B[1m0s\u001B[0m 9ms/step \n",
      "\u001B[1m3/3\u001B[0m \u001B[32m━━━━━━━━━━━━━━━━━━━━\u001B[0m\u001B[37m\u001B[0m \u001B[1m1s\u001B[0m 301ms/step\n"
     ]
    }
   ],
   "source": [
    "#딥러닝\n",
    "cnn_preds = np.argmax(CNN_model.predict(dl_x_test), axis=-1)\n",
    "lstm_preds = np.argmax(LSTM_model.predict(dl_x_test), axis=-1)\n",
    "\n",
    "#머신러닝\n",
    "nb_preds = naive_bayes_model.predict(ml_x_test)\n",
    "rf_preds = random_forest_model.predict(ml_x_test)"
   ],
   "metadata": {
    "collapsed": false,
    "ExecuteTime": {
     "end_time": "2024-03-21T04:40:36.431873Z",
     "start_time": "2024-03-21T04:40:35.611021Z"
    }
   },
   "id": "6a3659449a62ac93",
   "execution_count": 69
  },
  {
   "cell_type": "markdown",
   "source": [
    "## 정확도 계"
   ],
   "metadata": {
    "collapsed": false
   },
   "id": "b019b6098eab61f0"
  },
  {
   "cell_type": "code",
   "outputs": [],
   "source": [
    "cnn_accuracy = accuracy_score(dl_y_test, cnn_preds)\n",
    "lstm_accuracy = accuracy_score(dl_y_test, lstm_preds)\n",
    "nb_accuracy = accuracy_score(ml_y_test, nb_preds)\n",
    "rf_accuracy = accuracy_score(ml_y_test, rf_preds)"
   ],
   "metadata": {
    "collapsed": false,
    "ExecuteTime": {
     "end_time": "2024-03-21T04:40:36.473911Z",
     "start_time": "2024-03-21T04:40:36.434545Z"
    }
   },
   "id": "f93f74c1ecc20dbd",
   "execution_count": 70
  },
  {
   "cell_type": "markdown",
   "source": [
    "## 시각화"
   ],
   "metadata": {
    "collapsed": false
   },
   "id": "972e55fb6f4f1488"
  },
  {
   "cell_type": "code",
   "outputs": [
    {
     "data": {
      "text/plain": "<Figure size 1000x600 with 1 Axes>",
      "image/png": "[encoded data removed]"
     },
     "metadata": {},
     "output_type": "display_data"
    }
   ],
   "source": [
    "model_names = ['CNN', 'LSTM', 'Naive Bayes', 'Random Forest']\n",
    "accuracies = [cnn_accuracy, lstm_accuracy, nb_accuracy, rf_accuracy]\n",
    "\n",
    "plt.figure(figsize=(10, 6))\n",
    "plt.bar(model_names, accuracies, color=['blue', 'orange', 'green', 'red'])\n",
    "plt.xlabel('Model')\n",
    "plt.ylabel('Accuracy')\n",
    "plt.title('Model Accuracy Comparison')\n",
    "plt.ylim([0, 1])\n",
    "plt.show()"
   ],
   "metadata": {
    "collapsed": false,
    "ExecuteTime": {
     "end_time": "2024-03-21T04:40:36.654471Z",
     "start_time": "2024-03-21T04:40:36.476328Z"
    }
   },
   "id": "f3165aab2a8ee656",
   "execution_count": 71
  }
 ],
 "metadata": {
  "kernelspec": {
   "display_name": "Python 3",
   "language": "python",
   "name": "python3"
  },
  "language_info": {
   "codemirror_mode": {
    "name": "ipython",
    "version": 2
   },
   "file_extension": ".py",
   "mimetype": "text/x-python",
   "name": "python",
   "nbconvert_exporter": "python",
   "pygments_lexer": "ipython2",
   "version": "2.7.6"
  }
 },
 "nbformat": 4,
 "nbformat_minor": 5
}
