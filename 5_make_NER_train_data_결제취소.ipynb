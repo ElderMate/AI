{
 "cells": [
  {
   "cell_type": "code",
   "outputs": [],
   "source": [
    "import pandas as pd\n",
    "import json"
   ],
   "metadata": {
    "collapsed": false,
    "ExecuteTime": {
     "end_time": "2024-04-03T04:24:19.767499Z",
     "start_time": "2024-04-03T04:24:19.761072Z"
    }
   },
   "id": "e69afe5fddde32fc",
   "execution_count": 36
  },
  {
   "cell_type": "markdown",
   "source": [
    "## 결제 취소 진행"
   ],
   "metadata": {
    "collapsed": false
   },
   "id": "c5609120ba2fa302"
  },
  {
   "cell_type": "code",
   "outputs": [
    {
     "data": {
      "text/plain": "                                             message\n0  [Web발신] [신한체크취소] 장*진(8730) 04/18 11:13 (금액)3,7...\n1  [Web발신] [신한체크취소] 장*진(8730) 05/07 10:42 (금액)18,...\n2  [Web발신] [신한체크취소] 장*진(8730) 01/19 02:26 (금액)9,0...\n3  [Web발신] [신한체크취소] 장*진(8730) 01/25 17:46 (금액)21,...\n4  [Web발신] [신한체크취소] 장*진(4384) 02/13 19:23 (금액)6,0...",
      "text/html": "<div>\n<style scoped>\n    .dataframe tbody tr th:only-of-type {\n        vertical-align: middle;\n    }\n\n    .dataframe tbody tr th {\n        vertical-align: top;\n    }\n\n    .dataframe thead th {\n        text-align: right;\n    }\n</style>\n<table border=\"1\" class=\"dataframe\">\n  <thead>\n    <tr style=\"text-align: right;\">\n      <th></th>\n      <th>message</th>\n    </tr>\n  </thead>\n  <tbody>\n    <tr>\n      <th>0</th>\n      <td>[Web발신] [신한체크취소] 장*진(8730) 04/18 11:13 (금액)3,7...</td>\n    </tr>\n    <tr>\n      <th>1</th>\n      <td>[Web발신] [신한체크취소] 장*진(8730) 05/07 10:42 (금액)18,...</td>\n    </tr>\n    <tr>\n      <th>2</th>\n      <td>[Web발신] [신한체크취소] 장*진(8730) 01/19 02:26 (금액)9,0...</td>\n    </tr>\n    <tr>\n      <th>3</th>\n      <td>[Web발신] [신한체크취소] 장*진(8730) 01/25 17:46 (금액)21,...</td>\n    </tr>\n    <tr>\n      <th>4</th>\n      <td>[Web발신] [신한체크취소] 장*진(4384) 02/13 19:23 (금액)6,0...</td>\n    </tr>\n  </tbody>\n</table>\n</div>"
     },
     "execution_count": 37,
     "metadata": {},
     "output_type": "execute_result"
    }
   ],
   "source": [
    "# 파일 경로\n",
    "file_path = './data/키워드추출/결제취소키워드.xlsx'\n",
    "\n",
    "# 파일 내용 읽기\n",
    "data = pd.read_excel(file_path)\n",
    "\n",
    "# 데이터의 첫 5행을 출력해 데이터의 구조를 확인\n",
    "data.head()\n"
   ],
   "metadata": {
    "collapsed": false,
    "ExecuteTime": {
     "end_time": "2024-04-03T04:24:19.801012Z",
     "start_time": "2024-04-03T04:24:19.771592Z"
    }
   },
   "id": "b3920dd1c903c5cf",
   "execution_count": 37
  },
  {
   "cell_type": "code",
   "outputs": [],
   "source": [
    "new_data1 = [\n",
    "    {\n",
    "        \"Method\": \"신한체크취소\",\n",
    "        \"Location\": \"구글플레이\",\n",
    "        \"Time\": \"04/18 11:13\",\n",
    "        \"Cost\": \"3,700원\"\n",
    "    },\n",
    "    {\n",
    "        \"Method\": \"신한체크취소\",\n",
    "        \"Location\": \"국군복지단\",\n",
    "        \"Time\": \"05/07 10:42\",\n",
    "        \"Cost\": \"18,310원\"\n",
    "    },\n",
    "    {\n",
    "        \"Method\": \"신한체크취소\",\n",
    "        \"Location\": \"네이버페이\",\n",
    "        \"Time\": \"01/19 02:26\",\n",
    "        \"Cost\": \"9,050원\"\n",
    "    },\n",
    "    {\n",
    "        \"Method\": \"신한체크취소\",\n",
    "        \"Location\": \"네이버페이\",\n",
    "        \"Time\": \"01/25 17:46\",\n",
    "        \"Cost\": \"21,650원\"\n",
    "    },\n",
    "    {\n",
    "        \"Method\": \"신한체크취소\",\n",
    "        \"Location\": \"GS25 김유정역점\",\n",
    "        \"Time\": \"02/13 19:23\",\n",
    "        \"Cost\": \"6,000원\"\n",
    "    },\n",
    "    {\n",
    "        \"Method\": \"신한체크취소\",\n",
    "        \"Location\": \"(주)이마트 성남점\",\n",
    "        \"Time\": \"03/02 17:35\",\n",
    "        \"Cost\": \"8,980원\"\n",
    "    },\n",
    "    {\n",
    "        \"Method\": \"신한체크해외취소\",\n",
    "        \"Location\": \"OPENAI\",\n",
    "        \"Time\": \"07/03 23:15\",\n",
    "        \"Cost\": \"5.00 달러 (US)\"\n",
    "    },\n",
    "    {\n",
    "        \"Method\": \"승인취소\",\n",
    "        \"Location\": \"GS25성수테크노점\",\n",
    "        \"Time\": \"03/19 21:38\",\n",
    "        \"Cost\": \"5,200원\"\n",
    "    },\n",
    "    {\n",
    "        \"Method\": \"신한카드취소\",\n",
    "        \"Location\": \"풀스윙골프클\",\n",
    "        \"Time\": \"04/10 14:33\",\n",
    "        \"Cost\": \"330,000원\"\n",
    "    },\n",
    "    {\n",
    "        \"Method\": \"신한카드취소\",\n",
    "        \"Location\": \"펜타스기숙학\",\n",
    "        \"Time\": \"05/15 15:32\",\n",
    "        \"Cost\": \"1,000,000원\"\n",
    "    },\n",
    "    {\n",
    "        \"Method\": \"하나\",\n",
    "        \"Location\": \"씨유구의크레신점\",\n",
    "        \"Time\": \"07/29 15:24\",\n",
    "        \"Cost\": \"3,000원\"\n",
    "    },\n",
    "    {\n",
    "        \"Method\": \"우리카드\",\n",
    "        \"Location\": \"티머니택시(법인)\",\n",
    "        \"Time\": \"08/17 16:37\",\n",
    "        \"Cost\": \"5,600원\"\n",
    "    },\n",
    "    {\n",
    "        \"Method\": \"롯데\",\n",
    "        \"Location\": \"공차 남부터미널점\",\n",
    "        \"Time\": \"08/21 16:10\",\n",
    "        \"Cost\": \"10,200원\"\n",
    "    },\n",
    "    {\n",
    "        \"Method\": \"MG체크카드\",\n",
    "        \"Location\": \"롯데쇼핑(주)잠실점\",\n",
    "        \"Time\": \"07/02\",\n",
    "        \"Cost\": \"89,000원\"\n",
    "    },\n",
    "    {\n",
    "        \"Method\": \"MG체크카드\",\n",
    "        \"Location\": \"에프알엘코리아(주)강*\",\n",
    "        \"Time\": \"10/18\",\n",
    "        \"Cost\": \"134,600원\"\n",
    "    },\n",
    "    {\n",
    "        \"Method\": \"MG체크카드\",\n",
    "        \"Location\": \"롯데쇼핑(주)롯데마트잠*\",\n",
    "        \"Time\": \"11/06\",\n",
    "        \"Cost\": \"52,800원\"\n",
    "    },\n",
    "    {\n",
    "        \"Method\": \"MG체크카드\",\n",
    "        \"Location\": \"롯데쇼핑(주)잠실점\",\n",
    "        \"Time\": \"01/17\",\n",
    "        \"Cost\": \"100,000원\"\n",
    "    },\n",
    "    {\n",
    "     \"Method\": \"하나\",\n",
    "    \"Location\": \"용궁노래방\",\n",
    "    \"Time\": \"07/29 00:38\",\n",
    "    \"Cost\": \"30,000원\"\n",
    "},\n",
    "{\n",
    "    \"Method\": \"하나카드취소\",\n",
    "    \"Location\": \"쿠팡(쿠페이)_KCP\",\n",
    "    \"Time\": \"2021년09월04일\",\n",
    "    \"Cost\": \"109,650\"\n",
    "},\n",
    "{\n",
    "    \"Method\": \"하나\",\n",
    "    \"Location\": \"쿠팡주식회사\",\n",
    "    \"Time\": \"01/02 18:12\",\n",
    "    \"Cost\": \"57,100원\"\n",
    "},\n",
    "{\n",
    "    \"Method\": \"하나\",\n",
    "    \"Location\": \"카카오페이(택시)\",\n",
    "    \"Time\": \"08/28 02:10\",\n",
    "    \"Cost\": \"8,100원\"\n",
    "},\n",
    "{\n",
    "    \"Method\": \"MG체크카드\",\n",
    "    \"Location\": \"롯데쇼핑(주)스타시티점\",\n",
    "    \"Time\": \"10/20\",\n",
    "    \"Cost\": \"116,100원\"\n",
    "},\n",
    "{\n",
    "    \"Method\": \"하나\",\n",
    "    \"Location\": \"쿠팡(쿠페이)\",\n",
    "    \"Time\": \"12/03 09:26\",\n",
    "    \"Cost\": \"34,540원\"\n",
    "},\n",
    "{\n",
    "    \"Method\": \"하나\",\n",
    "    \"Location\": \"쿠팡(쿠페이)\",\n",
    "    \"Time\": \"10/31 08:22\",\n",
    "    \"Cost\": \"20,160원\"\n",
    "},\n",
    "{\n",
    "    \"Method\": \"하나\",\n",
    "    \"Location\": \"쿠팡(쿠페이)\",\n",
    "    \"Time\": \"05/03 20:49\",\n",
    "    \"Cost\": \"10,630원\"\n",
    "}\n",
    "]"
   ],
   "metadata": {
    "collapsed": false,
    "ExecuteTime": {
     "end_time": "2024-04-03T04:24:19.807906Z",
     "start_time": "2024-04-03T04:24:19.802188Z"
    }
   },
   "id": "f85100434dc5a703",
   "execution_count": 38
  },
  {
   "cell_type": "code",
   "outputs": [
    {
     "data": {
      "text/plain": "                                             message  \\\n0  [Web발신] [신한체크취소] 장*진(8730) 04/18 11:13 (금액)3,7...   \n1  [Web발신] [신한체크취소] 장*진(8730) 05/07 10:42 (금액)18,...   \n2  [Web발신] [신한체크취소] 장*진(8730) 01/19 02:26 (금액)9,0...   \n3  [Web발신] [신한체크취소] 장*진(8730) 01/25 17:46 (금액)21,...   \n4  [Web발신] [신한체크취소] 장*진(4384) 02/13 19:23 (금액)6,0...   \n\n                                              result  \n0  {'Method': '신한체크취소', 'Location': '구글플레이', 'Tim...  \n1  {'Method': '신한체크취소', 'Location': '국군복지단', 'Tim...  \n2  {'Method': '신한체크취소', 'Location': '네이버페이', 'Tim...  \n3  {'Method': '신한체크취소', 'Location': '네이버페이', 'Tim...  \n4  {'Method': '신한체크취소', 'Location': 'GS25 김유정역점',...  ",
      "text/html": "<div>\n<style scoped>\n    .dataframe tbody tr th:only-of-type {\n        vertical-align: middle;\n    }\n\n    .dataframe tbody tr th {\n        vertical-align: top;\n    }\n\n    .dataframe thead th {\n        text-align: right;\n    }\n</style>\n<table border=\"1\" class=\"dataframe\">\n  <thead>\n    <tr style=\"text-align: right;\">\n      <th></th>\n      <th>message</th>\n      <th>result</th>\n    </tr>\n  </thead>\n  <tbody>\n    <tr>\n      <th>0</th>\n      <td>[Web발신] [신한체크취소] 장*진(8730) 04/18 11:13 (금액)3,7...</td>\n      <td>{'Method': '신한체크취소', 'Location': '구글플레이', 'Tim...</td>\n    </tr>\n    <tr>\n      <th>1</th>\n      <td>[Web발신] [신한체크취소] 장*진(8730) 05/07 10:42 (금액)18,...</td>\n      <td>{'Method': '신한체크취소', 'Location': '국군복지단', 'Tim...</td>\n    </tr>\n    <tr>\n      <th>2</th>\n      <td>[Web발신] [신한체크취소] 장*진(8730) 01/19 02:26 (금액)9,0...</td>\n      <td>{'Method': '신한체크취소', 'Location': '네이버페이', 'Tim...</td>\n    </tr>\n    <tr>\n      <th>3</th>\n      <td>[Web발신] [신한체크취소] 장*진(8730) 01/25 17:46 (금액)21,...</td>\n      <td>{'Method': '신한체크취소', 'Location': '네이버페이', 'Tim...</td>\n    </tr>\n    <tr>\n      <th>4</th>\n      <td>[Web발신] [신한체크취소] 장*진(4384) 02/13 19:23 (금액)6,0...</td>\n      <td>{'Method': '신한체크취소', 'Location': 'GS25 김유정역점',...</td>\n    </tr>\n  </tbody>\n</table>\n</div>"
     },
     "execution_count": 39,
     "metadata": {},
     "output_type": "execute_result"
    }
   ],
   "source": [
    "data['result'] = pd.Series([str(result) for result in new_data1])\n",
    "\n",
    "data.head()"
   ],
   "metadata": {
    "collapsed": false,
    "ExecuteTime": {
     "end_time": "2024-04-03T04:24:19.813257Z",
     "start_time": "2024-04-03T04:24:19.809118Z"
    }
   },
   "id": "4ef91b0931c8af34",
   "execution_count": 39
  },
  {
   "cell_type": "code",
   "outputs": [],
   "source": [
    "def find_substring_indices(message, result):\n",
    "    annotations = []\n",
    "    for key, value in result.items():\n",
    "        start_index = message.find(value)\n",
    "        if start_index != -1:  # Found the substring\n",
    "            end_index = start_index + len(value)\n",
    "            annotations.append((start_index, end_index, key.upper()))\n",
    "    return annotations"
   ],
   "metadata": {
    "collapsed": false,
    "ExecuteTime": {
     "end_time": "2024-04-03T04:24:19.817237Z",
     "start_time": "2024-04-03T04:24:19.814847Z"
    }
   },
   "id": "5aabe7f5f8d59d34",
   "execution_count": 40
  },
  {
   "cell_type": "code",
   "outputs": [
    {
     "data": {
      "text/plain": "                                             message  \\\n0  [Web발신] [신한체크취소] 장*진(8730) 04/18 11:13 (금액)3,7...   \n1  [Web발신] [신한체크취소] 장*진(8730) 05/07 10:42 (금액)18,...   \n2  [Web발신] [신한체크취소] 장*진(8730) 01/19 02:26 (금액)9,0...   \n3  [Web발신] [신한체크취소] 장*진(8730) 01/25 17:46 (금액)21,...   \n4  [Web발신] [신한체크취소] 장*진(4384) 02/13 19:23 (금액)6,0...   \n\n                                              result  \\\n0  {'Method': '신한체크취소', 'Location': '구글플레이', 'Tim...   \n1  {'Method': '신한체크취소', 'Location': '국군복지단', 'Tim...   \n2  {'Method': '신한체크취소', 'Location': '네이버페이', 'Tim...   \n3  {'Method': '신한체크취소', 'Location': '네이버페이', 'Tim...   \n4  {'Method': '신한체크취소', 'Location': 'GS25 김유정역점',...   \n\n                                         annotations  \n0  [(9, 15, METHOD), (50, 55, LOCATION), (27, 38,...  \n1  [(9, 15, METHOD), (51, 56, LOCATION), (27, 38,...  \n2  [(9, 15, METHOD), (50, 55, LOCATION), (27, 38,...  \n3  [(9, 15, METHOD), (51, 56, LOCATION), (27, 38,...  \n4  [(9, 15, METHOD), (50, 60, LOCATION), (27, 38,...  ",
      "text/html": "<div>\n<style scoped>\n    .dataframe tbody tr th:only-of-type {\n        vertical-align: middle;\n    }\n\n    .dataframe tbody tr th {\n        vertical-align: top;\n    }\n\n    .dataframe thead th {\n        text-align: right;\n    }\n</style>\n<table border=\"1\" class=\"dataframe\">\n  <thead>\n    <tr style=\"text-align: right;\">\n      <th></th>\n      <th>message</th>\n      <th>result</th>\n      <th>annotations</th>\n    </tr>\n  </thead>\n  <tbody>\n    <tr>\n      <th>0</th>\n      <td>[Web발신] [신한체크취소] 장*진(8730) 04/18 11:13 (금액)3,7...</td>\n      <td>{'Method': '신한체크취소', 'Location': '구글플레이', 'Tim...</td>\n      <td>[(9, 15, METHOD), (50, 55, LOCATION), (27, 38,...</td>\n    </tr>\n    <tr>\n      <th>1</th>\n      <td>[Web발신] [신한체크취소] 장*진(8730) 05/07 10:42 (금액)18,...</td>\n      <td>{'Method': '신한체크취소', 'Location': '국군복지단', 'Tim...</td>\n      <td>[(9, 15, METHOD), (51, 56, LOCATION), (27, 38,...</td>\n    </tr>\n    <tr>\n      <th>2</th>\n      <td>[Web발신] [신한체크취소] 장*진(8730) 01/19 02:26 (금액)9,0...</td>\n      <td>{'Method': '신한체크취소', 'Location': '네이버페이', 'Tim...</td>\n      <td>[(9, 15, METHOD), (50, 55, LOCATION), (27, 38,...</td>\n    </tr>\n    <tr>\n      <th>3</th>\n      <td>[Web발신] [신한체크취소] 장*진(8730) 01/25 17:46 (금액)21,...</td>\n      <td>{'Method': '신한체크취소', 'Location': '네이버페이', 'Tim...</td>\n      <td>[(9, 15, METHOD), (51, 56, LOCATION), (27, 38,...</td>\n    </tr>\n    <tr>\n      <th>4</th>\n      <td>[Web발신] [신한체크취소] 장*진(4384) 02/13 19:23 (금액)6,0...</td>\n      <td>{'Method': '신한체크취소', 'Location': 'GS25 김유정역점',...</td>\n      <td>[(9, 15, METHOD), (50, 60, LOCATION), (27, 38,...</td>\n    </tr>\n  </tbody>\n</table>\n</div>"
     },
     "execution_count": 41,
     "metadata": {},
     "output_type": "execute_result"
    }
   ],
   "source": [
    "# Convert the 'result' column back to dictionary format from string representation\n",
    "data['result'] = data['result'].apply(lambda x: json.loads(x.replace(\"'\", \"\\\"\")))\n",
    "\n",
    "# Apply the function to find annotations for each row\n",
    "data['annotations'] = data.apply(lambda row: find_substring_indices(row['message'], row['result']), axis=1)\n",
    "\n",
    "# Show the DataFrame to confirm the 'annotations' column\n",
    "data[['message', 'result', 'annotations']].head()"
   ],
   "metadata": {
    "collapsed": false,
    "ExecuteTime": {
     "end_time": "2024-04-03T04:24:19.827529Z",
     "start_time": "2024-04-03T04:24:19.817942Z"
    }
   },
   "id": "39b896a9b176b7aa",
   "execution_count": 41
  },
  {
   "cell_type": "code",
   "outputs": [],
   "source": [
    "data.to_excel('./data/NER학습데이터/NER_결제취소.xlsx', index=False)"
   ],
   "metadata": {
    "collapsed": false,
    "ExecuteTime": {
     "end_time": "2024-04-03T04:24:19.838102Z",
     "start_time": "2024-04-03T04:24:19.828200Z"
    }
   },
   "id": "fd9110c75d60ff63",
   "execution_count": 42
  }
 ],
 "metadata": {
  "kernelspec": {
   "display_name": "Python 3",
   "language": "python",
   "name": "python3"
  },
  "language_info": {
   "codemirror_mode": {
    "name": "ipython",
    "version": 2
   },
   "file_extension": ".py",
   "mimetype": "text/x-python",
   "name": "python",
   "nbconvert_exporter": "python",
   "pygments_lexer": "ipython2",
   "version": "2.7.6"
  }
 },
 "nbformat": 4,
 "nbformat_minor": 5
}
