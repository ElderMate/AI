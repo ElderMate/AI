{
 "cells": [
  {
   "cell_type": "code",
   "execution_count": 1,
   "id": "initial_id",
   "metadata": {
    "collapsed": true,
    "ExecuteTime": {
     "end_time": "2024-03-27T11:42:05.996095Z",
     "start_time": "2024-03-27T11:41:59.696429Z"
    }
   },
   "outputs": [],
   "source": [
    "import pandas as pd\n",
    "import numpy as np\n",
    "from transformers import BertTokenizerFast, BertForTokenClassification, Trainer, TrainingArguments\n",
    "from torch.utils.data import Dataset\n",
    "import torch\n",
    "import ast"
   ]
  },
  {
   "cell_type": "markdown",
   "source": [
    "## 데이터 파일 읽기"
   ],
   "metadata": {
    "collapsed": false
   },
   "id": "e1c86fd25c76c7b0"
  },
  {
   "cell_type": "code",
   "outputs": [
    {
     "data": {
      "text/plain": "                                             message  \\\n0  [Web발신] [신한체크승인] 장*진(4384) 01/03 17:24 (금액)5,0...   \n1  [Web발신] [신한체크승인] 장*진(4384) 01/05 12:04 (금액)5,0...   \n2  [Web발신] [신한체크승인] 장*진(4384) 08/16 22:47 (금액)1,5...   \n3  [Web발신] [신한체크승인] 장*진(8730) 12/20 13:35 (금액)4,2...   \n4  [Web발신] [신한체크승인] 장*진(8730) 12/21 23:30 (금액)1,0...   \n\n                                              result  \\\n0  {\\n\"Method\":\"신한체크\",\\n\"Location\":\"서부카투사식당\",\\n\"T...   \n1  {\\n\"Method\":\"신한체크\",\\n\"Location\":\"서부카투사식당\",\\n\"T...   \n2  {\\n\"Method\":\"신한체크\",\\n\"Location\":\"태평할인마트\",\\n\"Ti...   \n3  {\\n\"Method\":\"신한체크\",\\n\"Location\":\"한솥도시락한림대앞점\",\\...   \n4  {\\n\"Method\":\"신한체크\",\\n\"Location\":\"네이버페이\",\\n\"Tim...   \n\n                                         annotations  \n0  [(9, 13, 'METHOD'), (50, 57, 'LOCATION'), (27,...  \n1  [(9, 13, 'METHOD'), (50, 57, 'LOCATION'), (27,...  \n2  [(9, 13, 'METHOD'), (50, 56, 'LOCATION'), (27,...  \n3  [(9, 13, 'METHOD'), (50, 60, 'LOCATION'), (27,...  \n4  [(9, 13, 'METHOD'), (50, 55, 'LOCATION'), (27,...  ",
      "text/html": "<div>\n<style scoped>\n    .dataframe tbody tr th:only-of-type {\n        vertical-align: middle;\n    }\n\n    .dataframe tbody tr th {\n        vertical-align: top;\n    }\n\n    .dataframe thead th {\n        text-align: right;\n    }\n</style>\n<table border=\"1\" class=\"dataframe\">\n  <thead>\n    <tr style=\"text-align: right;\">\n      <th></th>\n      <th>message</th>\n      <th>result</th>\n      <th>annotations</th>\n    </tr>\n  </thead>\n  <tbody>\n    <tr>\n      <th>0</th>\n      <td>[Web발신] [신한체크승인] 장*진(4384) 01/03 17:24 (금액)5,0...</td>\n      <td>{\\n\"Method\":\"신한체크\",\\n\"Location\":\"서부카투사식당\",\\n\"T...</td>\n      <td>[(9, 13, 'METHOD'), (50, 57, 'LOCATION'), (27,...</td>\n    </tr>\n    <tr>\n      <th>1</th>\n      <td>[Web발신] [신한체크승인] 장*진(4384) 01/05 12:04 (금액)5,0...</td>\n      <td>{\\n\"Method\":\"신한체크\",\\n\"Location\":\"서부카투사식당\",\\n\"T...</td>\n      <td>[(9, 13, 'METHOD'), (50, 57, 'LOCATION'), (27,...</td>\n    </tr>\n    <tr>\n      <th>2</th>\n      <td>[Web발신] [신한체크승인] 장*진(4384) 08/16 22:47 (금액)1,5...</td>\n      <td>{\\n\"Method\":\"신한체크\",\\n\"Location\":\"태평할인마트\",\\n\"Ti...</td>\n      <td>[(9, 13, 'METHOD'), (50, 56, 'LOCATION'), (27,...</td>\n    </tr>\n    <tr>\n      <th>3</th>\n      <td>[Web발신] [신한체크승인] 장*진(8730) 12/20 13:35 (금액)4,2...</td>\n      <td>{\\n\"Method\":\"신한체크\",\\n\"Location\":\"한솥도시락한림대앞점\",\\...</td>\n      <td>[(9, 13, 'METHOD'), (50, 60, 'LOCATION'), (27,...</td>\n    </tr>\n    <tr>\n      <th>4</th>\n      <td>[Web발신] [신한체크승인] 장*진(8730) 12/21 23:30 (금액)1,0...</td>\n      <td>{\\n\"Method\":\"신한체크\",\\n\"Location\":\"네이버페이\",\\n\"Tim...</td>\n      <td>[(9, 13, 'METHOD'), (50, 55, 'LOCATION'), (27,...</td>\n    </tr>\n  </tbody>\n</table>\n</div>"
     },
     "execution_count": 2,
     "metadata": {},
     "output_type": "execute_result"
    }
   ],
   "source": [
    "file_path = './data/NER_결제승인.xlsx'\n",
    "data = pd.read_excel(file_path)\n",
    "\n",
    "data.head()"
   ],
   "metadata": {
    "collapsed": false,
    "ExecuteTime": {
     "end_time": "2024-03-27T11:42:06.096006Z",
     "start_time": "2024-03-27T11:42:05.997204Z"
    }
   },
   "id": "b221bdfba09aa941",
   "execution_count": 2
  },
  {
   "cell_type": "markdown",
   "source": [
    "## 데이터 전처리"
   ],
   "metadata": {
    "collapsed": false
   },
   "id": "73c101cbbd6e9694"
  },
  {
   "cell_type": "code",
   "outputs": [],
   "source": [
    "# annotations 컬럼의 문자열을 파이썬 리스트로 변환\n",
    "data['annotations'] = data['annotations'].apply(ast.literal_eval)\n",
    "\n",
    "# 태그를 정수로 매핑하는 딕셔너리\n",
    "tag2id = {'O': 0, 'METHOD': 1, 'LOCATION': 2, 'TIME': 3, 'COST': 4}\n",
    "\n",
    "# 사전 훈련된 토크나이저 로드\n",
    "tokenizer = BertTokenizerFast.from_pretrained('bert-base-uncased')"
   ],
   "metadata": {
    "collapsed": false,
    "ExecuteTime": {
     "end_time": "2024-03-27T11:42:06.463943Z",
     "start_time": "2024-03-27T11:42:06.096799Z"
    }
   },
   "id": "946d2699dc4e68ab",
   "execution_count": 3
  },
  {
   "cell_type": "markdown",
   "source": [
    "## 토큰화 및 엔티티 태그 할당"
   ],
   "metadata": {
    "collapsed": false
   },
   "id": "a058ae3ac0bd162b"
  },
  {
   "cell_type": "code",
   "outputs": [],
   "source": [
    "# 토큰화 및 태그 할당 함수\n",
    "def tokenize_and_align_labels(texts, annotations, tokenizer):\n",
    "    tokenized_inputs = tokenizer(texts, truncation=True, padding=True, is_split_into_words=False, return_offsets_mapping=True)\n",
    "    labels = []\n",
    "\n",
    "    for i, annotation in enumerate(annotations):\n",
    "        doc_labels = np.ones(len(tokenized_inputs['input_ids'][i]), dtype=int) * -100\n",
    "        offsets = tokenized_inputs['offset_mapping'][i]\n",
    "\n",
    "        for start, end, tag in annotation:\n",
    "            token_start_index = 0\n",
    "            token_end_index = 0\n",
    "\n",
    "            # 시작 인덱스와 끝 인덱스 찾기\n",
    "            for idx, (offset_start, offset_end) in enumerate(offsets):\n",
    "                if start >= offset_start and start < offset_end:\n",
    "                    token_start_index = idx\n",
    "                    break\n",
    "            for idx, (offset_start, offset_end) in enumerate(offsets):\n",
    "                if end > offset_start and end <= offset_end:\n",
    "                    token_end_index = idx\n",
    "                    break\n",
    "\n",
    "            # 해당 범위의 토큰들에 태그 할당\n",
    "            if tag in tag2id:\n",
    "                doc_labels[token_start_index:token_end_index + 1] = tag2id[tag]\n",
    "\n",
    "        labels.append(doc_labels)\n",
    "\n",
    "    # offset_mapping 정보는 더 이상 필요 없으므로 제거\n",
    "    tokenized_inputs.pop('offset_mapping')\n",
    "    return tokenized_inputs, labels"
   ],
   "metadata": {
    "collapsed": false,
    "ExecuteTime": {
     "end_time": "2024-03-27T11:42:06.470388Z",
     "start_time": "2024-03-27T11:42:06.465564Z"
    }
   },
   "id": "cc8dc969b80d7fe4",
   "execution_count": 4
  },
  {
   "cell_type": "code",
   "outputs": [],
   "source": [
    "# 실제 데이터에 대해 토큰화 및 태그 할당\n",
    "texts = data['message'].tolist()\n",
    "annotations = data['annotations'].tolist()\n",
    "tokenized_texts, labels = tokenize_and_align_labels(texts, annotations, tokenizer)"
   ],
   "metadata": {
    "collapsed": false,
    "ExecuteTime": {
     "end_time": "2024-03-27T11:42:06.479906Z",
     "start_time": "2024-03-27T11:42:06.471093Z"
    }
   },
   "id": "d2fbb357cbba839a",
   "execution_count": 5
  },
  {
   "cell_type": "markdown",
   "source": [
    "## 훈련 데이터 셋 준비"
   ],
   "metadata": {
    "collapsed": false
   },
   "id": "781d2827e4c73338"
  },
  {
   "cell_type": "code",
   "outputs": [],
   "source": [
    "# 데이터셋 클래스 정의\n",
    "class NERDataset(Dataset):\n",
    "    def __init__(self, encodings, labels=None):\n",
    "        self.encodings = encodings\n",
    "        self.labels = labels\n",
    "\n",
    "    def __getitem__(self, idx):\n",
    "        item = {key: torch.tensor(val[idx]) for key, val in self.encodings.items()}\n",
    "        if self.labels is not None:\n",
    "            item['labels'] = torch.tensor(self.labels[idx])\n",
    "        return item\n",
    "\n",
    "    def __len__(self):\n",
    "        return len(self.encodings['input_ids'])\n"
   ],
   "metadata": {
    "collapsed": false,
    "ExecuteTime": {
     "end_time": "2024-03-27T11:42:06.483236Z",
     "start_time": "2024-03-27T11:42:06.480676Z"
    }
   },
   "id": "9e9c5e2df5ff04c3",
   "execution_count": 6
  },
  {
   "cell_type": "code",
   "outputs": [],
   "source": [
    "# 데이터셋 객체 생성\n",
    "train_dataset = NERDataset(tokenized_texts, labels)"
   ],
   "metadata": {
    "collapsed": false,
    "ExecuteTime": {
     "end_time": "2024-03-27T11:42:06.486833Z",
     "start_time": "2024-03-27T11:42:06.484189Z"
    }
   },
   "id": "a5cfac38a30e78c0",
   "execution_count": 7
  },
  {
   "cell_type": "markdown",
   "source": [
    "## 모델 및 학습 설정"
   ],
   "metadata": {
    "collapsed": false
   },
   "id": "7eb4a3750f3d80e2"
  },
  {
   "cell_type": "code",
   "outputs": [
    {
     "name": "stderr",
     "output_type": "stream",
     "text": [
      "Some weights of BertForTokenClassification were not initialized from the model checkpoint at bert-base-uncased and are newly initialized: ['classifier.bias', 'classifier.weight']\n",
      "You should probably TRAIN this model on a down-stream task to be able to use it for predictions and inference.\n"
     ]
    }
   ],
   "source": [
    "# 모델 로드\n",
    "model = BertForTokenClassification.from_pretrained('bert-base-uncased', num_labels=len(tag2id))\n"
   ],
   "metadata": {
    "collapsed": false,
    "ExecuteTime": {
     "end_time": "2024-03-27T11:42:08.022671Z",
     "start_time": "2024-03-27T11:42:06.487589Z"
    }
   },
   "id": "18ee0d7648c5195",
   "execution_count": 8
  },
  {
   "cell_type": "code",
   "outputs": [],
   "source": [
    "# 훈련 설정\n",
    "training_args = TrainingArguments(\n",
    "    output_dir='./model',\n",
    "    num_train_epochs=10,\n",
    "    per_device_train_batch_size=16,\n",
    "    warmup_steps=500,\n",
    "    weight_decay=0.01,\n",
    "    logging_dir='./logs',\n",
    ")"
   ],
   "metadata": {
    "collapsed": false,
    "ExecuteTime": {
     "end_time": "2024-03-27T11:42:08.121647Z",
     "start_time": "2024-03-27T11:42:08.024684Z"
    }
   },
   "id": "d528c001c706aa9e",
   "execution_count": 9
  },
  {
   "cell_type": "code",
   "outputs": [
    {
     "name": "stderr",
     "output_type": "stream",
     "text": [
      "/Users/jang-ujin/PycharmProjects/elderMate_AI/.venv/lib/python3.10/site-packages/accelerate/accelerator.py:432: FutureWarning: Passing the following arguments to `Accelerator` is deprecated and will be removed in version 1.0 of Accelerate: dict_keys(['dispatch_batches', 'split_batches', 'even_batches', 'use_seedable_sampler']). Please pass an `accelerate.DataLoaderConfiguration` instead: \n",
      "dataloader_config = DataLoaderConfiguration(dispatch_batches=None, split_batches=False, even_batches=True, use_seedable_sampler=True)\n",
      "  warnings.warn(\n"
     ]
    },
    {
     "data": {
      "text/plain": "<IPython.core.display.HTML object>",
      "text/html": "\n    <div>\n      \n      <progress value='30' max='30' style='width:300px; height:20px; vertical-align: middle;'></progress>\n      [30/30 00:31, Epoch 10/10]\n    </div>\n    <table border=\"1\" class=\"dataframe\">\n  <thead>\n <tr style=\"text-align: left;\">\n      <th>Step</th>\n      <th>Training Loss</th>\n    </tr>\n  </thead>\n  <tbody>\n  </tbody>\n</table><p>"
     },
     "metadata": {},
     "output_type": "display_data"
    },
    {
     "data": {
      "text/plain": "TrainOutput(global_step=30, training_loss=1.4053236643473308, metrics={'train_runtime': 38.1549, 'train_samples_per_second': 11.532, 'train_steps_per_second': 0.786, 'total_flos': 22680357070800.0, 'train_loss': 1.4053236643473308, 'epoch': 10.0})"
     },
     "execution_count": 10,
     "metadata": {},
     "output_type": "execute_result"
    }
   ],
   "source": [
    "# 트레이너 생성 및 훈련 시작\n",
    "trainer = Trainer(\n",
    "    model=model,\n",
    "    args=training_args,\n",
    "    train_dataset=train_dataset,\n",
    ")\n",
    "\n",
    "trainer.train()"
   ],
   "metadata": {
    "collapsed": false,
    "ExecuteTime": {
     "end_time": "2024-03-27T11:42:47.080470Z",
     "start_time": "2024-03-27T11:42:08.124222Z"
    }
   },
   "id": "4f825424088cb8c3",
   "execution_count": 10
  },
  {
   "cell_type": "markdown",
   "source": [
    "## 모델 저장"
   ],
   "metadata": {
    "collapsed": false
   },
   "id": "8ae12adee1b9ddb2"
  },
  {
   "cell_type": "code",
   "outputs": [
    {
     "data": {
      "text/plain": "('./model/bert/tokenizer_config.json',\n './model/bert/special_tokens_map.json',\n './model/bert/vocab.txt',\n './model/bert/added_tokens.json',\n './model/bert/tokenizer.json')"
     },
     "execution_count": 12,
     "metadata": {},
     "output_type": "execute_result"
    }
   ],
   "source": [
    "# 모델 저장\n",
    "model_path = \"./model/bert\"\n",
    "model.save_pretrained(model_path)\n",
    "tokenizer.save_pretrained(model_path)"
   ],
   "metadata": {
    "collapsed": false,
    "ExecuteTime": {
     "end_time": "2024-03-27T11:44:23.249685Z",
     "start_time": "2024-03-27T11:44:22.094190Z"
    }
   },
   "id": "fc29c3208de3c162",
   "execution_count": 12
  }
 ],
 "metadata": {
  "kernelspec": {
   "display_name": "Python 3",
   "language": "python",
   "name": "python3"
  },
  "language_info": {
   "codemirror_mode": {
    "name": "ipython",
    "version": 2
   },
   "file_extension": ".py",
   "mimetype": "text/x-python",
   "name": "python",
   "nbconvert_exporter": "python",
   "pygments_lexer": "ipython2",
   "version": "2.7.6"
  }
 },
 "nbformat": 4,
 "nbformat_minor": 5
}
