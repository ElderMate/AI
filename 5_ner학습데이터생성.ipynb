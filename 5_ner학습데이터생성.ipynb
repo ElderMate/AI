{
 "cells": [
  {
   "cell_type": "markdown",
   "source": [
    "## 필요한 라이브러리 import"
   ],
   "metadata": {
    "collapsed": false
   },
   "id": "a927d700311e8dbc"
  },
  {
   "cell_type": "code",
   "execution_count": null,
   "id": "initial_id",
   "metadata": {
    "collapsed": true
   },
   "outputs": [],
   "source": []
  },
  {
   "cell_type": "markdown",
   "source": [
    "## 프롬프트 생성 함수"
   ],
   "metadata": {
    "collapsed": false
   },
   "id": "75fbe1a7ff8cb3ad"
  },
  {
   "cell_type": "code",
   "outputs": [],
   "source": [
    "def generate_gpt_prompts(messages, domains, ex_input, ex_output):\n",
    "    \"\"\"\n",
    "    주어진 메시지 리스트에서 15개의 메시지와 도메인 종류 리스트를 기반으로 GPT에 질문하는 프롬프트를 생성하는 함수.\n",
    "    \n",
    "    Args:\n",
    "    - messages (list of str): 분석할 메시지들의 리스트.\n",
    "    - domains (list of str): 추출할 도메인 종류의 리스트.\n",
    "    - ex_input (str): 입력 예시 데이터\n",
    "    - ex_output (str): 출력 예시 데이터\n",
    "    \n",
    "    \n",
    "    Returns:\n",
    "    - List of str: 각 메시지에 대한 GPT 질의 프롬프트 리스트.\n",
    "    \"\"\"\n",
    "    prompt = f\"\"\"\n",
    "\n",
    "\"\"\"\n",
    "    prompts = []\n",
    "    for message in messages:\n",
    "        # 각 메시지에 대한 프롬프트 생성\n",
    "        prompt = f\"다음 메시지에서 다음 도메인 정보를 식별하고 추출하세요: {', '.join(domains)}.\\n메시지: {message}\\n추출된 정보:\"\n",
    "        prompts.append(prompt)\n",
    "    \n",
    "    return prompts\n",
    "\n",
    "# 예제 메시지 리스트와 도메인 리스트\n",
    "messages_example = [\n",
    "    \"[Web발신] [신한체크승인] 장*진(4384) 01/03 17:24 (금액)5,000원 [서부카투사식당]\",\n",
    "    \"[Web발신] [신한체크승인] 장*진(4384) 08/16 22:47 (금액)1,500원 [태평할인마트]\"\n",
    "]\n",
    "domains_example = ['Method', 'Location', 'Time', 'Cost']\n",
    "\n",
    "# 함수 실행 예시\n",
    "prompts_example = generate_gpt_prompts(messages_example, domains_example)\n",
    "prompts_example[0], prompts_example[1]  # 결과의 일부만 표시\n"
   ],
   "metadata": {
    "collapsed": false
   },
   "id": "ba9cd0f8fe9807e5"
  },
  {
   "cell_type": "markdown",
   "source": [
    "## 쿼리 전송"
   ],
   "metadata": {
    "collapsed": false
   },
   "id": "d7827df9dd476775"
  },
  {
   "cell_type": "code",
   "outputs": [],
   "source": [
    "def query_gpt(prompts):\n",
    "    \"\"\"\n",
    "    주어진 프롬프트들을 GPT 모델에 질문하고, 결과를 반환하는 함수.\n",
    "    \n",
    "    Args:\n",
    "    - prompts (list of str): GPT에 제출할 질문 프롬프트 리스트.\n",
    "    \n",
    "    Returns:\n",
    "    - List of any: GPT 모델의 응답 리스트.\n",
    "    \"\"\"\n",
    "    # 모의 응답 구현. 실제 사용 시 여기에 GPT 모델 호출 코드를 포함.\n",
    "    responses = [\n",
    "        [(9, 13, 'METHOD'), (51, 58, 'LOCATION'), (27, 38, 'TIME'), (43, 49, 'COST')],\n",
    "        # 각 프롬프트에 대한 추가 응답이 필요하다면 여기에 추가\n",
    "    ]\n",
    "    return responses\n"
   ],
   "metadata": {
    "collapsed": false
   },
   "id": "7d92dc965caf13c2"
  }
 ],
 "metadata": {
  "kernelspec": {
   "display_name": "Python 3",
   "language": "python",
   "name": "python3"
  },
  "language_info": {
   "codemirror_mode": {
    "name": "ipython",
    "version": 2
   },
   "file_extension": ".py",
   "mimetype": "text/x-python",
   "name": "python",
   "nbconvert_exporter": "python",
   "pygments_lexer": "ipython2",
   "version": "2.7.6"
  }
 },
 "nbformat": 4,
 "nbformat_minor": 5
}
